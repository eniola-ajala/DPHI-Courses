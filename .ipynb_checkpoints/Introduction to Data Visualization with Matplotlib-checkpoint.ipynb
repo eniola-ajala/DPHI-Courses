{
 "cells": [
  {
   "cell_type": "markdown",
   "id": "22fe0fc5",
   "metadata": {},
   "source": [
    "# What is Data Visualisation?\n",
    "Data Visualization is the representation of data or information in a graph, chart, or other visual format.\n",
    "\n",
    "It communicates relationships of the data with images."
   ]
  },
  {
   "cell_type": "markdown",
   "id": "773c61e9",
   "metadata": {},
   "source": [
    "# Why Data Visualisation?\n",
    "A visual summary of information makes it easier to identify patterns, trends and outliers than looking through thousands of rows on a spreadsheet.\n",
    "\n",
    "It’s the way the human brain works.\n",
    "\n",
    "Since the purpose of data analysis is to gain insights, data is much more valuable when it is visualized.\n",
    "\n",
    "“A picture is worth a thousand words”\n",
    "Our eyes are drawn to colors and patterns. We can quickly identify red from blue, square from circle. Our culture is visual, including everything from art and advertisements to TV and movies.\n",
    "\n",
    "Data visualization is another form of visual art that grabs our interest and keeps our eyes on the message.\n",
    "\n",
    "You’ve been surrounded by Data Visualisations all this while!\n",
    "\n",
    "Real-Life Data Visualization\n",
    "Google Map Traffic visualization\n",
    "The live traffic status in Google map is another simple example of what is possible through data visualization to make our life simple and easy. You can see the red colour indicating slow traffic area in the city on the map and blue colour indicating fast etc."
   ]
  },
  {
   "cell_type": "markdown",
   "id": "02db9af6",
   "metadata": {},
   "source": [
    "# Data Visualisation in Python\n",
    "Python offers multiple great graphing libraries that come packed with lots of different functionalities. No matter if you want to create interactive, live, or highly customized plots, python has an excellent library for you.\n",
    "\n",
    "To get a little overview, here are a few popular plotting libraries:\n",
    "\n",
    "Matplotlib\n",
    "\n",
    "Pandas Visualization\n",
    "\n",
    "Seaborn\n",
    "\n",
    "ggplot\n",
    "\n",
    "Plotly\n",
    "\n",
    "Bokeh\n",
    "\n",
    "Altair"
   ]
  },
  {
   "cell_type": "markdown",
   "id": "9c6ebbcc",
   "metadata": {},
   "source": [
    "# Introduction\n",
    "Matplotlib is the most popular Python plotting library.\n",
    "It is a comprehensive library for creating static, animated, and interactive visualizations in Python.\n",
    "It is useful for those working with Python and NumPy.\n",
    "It is a low-level library with a MATLAB-like interface which offers lots of freedom at the cost of having to write more code.\n",
    "Advantages\n",
    "Extremely powerful\n",
    "Fast and efficient\n",
    "Open source\n",
    "Works well with many operating systems and graphic backends\n",
    "High-quality graphics and plots\n",
    "Ability to print and view a range of graphs\n",
    "Large community support and cross-platform support\n",
    "Full control over graph or plot styles\n",
    "Installation\n",
    "Before Matplotlib's plotting functions can be used, Matplotlib needs to be installed.\n",
    "The Anaconda distribution of Python and Google Colab come with Matplotlib pre-installed, and no further installation steps are necessary.\n",
    "However, if you're not using any of those, you can install it by running a simple pip command in your terminal:"
   ]
  },
  {
   "cell_type": "code",
   "execution_count": 1,
   "id": "5f299a0a",
   "metadata": {},
   "outputs": [],
   "source": [
    "# pip install matplotlib"
   ]
  },
  {
   "cell_type": "markdown",
   "id": "ed2eb54e",
   "metadata": {},
   "source": [
    "# Pyplot\n",
    "The most used module of Matplotlib is Pyplot which is Matplotlib's plotting framework.\n",
    "\n",
    "Each pyplot function makes some change to a figure: e.g., creates a figure, creates a plotting area in a figure, plots some lines in a plotting area, decorates the plot with labels, etc.\n",
    "\n",
    "# Importing matplotlib\n",
    "There are a lot of modules in Matplotlib, but for plotting purposes, we only import pyplot.\n",
    "\n",
    "Just as we use the np shorthand for NumPy and the pd shorthand for Pandas, we will use the standard shorthand 'plt' for the Matplotlib import:"
   ]
  },
  {
   "cell_type": "code",
   "execution_count": 2,
   "id": "14a9aa3d",
   "metadata": {},
   "outputs": [],
   "source": [
    "import matplotlib.pyplot as plt"
   ]
  },
  {
   "cell_type": "markdown",
   "id": "d5d87771",
   "metadata": {},
   "source": [
    "# Matplotlib Chart\n",
    "Matplotlib’s charts are made up of two main components:\n",
    "\n",
    "The axes: the lines that delimit the area of the chart\n",
    "\n",
    "The figure: where we draw the axes, titles, and elements that come out of the area of the axes.\n",
    "Note: Unlike the plural of axis, axes in Matplotlib is actually the whole rectangular box containing the axis lines, ticks, and labels."
   ]
  },
  {
   "cell_type": "markdown",
   "id": "0a6fd2b7",
   "metadata": {},
   "source": [
    "# Importing libraries\n",
    "All Python capabilities are not loaded to our working environment by default (even if they are already installed in your system). So, we import each and every library that we want to use.\n",
    "\n",
    "We’ll import numpy, pandas and matplotlib with their respective aliases: np, pd and plt."
   ]
  },
  {
   "cell_type": "code",
   "execution_count": 3,
   "id": "fd8ebedc",
   "metadata": {},
   "outputs": [],
   "source": [
    "import matplotlib.pyplot as plt # for data visualisation\n",
    "import numpy as np # for array related operations\n",
    "import pandas as pd  # for working with CSV files"
   ]
  },
  {
   "cell_type": "markdown",
   "id": "26aafbf9",
   "metadata": {},
   "source": [
    "# About the Dataset\n",
    "Dataset Name: Standard Metropolitan Dataset\n",
    "\n",
    "Dataset Description:\n",
    "\n",
    "It contains data of 99 standard metropolitan areas in the US, i.e., 99 row entries.\n",
    "The dataset provides information on 11 variables for each area for the period 1976-1977.\n",
    "The areas have been divided into 4 geographic regions: 1=North-East, 2=North-Central, 3=South, 4=West.\n",
    "The variables provided are listed in the table below:"
   ]
  },
  {
   "cell_type": "markdown",
   "id": "8d73476e",
   "metadata": {},
   "source": [
    "# Objective\n",
    "The problem objective is to find the crime rate of each area."
   ]
  },
  {
   "cell_type": "markdown",
   "id": "9d3b302b",
   "metadata": {},
   "source": [
    "# Loading the dataset\n",
    "For loading the dataset, we’ll use the Pandas read_csv method."
   ]
  },
  {
   "cell_type": "code",
   "execution_count": 15,
   "id": "54f340d4",
   "metadata": {},
   "outputs": [],
   "source": [
    "crime = pd.read_csv(\"https://raw.githubusercontent.com/dphi-official/Datasets/master/Standard_Metropolitan_Areas_Data-data.csv\")"
   ]
  },
  {
   "cell_type": "code",
   "execution_count": 16,
   "id": "ff66691d",
   "metadata": {},
   "outputs": [
    {
     "data": {
      "text/html": [
       "<div>\n",
       "<style scoped>\n",
       "    .dataframe tbody tr th:only-of-type {\n",
       "        vertical-align: middle;\n",
       "    }\n",
       "\n",
       "    .dataframe tbody tr th {\n",
       "        vertical-align: top;\n",
       "    }\n",
       "\n",
       "    .dataframe thead th {\n",
       "        text-align: right;\n",
       "    }\n",
       "</style>\n",
       "<table border=\"1\" class=\"dataframe\">\n",
       "  <thead>\n",
       "    <tr style=\"text-align: right;\">\n",
       "      <th></th>\n",
       "      <th>land_area</th>\n",
       "      <th>percent_city</th>\n",
       "      <th>percent_senior</th>\n",
       "      <th>physicians</th>\n",
       "      <th>hospital_beds</th>\n",
       "      <th>graduates</th>\n",
       "      <th>work_force</th>\n",
       "      <th>income</th>\n",
       "      <th>region</th>\n",
       "      <th>crime_rate</th>\n",
       "    </tr>\n",
       "  </thead>\n",
       "  <tbody>\n",
       "    <tr>\n",
       "      <th>0</th>\n",
       "      <td>1384</td>\n",
       "      <td>78.1</td>\n",
       "      <td>12.3</td>\n",
       "      <td>25627</td>\n",
       "      <td>69678</td>\n",
       "      <td>50.1</td>\n",
       "      <td>4083.9</td>\n",
       "      <td>72100</td>\n",
       "      <td>1</td>\n",
       "      <td>75.55</td>\n",
       "    </tr>\n",
       "    <tr>\n",
       "      <th>1</th>\n",
       "      <td>3719</td>\n",
       "      <td>43.9</td>\n",
       "      <td>9.4</td>\n",
       "      <td>13326</td>\n",
       "      <td>43292</td>\n",
       "      <td>53.9</td>\n",
       "      <td>3305.9</td>\n",
       "      <td>54542</td>\n",
       "      <td>2</td>\n",
       "      <td>56.03</td>\n",
       "    </tr>\n",
       "    <tr>\n",
       "      <th>2</th>\n",
       "      <td>3553</td>\n",
       "      <td>37.4</td>\n",
       "      <td>10.7</td>\n",
       "      <td>9724</td>\n",
       "      <td>33731</td>\n",
       "      <td>50.6</td>\n",
       "      <td>2066.3</td>\n",
       "      <td>33216</td>\n",
       "      <td>1</td>\n",
       "      <td>41.32</td>\n",
       "    </tr>\n",
       "    <tr>\n",
       "      <th>3</th>\n",
       "      <td>3916</td>\n",
       "      <td>29.9</td>\n",
       "      <td>8.8</td>\n",
       "      <td>6402</td>\n",
       "      <td>24167</td>\n",
       "      <td>52.2</td>\n",
       "      <td>1966.7</td>\n",
       "      <td>32906</td>\n",
       "      <td>2</td>\n",
       "      <td>67.38</td>\n",
       "    </tr>\n",
       "    <tr>\n",
       "      <th>4</th>\n",
       "      <td>2480</td>\n",
       "      <td>31.5</td>\n",
       "      <td>10.5</td>\n",
       "      <td>8502</td>\n",
       "      <td>16751</td>\n",
       "      <td>66.1</td>\n",
       "      <td>1514.5</td>\n",
       "      <td>26573</td>\n",
       "      <td>4</td>\n",
       "      <td>80.19</td>\n",
       "    </tr>\n",
       "  </tbody>\n",
       "</table>\n",
       "</div>"
      ],
      "text/plain": [
       "   land_area  percent_city  percent_senior  physicians  hospital_beds  \\\n",
       "0       1384          78.1            12.3       25627          69678   \n",
       "1       3719          43.9             9.4       13326          43292   \n",
       "2       3553          37.4            10.7        9724          33731   \n",
       "3       3916          29.9             8.8        6402          24167   \n",
       "4       2480          31.5            10.5        8502          16751   \n",
       "\n",
       "   graduates  work_force  income  region  crime_rate  \n",
       "0       50.1      4083.9   72100       1       75.55  \n",
       "1       53.9      3305.9   54542       2       56.03  \n",
       "2       50.6      2066.3   33216       1       41.32  \n",
       "3       52.2      1966.7   32906       2       67.38  \n",
       "4       66.1      1514.5   26573       4       80.19  "
      ]
     },
     "execution_count": 16,
     "metadata": {},
     "output_type": "execute_result"
    }
   ],
   "source": [
    "crime.head()  # to display the first five rows of the dataset"
   ]
  },
  {
   "cell_type": "markdown",
   "id": "182e3c23",
   "metadata": {},
   "source": [
    "# Basic Plots I - Scatter Plot, Line Plot\n",
    "The terms Plot, Chart, and Graph partly overlap, they are used somewhat loosely, and in that overlap, there isn't really any significant difference that you need to know right now.\n",
    "Therefore, there’s no need to be confused if you find Bar Plot, Bar Graph, and Bar Chart being used interchangeably at places.\n",
    "Let’s have a look at the commonly used plots in Matplotlib now."
   ]
  },
  {
   "cell_type": "markdown",
   "id": "388ae8f5",
   "metadata": {},
   "source": [
    "# Scatter Plot\n",
    "What is Scatter Plot?\n",
    "A scatter plot (aka scatter chart, scatter graph) uses dots to represent values for different numeric variables.\n",
    "\n",
    "The position of each dot on the horizontal and vertical axis indicates values for an individual data point.\n",
    "\n",
    "Scatter plots are used to observe relationships between variables."
   ]
  },
  {
   "cell_type": "markdown",
   "id": "c8752480",
   "metadata": {},
   "source": [
    "# Creating a Scatter Plot\n",
    "To create a scatter plot in Matplotlib we can use the .scatter() method:"
   ]
  },
  {
   "cell_type": "code",
   "execution_count": 17,
   "id": "407c12d3",
   "metadata": {},
   "outputs": [
    {
     "data": {
      "image/png": "[encoded data removed]",
      "text/plain": [
       "<Figure size 432x288 with 1 Axes>"
      ]
     },
     "metadata": {
      "needs_background": "light"
     },
     "output_type": "display_data"
    }
   ],
   "source": [
    "plt.scatter(crime.crime_rate, crime.percent_senior)  # plotting the scatter plot\n",
    "plt.show()   # showing the figure"
   ]
  },
  {
   "cell_type": "markdown",
   "id": "447adee9",
   "metadata": {},
   "source": [
    "# Is plt.show( ) always required?\n",
    "You might’ve observed the line plt.show( ) after the plt.scatter( ). Is it necessary to use?\n",
    "\n",
    "If Matplotlib is used in a terminal, scripts or specialized IDEs such as Spyder, Pycharm or VS Code, plt.show() is a must.\n",
    "\n",
    "If Matplotlib is used in an iPython shell or a notebook as Jupyter Notebook or Colab Notebook, plt.show() is usually unnecessary.\n",
    "\n",
    "The plt.show() command does a lot under the hood, as it must interact with your system's interactive graphical backend. The details of this operation can vary greatly from system to system and even installation to installation, but matplotlib does its best to hide all these details from you.\n",
    "\n",
    "In the following cell we are executing the same script as above, removing the plt.show() instruction:"
   ]
  },
  {
   "cell_type": "code",
   "execution_count": 18,
   "id": "45eaf303",
   "metadata": {},
   "outputs": [
    {
     "data": {
      "text/plain": [
       "<matplotlib.collections.PathCollection at 0x2c88078c310>"
      ]
     },
     "execution_count": 18,
     "metadata": {},
     "output_type": "execute_result"
    },
    {
     "data": {
      "image/png": "[encoded data removed]",
      "text/plain": [
       "<Figure size 432x288 with 1 Axes>"
      ]
     },
     "metadata": {
      "needs_background": "light"
     },
     "output_type": "display_data"
    }
   ],
   "source": [
    "# The same code block without plt.show() gives the same result in Jupyter Notebook\n",
    "plt.scatter(crime.crime_rate, crime.percent_senior)"
   ]
  },
  {
   "cell_type": "markdown",
   "id": "c0e7d93f",
   "metadata": {},
   "source": [
    "The only difference is the inclusion of the figure output object.\n",
    "\n",
    "If you want to prevent this from being included as a cell output, use plt.show() at the end of each plotting instruction."
   ]
  },
  {
   "cell_type": "markdown",
   "id": "25ceb805",
   "metadata": {},
   "source": [
    "# Applications of Scatter Plot\n",
    "A scatter plot can be useful for identifying other patterns in data.\n",
    "We can divide data points into groups based on how closely sets of points cluster together.\n",
    "\n",
    "Scatter plots can also show if there are any unexpected gaps in the data and if there are any outlier points. (Look at the 2 points away from rest of the data in the scatter plot. Those are outliers.)\n",
    "\n",
    "This can be useful if we want to segment the data into different parts, like categorising users into different groups."
   ]
  },
  {
   "cell_type": "markdown",
   "id": "ebe3a17e",
   "metadata": {},
   "source": [
    "# Line Plot\n",
    "What is Line Plot?\n",
    "\n",
    "A line chart is used to represent data over a continuous time span. It is generally used to show trend of a variable over time. Data values are plotted as points that are connected using line segments.\n",
    "\n",
    "## Creating a Line Plot (with 2 arguments)\n",
    "In Matplotlib we can create a line chart by calling the plot method.\n",
    "\n",
    "plot() is a versatile command, and can take an arbitrary number of arguments."
   ]
  },
  {
   "cell_type": "code",
   "execution_count": 19,
   "id": "971b29a5",
   "metadata": {},
   "outputs": [
    {
     "data": {
      "text/plain": [
       "[<matplotlib.lines.Line2D at 0x2c8807ec9d0>]"
      ]
     },
     "execution_count": 19,
     "metadata": {},
     "output_type": "execute_result"
    },
    {
     "data": {
      "image/png": "[encoded data removed]",
      "text/plain": [
       "<Figure size 432x288 with 1 Axes>"
      ]
     },
     "metadata": {
      "needs_background": "light"
     },
     "output_type": "display_data"
    }
   ],
   "source": [
    "plt.plot(crime.crime_rate, crime.percent_senior) # 2 arguments: X and Y points"
   ]
  },
  {
   "cell_type": "code",
   "execution_count": 20,
   "id": "baccaf9c",
   "metadata": {},
   "outputs": [
    {
     "data": {
      "text/plain": [
       "[<matplotlib.lines.Line2D at 0x2c880847c40>]"
      ]
     },
     "execution_count": 20,
     "metadata": {},
     "output_type": "execute_result"
    },
    {
     "data": {
      "image/png": "[encoded data removed]",
      "text/plain": [
       "<Figure size 432x288 with 1 Axes>"
      ]
     },
     "metadata": {
      "needs_background": "light"
     },
     "output_type": "display_data"
    }
   ],
   "source": [
    "plt.plot(crime.work_force, crime.income) # 2 arguments: X and Y points"
   ]
  },
  {
   "cell_type": "markdown",
   "id": "2dc84ad2",
   "metadata": {},
   "source": [
    "Because it is a line chart, matplotlib automatically draws a line to connect each pair of consecutive points that represent coordinates on the graph."
   ]
  },
  {
   "cell_type": "markdown",
   "id": "e5a4a973",
   "metadata": {},
   "source": [
    "# Creating a Line Plot (with a single argument)\n",
    "We can make a graph with a simple line of code as mentioned in the image:"
   ]
  },
  {
   "cell_type": "code",
   "execution_count": 21,
   "id": "3e72194e",
   "metadata": {},
   "outputs": [
    {
     "data": {
      "image/png": "[encoded data removed]",
      "text/plain": [
       "<Figure size 432x288 with 1 Axes>"
      ]
     },
     "metadata": {
      "needs_background": "light"
     },
     "output_type": "display_data"
    }
   ],
   "source": [
    "plt.plot([1,2,3,4])  # 1 argument\n",
    "plt.show()"
   ]
  },
  {
   "cell_type": "markdown",
   "id": "10357491",
   "metadata": {},
   "source": [
    "You may be wondering why the x-axis ranges from 0-3 and the y-axis from 1-4.\n",
    "\n",
    "If you provide a list of n elements to the .plot() function, matplotlib will assume it is a sequence of y values, and automatically generates the x values for you as a range of n elements starting from 0.\n",
    "\n",
    "Since python ranges start with 0, the default list x has the same length as y . Hence the x data will be [0,1,2,3]. (Length same as y(4) but starts from 0 instead)."
   ]
  },
  {
   "cell_type": "markdown",
   "id": "a88b8b5f",
   "metadata": {},
   "source": [
    "# Applications of Line Plot\n",
    "Using a line chart one can see the pattern of any dependent variable over time like share price, weather recordings (like temperature, precipitation or humidity), etc."
   ]
  },
  {
   "cell_type": "markdown",
   "id": "9d6d0a31",
   "metadata": {},
   "source": [
    "# Basic Plots II - Histogram, Bar Plot, Pie Chart\n",
    "Histogram\n",
    "What is a Histogram?\n",
    "A histogram is a graphical display of data using bars(rectangles) of different heights.\n",
    "\n",
    "## Parts of a Histogram\n",
    "The title: The title describes the information included in the histogram.\n",
    "\n",
    "X-axis: The X-axis are intervals that show the scale of values which the measurements fall under. These intervals are also called bins.\n",
    "\n",
    "Y-axis: The Y-axis shows the number of times that the values occurred(frequency) for each interval on the X-axis.\n",
    "\n",
    "The bars: The height of the bar shows the number of times the values occurred within the interval, while the width of the bar shows the covered interval."
   ]
  },
  {
   "cell_type": "markdown",
   "id": "ac0587ec",
   "metadata": {},
   "source": [
    "## Creating a Histogram\n",
    "Matplotlib can be used to create histograms using the hist() method.\n",
    "\n",
    "Parameters:\n",
    "\n",
    "x(n,): this takes either a single array or a sequence of arrays that are not required to be of the same length.\n",
    "bins: intervals of any quantity\n",
    "If the bins are:\n",
    "\n",
    "[1, 2, 3, 4]\n",
    "\n",
    "then the first bin is [1, 2) (including 1, but excluding 2) and the second [2, 3). The last bin, however, is [3, 4], which includes 4."
   ]
  },
  {
   "cell_type": "code",
   "execution_count": 22,
   "id": "e01d4dab",
   "metadata": {},
   "outputs": [
    {
     "data": {
      "image/png": "[encoded data removed]",
      "text/plain": [
       "<Figure size 432x288 with 1 Axes>"
      ]
     },
     "metadata": {
      "needs_background": "light"
     },
     "output_type": "display_data"
    }
   ],
   "source": [
    "plt.hist(crime.crime_rate)\n",
    "plt.show()"
   ]
  },
  {
   "cell_type": "code",
   "execution_count": 23,
   "id": "6edd581c",
   "metadata": {},
   "outputs": [
    {
     "data": {
      "image/png": "[encoded data removed]",
      "text/plain": [
       "<Figure size 432x288 with 1 Axes>"
      ]
     },
     "metadata": {
      "needs_background": "light"
     },
     "output_type": "display_data"
    }
   ],
   "source": [
    "plt.hist(crime.percent_senior)\n",
    "plt.show()"
   ]
  },
  {
   "cell_type": "markdown",
   "id": "4deaf202",
   "metadata": {},
   "source": [
    "# Applications of Histogram\n",
    "Histograms are a very common type of plot when looking at data like height and weight, stock prices, waiting time for a customer, etc., which are continuous in nature.\n",
    "\n",
    "Histograms are good for showing general distributional features of dataset variables. You can see roughly where the peaks of the distribution are, whether the distribution is skewed or symmetric and if there are any outliers."
   ]
  },
  {
   "cell_type": "markdown",
   "id": "2523ea7a",
   "metadata": {},
   "source": [
    "# Bar Plot\n",
    "What is Bar Plot?\n",
    "Bar charts are one of the most common graphs used to show data associated with categorical variables."
   ]
  },
  {
   "cell_type": "markdown",
   "id": "182b8a94",
   "metadata": {},
   "source": [
    "## Creating a Vertical Bar Plot\n",
    "Pyplot provides a bar() method to make bar graphs that take the following arguments: categorical variables, their values, and color (if you want to specify any)."
   ]
  },
  {
   "cell_type": "code",
   "execution_count": 26,
   "id": "8e915637",
   "metadata": {},
   "outputs": [
    {
     "data": {
      "image/png": "[encoded data removed]",
      "text/plain": [
       "<Figure size 432x288 with 1 Axes>"
      ]
     },
     "metadata": {
      "needs_background": "light"
     },
     "output_type": "display_data"
    }
   ],
   "source": [
    "plt.bar(crime.region, crime.crime_rate)\n",
    "plt.show()"
   ]
  },
  {
   "cell_type": "markdown",
   "id": "083fa51e",
   "metadata": {},
   "source": [
    "# Creating a Horizontal Bar Plot\n",
    "Making a horizontal bar chart is also really simple using the plt.barh() method."
   ]
  },
  {
   "cell_type": "code",
   "execution_count": 27,
   "id": "727e1d09",
   "metadata": {},
   "outputs": [
    {
     "data": {
      "image/png": "[encoded data removed]",
      "text/plain": [
       "<Figure size 432x288 with 1 Axes>"
      ]
     },
     "metadata": {
      "needs_background": "light"
     },
     "output_type": "display_data"
    }
   ],
   "source": [
    "plt.barh(crime.region, crime.crime_rate)\n",
    "plt.show()"
   ]
  },
  {
   "cell_type": "markdown",
   "id": "a613daeb",
   "metadata": {},
   "source": [
    "# Bar Charts with multiple quantities\n",
    "When comparing several quantities and changing one variable, we might want a bar chart with bars of one color for one quantity value.\n",
    "\n",
    "We can plot multiple bar charts by playing with the bars' thickness and positions."
   ]
  },
  {
   "cell_type": "markdown",
   "id": "09b23535",
   "metadata": {},
   "source": [
    "# Stacked Bar Charts\n",
    "The stacked bar chart stacks bars that represent different groups on top of each other. The height of the resulting bar shows the combined result of the groups."
   ]
  },
  {
   "cell_type": "markdown",
   "id": "1ae86311",
   "metadata": {},
   "source": [
    "# Applications of Bar Charts\n",
    "Bar graphs are used to match things between different groups or to trace changes over time."
   ]
  },
  {
   "cell_type": "markdown",
   "id": "f2383c25",
   "metadata": {},
   "source": [
    "# Bar Chart vs Histogram\n",
    "Histograms are a great way to show results of continuous data, such as:\n",
    "\n",
    "weight\n",
    "\n",
    "height\n",
    "\n",
    "how much time etc.\n",
    "But when the data is in categories (such as Country or Favorite Movie), we should use a Bar Chart."
   ]
  },
  {
   "cell_type": "markdown",
   "id": "80fd3de7",
   "metadata": {},
   "source": [
    "# Pie Chart\n",
    "What is Pie Chart?\n",
    "A pie chart (or a circle chart) is a circular statistical graphic, which is divided into slices(wedges) to illustrate numerical proportion.\n",
    "\n",
    "Imagine a pizza where different slices contain different toppings. Bigger the slice, larger the amount of that topping is present.\n",
    "\n"
   ]
  },
  {
   "cell_type": "markdown",
   "id": "89e0d759",
   "metadata": {},
   "source": [
    "# Parameters of a pie chart\n",
    "x: The wedge sizes.\n",
    "labels: A sequence of strings providing the labels for each wedge.\n",
    "\n",
    "Colors: A sequence of colors through which the pie chart will cycle. If None, will use the colors in the currently active cycle.\n",
    "\n",
    "\n",
    "We can also pass in arguments to customize our Pie chart to show shadow, explode a part of it, tilt it at an angle or do lot more exciting things!\n",
    "\n",
    "Don’t get overwhelmed with the terms being used, it’ll be all clear in the below section.\n",
    "\n",
    "Creating a Pie Chart\n",
    "Pie chart can be made using the method pie()."
   ]
  },
  {
   "cell_type": "code",
   "execution_count": 32,
   "id": "070be6a3",
   "metadata": {},
   "outputs": [
    {
     "data": {
      "image/png": "[encoded data removed]",
      "text/plain": [
       "<Figure size 432x288 with 1 Axes>"
      ]
     },
     "metadata": {},
     "output_type": "display_data"
    }
   ],
   "source": [
    "firms = [\"Firm A\", \"Firm B\", \"Firm C\", \"Firm D\", \"Firm E\"]\n",
    "market_share = [20,25,15,10,20]\n",
    "\n",
    "# Explode the pie chart to emphasize a certain part of some parts (Firm B in this case)\n",
    "# It is useful because it makes the highlighted portion more visible.\n",
    "\n",
    "Explode = [0,0.1,0,0,0]\n",
    "plt.pie(market_share, explode=Explode, labels = firms, autopct = '%1.1f%%')\n",
    "plt.show()"
   ]
  },
  {
   "cell_type": "markdown",
   "id": "46fcb24d",
   "metadata": {},
   "source": [
    "Explode : Amount by which we want each wedge to be exploded.\n",
    "autopct : controls how the percentages are displayed in the wedges. Here, we are displaying only 1 decimal place. If None, no value will be displayed inside the wedges."
   ]
  },
  {
   "cell_type": "markdown",
   "id": "cb9611ac",
   "metadata": {},
   "source": [
    "# Applications of Pie Charts\n",
    "A pie chart is best used when trying to work out the composition of something. If you have categorical data then using a pie chart would work really well as each slice can represent a different category. \n",
    "\n",
    "Another good use for a pie chart would be to compare areas of growth within a business such as turnover, profit and exposure.\n",
    "\n",
    "Try creating a pie chart to see how much money you spend in different areas."
   ]
  },
  {
   "cell_type": "code",
   "execution_count": null,
   "id": "1a9e01cf",
   "metadata": {},
   "outputs": [],
   "source": []
  }
 ],
 "metadata": {
  "kernelspec": {
   "display_name": "Python 3",
   "language": "python",
   "name": "python3"
  },
  "language_info": {
   "codemirror_mode": {
    "name": "ipython",
    "version": 3
   },
   "file_extension": ".py",
   "mimetype": "text/x-python",
   "name": "python",
   "nbconvert_exporter": "python",
   "pygments_lexer": "ipython3",
   "version": "3.8.8"
  }
 },
 "nbformat": 4,
 "nbformat_minor": 5
}
