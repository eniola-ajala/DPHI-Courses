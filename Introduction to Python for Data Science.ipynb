{
 "cells": [
  {
   "cell_type": "markdown",
   "id": "73e04b66",
   "metadata": {},
   "source": [
    "# Introduction to Python Basics for Data Science\n",
    "\n",
    "## What is Python\n",
    "Python is one of the most popular programming languages in the world. It gained prominence owing to its simplicity and ease of use. Its syntax is very similar to english language.\n",
    "\n",
    "It is an open source free for use tool and has a vast community that contributed over 70K+ libraries. These rich set of libraries makes coding easy for developers and data scientists. Often libraries replace long codes with fewer lines of code.\n",
    "\n",
    "### Important Guideline\n",
    "- Never memorize code!\n",
    "\n",
    "## Why Python for Data Science?\n",
    "- Free and open source\n",
    "- Great community\n",
    "- Plenty of libraries for Data Science & Machine Learning\n",
    "- Easy and intuitive to use\n",
    "\n",
    "### Note:\n",
    "- Data Science is not about programming languages/tools such as Python, R, Excel, Jupyter Notebook, Google Colab, etc\n",
    "- Data Science is about using the above tools and techniques, and, if required, inventing new tools and techniques, to solve a problem using “data” in a “scientific” way.\n",
    "\n",
    "# What is Google Colab and Colab Notebook\n",
    "Now that we know the importance of Python in Data Science, let's try to understand the tools that we need to use to run Python for Data Science tasks.\n",
    "\n",
    "One of the popular toolkits that data scientists use to run their Python scripts is an interactive notebook. There are various ways in which you can setup an interactive notebook. In this module, we will learn one them, i.e., how to setup and use Google Colab.\n",
    "\n",
    "## What are Interactive Notebooks?\n",
    "- We are humans and always need user-friendly applications. Notebooks are typically used by data scientists for quick exploration tasks and easy-to-use interactive data science environments.\n",
    "## Google Colab - Online Environment to Run Python Code\n",
    "- Google colab is the simplest way to setup an interactive notebook environment to perform your data science tasks.\n",
    "- The environment offers you up to 12 GB RAM/GPU etc for free and 100 GB storage.\n",
    "- You don’t need to worry about installing a bulky python application on your laptop/computer\n",
    "- Link to access Google colab: https://colab.research.google.com/\n",
    "## Getting Started Video to Run Python Code on Colab\n",
    "- https://youtu.be/H30JcowRWoU\n",
    "In case you are opening the video on YouTube, you may start from 24 secs and watch till 3 mins 10 secs (rest will be covered later)\n",
    "\n",
    "There seems to some issue with visibility in the video with print function. Print function is usually used as follows print(z) However, in the video it appears to be print.(z). due to screen recording issue, so please use the correct one, i.e., print(z).\n",
    "\n",
    "# Write Your Very First Python Program\n",
    "Now you know how to print 'Hello World!' in Python. Let's do a small exercise. Open your Jupyter Notebook or Colab Notebook, or any other Python IDE.\n",
    "\n",
    "Write a Python program to print the given statement.\n",
    "\n",
    "\"Hello, World! Today I have executed my very first Python program. Thanks!\"\n",
    "\n",
    "# What is Anaconda and Jupyter Notebook\n",
    "- You know by now Python is a programming language. Now what is Anaconda?\n",
    "\n",
    "- Anaconda is a free and open-source distribution of Python. In a nutshell, it makes it easy for you to run Python code on your laptop/computer.\n",
    "\n",
    "- Again, why Anaconda? - Well, we are humans and we always want user-friendly applications. And that’s what Anaconda does for you. It offers a powerful tool called “Jupyter notebook” which is an easy-to-use and interactive Python environment for data science.\n",
    "\n",
    "# Installation of Python and Anaconda\n",
    "## For Windows\n",
    "- Step1: Install Python\n",
    "https://www.python.org/downloads/\n",
    "- Step 2: Download and install Anaconda https://docs.anaconda.com/anaconda/install/windows/\n",
    "- For Other OS\n",
    "https://docs.anaconda.com/anaconda/install/mac-os/\n",
    "https://docs.anaconda.com/anaconda/install/linux/\n",
    "\n",
    "## Now Let’s Open Anaconda Navigator\n",
    "- Once you install and open Anaconda\n",
    "- Click “Launch” under Jupyter Notebook in Anaconda Navigator in order to open a notebook in your default web browser.\n",
    "- Create a New Notebook\n",
    "To create a new notebook, go to New at the top right corner and select Notebook - Python 3.\n",
    "### Add and Execute code in Jupyter Notebook\n",
    "https://youtu.be/gxgARwAOapw\n",
    "\n",
    "# Comments in Python\n",
    "- When writing code in Python, it’s important to make sure that your code can be easily understood by others, say by your friend who wants to see your code.\n",
    "- Python ignores everything after the hash mark and up to the end of the line. You can insert them anywhere in your code!\n",
    "- A shortcut for adding comments is by using CTRL + /\n",
    "\n",
    "# Operators in Python\n",
    "- Operators are used to perform simple operations such as additions, comparisons etc on variables and values.\n",
    "- Python supports the following types of operators, we will be looking at some of the commonly used operators.\n",
    "\n",
    "## Arithmetic Operators\n",
    "We can perform some basic arithmetic operations such as addition, subtraction, multiplication, etc. using Python.\n",
    "\n",
    "Example:\n",
    "\n",
    "x = 2\n",
    "\n",
    "y = 3\n",
    "\n",
    "x + y # addition\n",
    "\n",
    "x * y # multiplication"
   ]
  },
  {
   "cell_type": "code",
   "execution_count": 1,
   "id": "4c317c85",
   "metadata": {},
   "outputs": [
    {
     "data": {
      "text/plain": [
       "16"
      ]
     },
     "execution_count": 1,
     "metadata": {},
     "output_type": "execute_result"
    }
   ],
   "source": [
    "4**2  # Exponentiation "
   ]
  },
  {
   "cell_type": "code",
   "execution_count": 2,
   "id": "38e238c4",
   "metadata": {},
   "outputs": [
    {
     "data": {
      "text/plain": [
       "4"
      ]
     },
     "execution_count": 2,
     "metadata": {},
     "output_type": "execute_result"
    }
   ],
   "source": [
    "18%7 #modulo"
   ]
  },
  {
   "cell_type": "markdown",
   "id": "b0bb766e",
   "metadata": {},
   "source": [
    "## Comparison Operator\n",
    "- These are used to compare two values\n",
    "- Gives a Boolean result (True/False)"
   ]
  },
  {
   "cell_type": "code",
   "execution_count": 3,
   "id": "0009a92e",
   "metadata": {},
   "outputs": [
    {
     "data": {
      "text/plain": [
       "True"
      ]
     },
     "execution_count": 3,
     "metadata": {},
     "output_type": "execute_result"
    }
   ],
   "source": [
    "2 < 3"
   ]
  },
  {
   "cell_type": "code",
   "execution_count": 4,
   "id": "c967ed2d",
   "metadata": {},
   "outputs": [
    {
     "data": {
      "text/plain": [
       "False"
      ]
     },
     "execution_count": 4,
     "metadata": {},
     "output_type": "execute_result"
    }
   ],
   "source": [
    "2 == 3"
   ]
  },
  {
   "cell_type": "code",
   "execution_count": 5,
   "id": "e587431b",
   "metadata": {},
   "outputs": [
    {
     "data": {
      "text/plain": [
       "True"
      ]
     },
     "execution_count": 5,
     "metadata": {},
     "output_type": "execute_result"
    }
   ],
   "source": [
    "2 <= 3"
   ]
  },
  {
   "cell_type": "code",
   "execution_count": 6,
   "id": "21d061d9",
   "metadata": {},
   "outputs": [
    {
     "data": {
      "text/plain": [
       "True"
      ]
     },
     "execution_count": 6,
     "metadata": {},
     "output_type": "execute_result"
    }
   ],
   "source": [
    "# Other Comparisons\n",
    "\"rahul\" < \"rohan\""
   ]
  },
  {
   "cell_type": "markdown",
   "id": "56fffee1",
   "metadata": {},
   "source": [
    "## Comparison Operators: Meanings & Examples\n",
    "- >  Greater than - True if left operand is greater than rge right. Example; x>y"
   ]
  },
  {
   "cell_type": "markdown",
   "id": "bbf26d10",
   "metadata": {},
   "source": [
    "## Logical Operator\n",
    "- Logical operators are used to combine conditional statements\n",
    "- Gives a Boolean result (True/False)"
   ]
  },
  {
   "cell_type": "code",
   "execution_count": 7,
   "id": "d6cd5d5e",
   "metadata": {},
   "outputs": [
    {
     "data": {
      "text/plain": [
       "False"
      ]
     },
     "execution_count": 7,
     "metadata": {},
     "output_type": "execute_result"
    }
   ],
   "source": [
    "x = 6\n",
    "x < 5 and x < 10"
   ]
  },
  {
   "cell_type": "code",
   "execution_count": 9,
   "id": "5d8558c8",
   "metadata": {},
   "outputs": [
    {
     "data": {
      "text/plain": [
       "True"
      ]
     },
     "execution_count": 9,
     "metadata": {},
     "output_type": "execute_result"
    }
   ],
   "source": [
    "x < 10 or x < 4"
   ]
  },
  {
   "cell_type": "markdown",
   "id": "d085d6e0",
   "metadata": {},
   "source": [
    "- and     returns True if both statements are true\n",
    "- or      returns True if one of the statements is true\n",
    "- not     reverse the result, returns False if the res"
   ]
  }
 ],
 "metadata": {
  "kernelspec": {
   "display_name": "Python 3",
   "language": "python",
   "name": "python3"
  },
  "language_info": {
   "codemirror_mode": {
    "name": "ipython",
    "version": 3
   },
   "file_extension": ".py",
   "mimetype": "text/x-python",
   "name": "python",
   "nbconvert_exporter": "python",
   "pygments_lexer": "ipython3",
   "version": "3.8.8"
  }
 },
 "nbformat": 4,
 "nbformat_minor": 5
}
