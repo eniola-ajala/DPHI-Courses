{
 "cells": [
  {
   "cell_type": "markdown",
   "id": "5e7fee88",
   "metadata": {},
   "source": [
    "# Introduction to Python Basics for Data Science\n",
    "\n",
    "## What is Python\n",
    "Python is one of the most popular programming languages in the world. It gained prominence owing to its simplicity and ease of use. Its syntax is very similar to english language.\n",
    "\n",
    "It is an open source free for use tool and has a vast community that contributed over 70K+ libraries. These rich set of libraries makes coding easy for developers and data scientists. Often libraries replace long codes with fewer lines of code.\n",
    "\n",
    "### Important Guideline\n",
    "- Never memorize code!\n",
    "\n",
    "## Why Python for Data Science?\n",
    "- Free and open source\n",
    "- Great community\n",
    "- Plenty of libraries for Data Science & Machine Learning\n",
    "- Easy and intuitive to use\n",
    "\n",
    "### Note:\n",
    "- Data Science is not about programming languages/tools such as Python, R, Excel, Jupyter Notebook, Google Colab, etc\n",
    "- Data Science is about using the above tools and techniques, and, if required, inventing new tools and techniques, to solve a problem using “data” in a “scientific” way.\n",
    "\n",
    "# What is Google Colab and Colab Notebook\n",
    "Now that we know the importance of Python in Data Science, let's try to understand the tools that we need to use to run Python for Data Science tasks.\n",
    "\n",
    "One of the popular toolkits that data scientists use to run their Python scripts is an interactive notebook. There are various ways in which you can setup an interactive notebook. In this module, we will learn one them, i.e., how to setup and use Google Colab.\n",
    "\n",
    "## What are Interactive Notebooks?\n",
    "- We are humans and always need user-friendly applications. Notebooks are typically used by data scientists for quick exploration tasks and easy-to-use interactive data science environments.\n",
    "## Google Colab - Online Environment to Run Python Code\n",
    "- Google colab is the simplest way to setup an interactive notebook environment to perform your data science tasks.\n",
    "- The environment offers you up to 12 GB RAM/GPU etc for free and 100 GB storage.\n",
    "- You don’t need to worry about installing a bulky python application on your laptop/computer\n",
    "- Link to access Google colab: https://colab.research.google.com/\n",
    "## Getting Started Video to Run Python Code on Colab\n",
    "- https://youtu.be/H30JcowRWoU\n",
    "In case you are opening the video on YouTube, you may start from 24 secs and watch till 3 mins 10 secs (rest will be covered later)\n",
    "\n",
    "There seems to some issue with visibility in the video with print function. Print function is usually used as follows print(z) However, in the video it appears to be print.(z). due to screen recording issue, so please use the correct one, i.e., print(z).\n",
    "\n",
    "# Write Your Very First Python Program\n",
    "Now you know how to print 'Hello World!' in Python. Let's do a small exercise. Open your Jupyter Notebook or Colab Notebook, or any other Python IDE.\n",
    "\n",
    "Write a Python program to print the given statement.\n",
    "\n",
    "\"Hello, World! Today I have executed my very first Python program. Thanks!\"\n",
    "\n",
    "# What is Anaconda and Jupyter Notebook\n",
    "- You know by now Python is a programming language. Now what is Anaconda?\n",
    "\n",
    "- Anaconda is a free and open-source distribution of Python. In a nutshell, it makes it easy for you to run Python code on your laptop/computer.\n",
    "\n",
    "- Again, why Anaconda? - Well, we are humans and we always want user-friendly applications. And that’s what Anaconda does for you. It offers a powerful tool called “Jupyter notebook” which is an easy-to-use and interactive Python environment for data science.\n",
    "\n",
    "# Installation of Python and Anaconda\n",
    "## For Windows\n",
    "- Step1: Install Python\n",
    "https://www.python.org/downloads/\n",
    "- Step 2: Download and install Anaconda https://docs.anaconda.com/anaconda/install/windows/\n",
    "- For Other OS\n",
    "https://docs.anaconda.com/anaconda/install/mac-os/\n",
    "https://docs.anaconda.com/anaconda/install/linux/\n",
    "\n",
    "## Now Let’s Open Anaconda Navigator\n",
    "- Once you install and open Anaconda\n",
    "- Click “Launch” under Jupyter Notebook in Anaconda Navigator in order to open a notebook in your default web browser.\n",
    "- Create a New Notebook\n",
    "To create a new notebook, go to New at the top right corner and select Notebook - Python 3.\n",
    "### Add and Execute code in Jupyter Notebook\n",
    "https://youtu.be/gxgARwAOapw\n",
    "\n",
    "# Comments in Python\n",
    "- When writing code in Python, it’s important to make sure that your code can be easily understood by others, say by your friend who wants to see your code.\n",
    "- Python ignores everything after the hash mark and up to the end of the line. You can insert them anywhere in your code!\n",
    "- A shortcut for adding comments is by using CTRL + /\n",
    "\n",
    "# Operators in Python\n",
    "- Operators are used to perform simple operations such as additions, comparisons etc on variables and values.\n",
    "- Python supports the following types of operators, we will be looking at some of the commonly used operators.\n",
    "\n",
    "## Arithmetic Operators\n",
    "We can perform some basic arithmetic operations such as addition, subtraction, multiplication, etc. using Python.\n",
    "\n",
    "Example:\n",
    "\n",
    "x = 2\n",
    "\n",
    "y = 3\n",
    "\n",
    "x + y # addition\n",
    "\n",
    "x * y # multiplication"
   ]
  },
  {
   "cell_type": "code",
   "execution_count": 1,
   "id": "ca9f63c8",
   "metadata": {},
   "outputs": [
    {
     "data": {
      "text/plain": [
       "16"
      ]
     },
     "execution_count": 1,
     "metadata": {},
     "output_type": "execute_result"
    }
   ],
   "source": [
    "4**2  # Exponentiation "
   ]
  },
  {
   "cell_type": "code",
   "execution_count": 2,
   "id": "19ad585f",
   "metadata": {},
   "outputs": [
    {
     "data": {
      "text/plain": [
       "4"
      ]
     },
     "execution_count": 2,
     "metadata": {},
     "output_type": "execute_result"
    }
   ],
   "source": [
    "18%7 #modulo"
   ]
  },
  {
   "cell_type": "markdown",
   "id": "686d4f09",
   "metadata": {},
   "source": [
    "## Comparison Operator\n",
    "- These are used to compare two values\n",
    "- Gives a Boolean result (True/False)"
   ]
  },
  {
   "cell_type": "code",
   "execution_count": 3,
   "id": "03cf32d0",
   "metadata": {},
   "outputs": [
    {
     "data": {
      "text/plain": [
       "True"
      ]
     },
     "execution_count": 3,
     "metadata": {},
     "output_type": "execute_result"
    }
   ],
   "source": [
    "2 < 3"
   ]
  },
  {
   "cell_type": "code",
   "execution_count": 4,
   "id": "e15ccf15",
   "metadata": {},
   "outputs": [
    {
     "data": {
      "text/plain": [
       "False"
      ]
     },
     "execution_count": 4,
     "metadata": {},
     "output_type": "execute_result"
    }
   ],
   "source": [
    "2 == 3"
   ]
  },
  {
   "cell_type": "code",
   "execution_count": 5,
   "id": "b7e12374",
   "metadata": {},
   "outputs": [
    {
     "data": {
      "text/plain": [
       "True"
      ]
     },
     "execution_count": 5,
     "metadata": {},
     "output_type": "execute_result"
    }
   ],
   "source": [
    "2 <= 3"
   ]
  },
  {
   "cell_type": "code",
   "execution_count": 6,
   "id": "fee579b2",
   "metadata": {},
   "outputs": [
    {
     "data": {
      "text/plain": [
       "True"
      ]
     },
     "execution_count": 6,
     "metadata": {},
     "output_type": "execute_result"
    }
   ],
   "source": [
    "# Other Comparisons\n",
    "\"rahul\" < \"rohan\""
   ]
  },
  {
   "cell_type": "markdown",
   "id": "2afb1c7d",
   "metadata": {},
   "source": [
    "## Comparison Operators: Meanings & Examples\n",
    "- >  Greater than - True if left operand is greater than rge right. Example; x>y"
   ]
  },
  {
   "cell_type": "markdown",
   "id": "ddc255a8",
   "metadata": {},
   "source": [
    "## Logical Operator\n",
    "- Logical operators are used to combine conditional statements\n",
    "- Gives a Boolean result (True/False)"
   ]
  },
  {
   "cell_type": "code",
   "execution_count": 7,
   "id": "fa722422",
   "metadata": {},
   "outputs": [
    {
     "data": {
      "text/plain": [
       "False"
      ]
     },
     "execution_count": 7,
     "metadata": {},
     "output_type": "execute_result"
    }
   ],
   "source": [
    "x = 6\n",
    "x < 5 and x < 10"
   ]
  },
  {
   "cell_type": "code",
   "execution_count": 8,
   "id": "9cae7d18",
   "metadata": {},
   "outputs": [
    {
     "data": {
      "text/plain": [
       "True"
      ]
     },
     "execution_count": 8,
     "metadata": {},
     "output_type": "execute_result"
    }
   ],
   "source": [
    "x < 10 or x < 4"
   ]
  },
  {
   "cell_type": "markdown",
   "id": "02c082fb",
   "metadata": {},
   "source": [
    "- and     returns True if both statements are true\n",
    "- or      returns True if one of the statements is true\n",
    "- not     reverse the result, returns False if the result is true"
   ]
  },
  {
   "cell_type": "markdown",
   "id": "8352964a",
   "metadata": {},
   "source": [
    "# Variables\n",
    "- A variable can be considered as a storage container for data.\n",
    "\n",
    "- Every variable will have a name.\n",
    "\n",
    "- It is a good way to store information while making it easy to refer to that information in our code later.\n",
    "- For instance, instead of working with the number 3.14, we can assign it to a variable pi and use it as many times as we want in our code (wherever required).\n",
    "\n",
    "- The equal sign (=) is used to assign values to variables.\n",
    "\n",
    "- The syntax for assigning values to a variable is as follows: Variable name = value or information.\n",
    "\n",
    "- Example:\n",
    "\n",
    "x = 5\n",
    "\n",
    "y = \"John\""
   ]
  },
  {
   "cell_type": "markdown",
   "id": "3f1ae1f2",
   "metadata": {},
   "source": [
    "# Input and Output in Python\n",
    "## Print Function\n"
   ]
  },
  {
   "cell_type": "code",
   "execution_count": 9,
   "id": "feab309f",
   "metadata": {},
   "outputs": [
    {
     "name": "stdout",
     "output_type": "stream",
     "text": [
      "Hello world\n"
     ]
    }
   ],
   "source": [
    "# print is a function that instructs to print something that is inside parenthesis \n",
    "print(\"Hello world\")  "
   ]
  },
  {
   "cell_type": "markdown",
   "id": "8992fcda",
   "metadata": {},
   "source": [
    "## Input Function\n",
    "- similar to print, input is also a function. Input function instructs to get an answer for a question asked in parenthesis."
   ]
  },
  {
   "cell_type": "code",
   "execution_count": 10,
   "id": "d6234c53",
   "metadata": {},
   "outputs": [
    {
     "name": "stdout",
     "output_type": "stream",
     "text": [
      "What is your name? Eni\n"
     ]
    }
   ],
   "source": [
    "x = input(\"What is your name? \")"
   ]
  },
  {
   "cell_type": "code",
   "execution_count": 11,
   "id": "e79ad3fa",
   "metadata": {},
   "outputs": [
    {
     "data": {
      "text/plain": [
       "str"
      ]
     },
     "execution_count": 11,
     "metadata": {},
     "output_type": "execute_result"
    }
   ],
   "source": [
    "# by default the data type of the input taken from the user is \"str\" i.e string. One can do type conversion to integer as shown below\n",
    "type(x)"
   ]
  },
  {
   "cell_type": "code",
   "execution_count": 13,
   "id": "6141f73b",
   "metadata": {},
   "outputs": [],
   "source": [
    "# converting to integer\n",
    "#x = int(x)"
   ]
  },
  {
   "cell_type": "code",
   "execution_count": 14,
   "id": "251dd510",
   "metadata": {},
   "outputs": [
    {
     "data": {
      "text/plain": [
       "str"
      ]
     },
     "execution_count": 14,
     "metadata": {},
     "output_type": "execute_result"
    }
   ],
   "source": [
    "type(x)"
   ]
  },
  {
   "cell_type": "code",
   "execution_count": 15,
   "id": "085c6b72",
   "metadata": {},
   "outputs": [
    {
     "name": "stdout",
     "output_type": "stream",
     "text": [
      "16\n"
     ]
    }
   ],
   "source": [
    "x = 2*2**3\n",
    "print(x)"
   ]
  },
  {
   "cell_type": "markdown",
   "id": "a9f65f54",
   "metadata": {},
   "source": [
    "# Exercise - Coding Challenge\n",
    "- 1.Consider two numbers, a = 5, b = 16. Write a Python program to print the sum of these two numbers.\n",
    "- 2.Write a Python program to take a number from the user as input and print the cube of the number."
   ]
  },
  {
   "cell_type": "code",
   "execution_count": 16,
   "id": "35be4c6a",
   "metadata": {},
   "outputs": [
    {
     "name": "stdout",
     "output_type": "stream",
     "text": [
      "21\n"
     ]
    }
   ],
   "source": [
    "# solution 1\n",
    "a = 5\n",
    "b = 16 \n",
    "print(a+b)"
   ]
  },
  {
   "cell_type": "code",
   "execution_count": 23,
   "id": "fbae86e1",
   "metadata": {},
   "outputs": [
    {
     "name": "stdout",
     "output_type": "stream",
     "text": [
      "input a number2\n",
      "The cubic value of the number is 8\n"
     ]
    }
   ],
   "source": [
    "# solution 2\n",
    "x = int(input(\"input a number\"))\n",
    "print(\"The cubic value of the number is\", (x**3))\n",
    "\n"
   ]
  },
  {
   "cell_type": "markdown",
   "id": "b02374c1",
   "metadata": {},
   "source": [
    "# Data Structures & Data Types in Python\n",
    "## If you’re learning Python from multiple sources, you might encounter the terms data structures and data types being used interchangeably.\n",
    "## Definition: Data structure is a general computer science concept. Its definition reads as follows on Wikipedia:\n",
    "## Data structure is a data organization, management, and storage format that enables efficient access and modification. More precisely, a data structure is a collection of data values, the relationships among them, and the functions or operations that can be applied to the data.\n",
    "\n",
    "- On the other hand, Data type is a concept specific to a programming language. In a way, it is a concrete implementation of a data structure in a particular programming language (be it Python or any other language).\n",
    "- The actual definition of what constitutes a \"type\" varies among programming languages. Talking about Python, there are basic data types like int, float, string etc. You can use the built-in types like list, set etc. which we will be covering in this session.\n",
    "- Calling these data types as data structures won’t be wrong because there is no major difference between the two in Python."
   ]
  },
  {
   "cell_type": "markdown",
   "id": "73a93488",
   "metadata": {},
   "source": [
    "# Some of the data types in python include:\n",
    "\n",
    "- Integer: whole numbers, positive or negative numbers. Eg: 100.\n",
    "\n",
    "- Float: Floating-point numbers are real numbers, rational or irrational. In most cases, this means numbers with decimal parts. Example: 123.45.\n",
    "\n",
    "- String: Strings are sequences of characters, or text, enclosed in quotes. Example: \"any text\", “karen”.\n",
    "\n",
    "- For further reading about operators and data types, visit: https://www.dummies.com/programming/python/python-all-in-one-for-dummies-cheat-sheet/\n",
    "\n",
    "- For practice and different data type examples, visit: https://www.w3schools.com/python/python_datatypes.asp\n",
    "\n",
    "## Getting the Data Type\n",
    "You can get the data type of any object by using the type( ) function:\n",
    "\n",
    "- Numerical Types: int (integer), float (decimal)\n",
    "- Text Type: str (string)\n",
    "- Boolean Type: bool (True or False)\n",
    "\n",
    "# Strings\n",
    "## Sequence Types\n",
    "- Sequences allow you to store multiple values in an organized and efficient way.\n",
    "- There are seven sequence types: strings, Unicode strings, lists, tuples, bytearrays, buffers, and xrange objects.\n",
    "- Nothing to worry looking at this long list, you will get to know it gradually.\n",
    "## Python Strings\n",
    "- Strings are sequence of characters.\n",
    "- Let us see some examples of String: \"My name is Ernie\", \"Ernie\", \"Let's code\". All these are examples of String.\n",
    "- In Python, Strings are called str.\n",
    "- There is a specific way of defining String in Python – it is defined within single quote (‘) or double quotes (“) or even triple quotes (“‘).\n",
    "## Accessing String Elements\n",
    "- Square brackets can be used to access elements of the string.\n",
    "- Remember that the first character has index 0.\n",
    "- Index refers to position of a character in a string. In python index number starts from 0.\n",
    "### Example:"
   ]
  },
  {
   "cell_type": "code",
   "execution_count": 24,
   "id": "111d9792",
   "metadata": {},
   "outputs": [
    {
     "name": "stdout",
     "output_type": "stream",
     "text": [
      "e\n"
     ]
    }
   ],
   "source": [
    "g = \"Hello world\"\n",
    "print(g[1])  # will give an output e."
   ]
  },
  {
   "cell_type": "markdown",
   "id": "82d6628e",
   "metadata": {},
   "source": [
    "## String Slicing\n",
    "- We can also call out a range of characters from the string using string slicing.\n",
    "- Specify the start index and the end index, separated by a colon, to return a part of the string. Note that the character of the end index is not included.\n",
    "- Suppose we want to print World from the string “Hello World”. We can do so as below:\n"
   ]
  },
  {
   "cell_type": "code",
   "execution_count": 26,
   "id": "2a531fa8",
   "metadata": {},
   "outputs": [
    {
     "name": "stdout",
     "output_type": "stream",
     "text": [
      "world\n"
     ]
    }
   ],
   "source": [
    "a = \"Hello, world\"\n",
    "print(a[7:12])"
   ]
  },
  {
   "cell_type": "markdown",
   "id": "c393217b",
   "metadata": {},
   "source": [
    "## Negative Indexing\n",
    "- If we have a long string and we want to pinpoint an item towards the end, we can also count backwards from the end of the string, starting at the index number -1.\n",
    "\n",
    "- Printing ‘r’ from the string:"
   ]
  },
  {
   "cell_type": "code",
   "execution_count": 32,
   "id": "9ad82904",
   "metadata": {},
   "outputs": [
    {
     "name": "stdout",
     "output_type": "stream",
     "text": [
      "r\n"
     ]
    }
   ],
   "source": [
    "a = \"Hello, world!\"\n",
    "print(a[-4])"
   ]
  },
  {
   "cell_type": "code",
   "execution_count": 33,
   "id": "8b1d7167",
   "metadata": {},
   "outputs": [
    {
     "name": "stdout",
     "output_type": "stream",
     "text": [
      "orl\n"
     ]
    }
   ],
   "source": [
    "# Get the characters from position -5 to position -3, starting the count from the end of the string:\n",
    "\n",
    "print(a[-5:-2])"
   ]
  },
  {
   "cell_type": "markdown",
   "id": "8bcf578e",
   "metadata": {},
   "source": [
    "## String Concatenation\n",
    "- String concatenation means adding strings together.\n",
    "- Use the + character to add a variable to another variable:\n",
    "Example:\n"
   ]
  },
  {
   "cell_type": "code",
   "execution_count": 34,
   "id": "2e4f3d11",
   "metadata": {},
   "outputs": [
    {
     "name": "stdout",
     "output_type": "stream",
     "text": [
      "abcd\n"
     ]
    }
   ],
   "source": [
    "a = \"ab\" + \"cd\"\n",
    "print(a)"
   ]
  },
  {
   "cell_type": "code",
   "execution_count": 35,
   "id": "69b0f703",
   "metadata": {},
   "outputs": [
    {
     "name": "stdout",
     "output_type": "stream",
     "text": [
      "Python is awesome\n"
     ]
    }
   ],
   "source": [
    "x = \"Python is \"\n",
    "y = \"awesome\"\n",
    "z =  x + y\n",
    "print(z)"
   ]
  },
  {
   "cell_type": "code",
   "execution_count": 38,
   "id": "1368ad86",
   "metadata": {},
   "outputs": [
    {
     "name": "stdout",
     "output_type": "stream",
     "text": [
      "ab cd\n"
     ]
    }
   ],
   "source": [
    "#String Concatenation: Add Space\n",
    "# We can also add spaces between two strings\n",
    "x = \"ab\"\n",
    "y = \"cd\"\n",
    "print(x + \" \"+ y)"
   ]
  },
  {
   "cell_type": "markdown",
   "id": "b48b70c5",
   "metadata": {},
   "source": [
    "## String Length\n",
    "- To get the length of a string, use the len( ) function.\n",
    "\n",
    "- Getting length of the string a :"
   ]
  },
  {
   "cell_type": "code",
   "execution_count": 39,
   "id": "0e1ca5be",
   "metadata": {},
   "outputs": [
    {
     "name": "stdout",
     "output_type": "stream",
     "text": [
      "13\n"
     ]
    }
   ],
   "source": [
    "a = \"Hello, World!\"\n",
    "print(len(a))"
   ]
  },
  {
   "cell_type": "markdown",
   "id": "d06d7c74",
   "metadata": {},
   "source": [
    "# Introduction & Implementation of List in Python\n",
    "- As the name suggests, List is an ordered sequence of data. In real life, if you could make a list of things that come to your mind (or event for any specific purpose), it could be something like this –\n",
    "\n",
    "- Brush\n",
    "- Food\n",
    "- 48851964400\n",
    "- 3.14\n",
    "- Mom\n",
    "Well, this is my list. You could make your own list & include whatever you want in it. It has different types of data – strings, float, and integer.\n",
    "\n",
    "Well, this is the kind of flexibility Python List provides. It can hold elements of different data types. Declaring a List is fairly straightforward. You use square brackets ([]) and separate the items by a comma. Let me write an example -\n",
    "A = [\"Brush\", \"Food\", 48851964400, 3.14, \"Mom\"]\n",
    "\n",
    "Lists are mutable. Say if you want to change some item on a List, you can do that. For example, if I don’t like ‘Brush’’, and want to replace this with ‘Morning Walk’, I can do it –\n",
    "A = [\"Morning Walk\", \"Food\", 48851964400, 3.14, \"Mom\"]\n",
    "\n",
    "### Some essential features of Python lists are:\n",
    "\n",
    "- Collection of values\n",
    "- Can be of any data type\n",
    "- Can be a combination of different types\n",
    "\n",
    "## List Methods\n",
    "- .append()\n",
    "- In Python, you can add values to the end of a list using the .append() method."
   ]
  },
  {
   "cell_type": "code",
   "execution_count": 40,
   "id": "83e0034f",
   "metadata": {},
   "outputs": [
    {
     "data": {
      "text/plain": [
       "['chemistry', 'physics']"
      ]
     },
     "execution_count": 40,
     "metadata": {},
     "output_type": "execute_result"
    }
   ],
   "source": [
    "subjects = [\"chemistry\", \"physics\"]\n",
    "subjects"
   ]
  },
  {
   "cell_type": "code",
   "execution_count": 42,
   "id": "bc29f6b9",
   "metadata": {},
   "outputs": [
    {
     "name": "stdout",
     "output_type": "stream",
     "text": [
      "['chemistry', 'physics', 'biology', 'biology']\n"
     ]
    }
   ],
   "source": [
    "subjects.append(\"biology\")  # we will add biology to the end of the list\n",
    "print(subjects)"
   ]
  },
  {
   "cell_type": "markdown",
   "id": "0c7b87c6",
   "metadata": {},
   "source": [
    "## .count()\n",
    "- The .count() Python list method searches a list for whatever search term it receives as an argument, then returns the number of matching entries found."
   ]
  },
  {
   "cell_type": "code",
   "execution_count": 44,
   "id": "378e2533",
   "metadata": {},
   "outputs": [
    {
     "name": "stdout",
     "output_type": "stream",
     "text": [
      "3\n"
     ]
    }
   ],
   "source": [
    "backpack = [\"pencil\", \"pen\", \"notebook\", \"textbook\", \"pen\", \"glue\", \"pen\"]\n",
    "numPen = backpack.count(\"pen\")\n",
    "print(numPen)"
   ]
  },
  {
   "cell_type": "markdown",
   "id": "a7e2fcb8",
   "metadata": {},
   "source": [
    "### len()\n",
    "- The Python len() function can be used to determine the number of items found in the list it accepts as an argument."
   ]
  },
  {
   "cell_type": "code",
   "execution_count": 45,
   "id": "54f96293",
   "metadata": {},
   "outputs": [
    {
     "name": "stdout",
     "output_type": "stream",
     "text": [
      "7\n"
     ]
    }
   ],
   "source": [
    "backpack = [\"pencil\", \"pen\", \"notebook\", \"textbook\", \"pen\", \"glue\", \"pen\"]\n",
    "print(len(backpack))"
   ]
  },
  {
   "cell_type": "markdown",
   "id": "c9bbce27",
   "metadata": {},
   "source": [
    "### .sort()\n",
    "- The .sort() Python list method will sort the contents of whatever list it is called on. Numerical lists will be sorted in ascending order, and lists of Strings will be sorted into alphabetical order. It modifies the original list, and has no return value."
   ]
  },
  {
   "cell_type": "code",
   "execution_count": 46,
   "id": "57ae791e",
   "metadata": {},
   "outputs": [
    {
     "name": "stdout",
     "output_type": "stream",
     "text": [
      "[1, 2, 3, 4, 4, 5]\n"
     ]
    }
   ],
   "source": [
    "exampleList = [4,2,1,3,4,5]\n",
    "exampleList.sort()\n",
    "print(exampleList)"
   ]
  },
  {
   "cell_type": "markdown",
   "id": "e4654ead",
   "metadata": {},
   "source": [
    "# Introduction & Implementation of Tuple in Python\n",
    "- Tuple is also an ordered sequence of items as List. Tuple also holds multiple data types.\n",
    "\n",
    "- The only difference in Tuple & List is that Tuple is immutable; once created it cannot be changed.\n",
    "\n",
    "- Creating a tuple is as simple as putting different comma-separated values within round brackets.\n",
    "\n",
    "- Example: A = (‘Brush’, ‘Food’, 48851964400, 3.14, ‘Mom’)\n",
    "\n",
    "# Introduction & Implementation of Dictionary in Python\n",
    "- Dictionary is an unordered collection of key-value pairs.\n",
    "\n",
    "- Real word dictionaries are a good analogy to understand them: they contain a list of items(words), and each item has a key(the word) and a value(the word’s meaning).\n",
    "\n",
    "- It generally is used when we have a huge amount of data.\n",
    "\n",
    "- It is defined within braces, with each item being in the form of key: value pair. Syntax –\n"
   ]
  },
  {
   "cell_type": "code",
   "execution_count": 54,
   "id": "f24566ed",
   "metadata": {},
   "outputs": [
    {
     "data": {
      "text/plain": [
       "'my_dict = {\\n\"key1\":\"value1\",\\n\"key2\":\"value2\",\\n}'"
      ]
     },
     "execution_count": 54,
     "metadata": {},
     "output_type": "execute_result"
    }
   ],
   "source": [
    "\"\"\"my_dict = {\n",
    "\"key1\":\"value1\",\n",
    "\"key2\":\"value2\",\n",
    "}\"\"\""
   ]
  },
  {
   "cell_type": "markdown",
   "id": "90c05a8d",
   "metadata": {},
   "source": [
    "- The keys in a dictionary must always be unique and immutable. This is the reason dictionary keys can be String but not List.\n",
    "\n",
    "- On the other hand, Values in a dictionary can be of any datatype and can be duplicated.\n",
    "\n",
    "- Dictionary keys are case sensitive, same name but different cases of Key will be treated distinctly.\n",
    "\n",
    "Example:"
   ]
  },
  {
   "cell_type": "code",
   "execution_count": 56,
   "id": "66ca8d49",
   "metadata": {},
   "outputs": [
    {
     "data": {
      "text/plain": [
       "{1: 'blue', 2: 'yellow', 3: 'red'}"
      ]
     },
     "execution_count": 56,
     "metadata": {},
     "output_type": "execute_result"
    }
   ],
   "source": [
    "my_dict = {1: \"blue\", 2: \"yellow\",\n",
    "          3: \"red\"}\n",
    "my_dict"
   ]
  },
  {
   "cell_type": "markdown",
   "id": "ff00f825",
   "metadata": {},
   "source": [
    "# Functions\n",
    "- This is something we have been indirectly using since the first module.\n",
    "- print( ) and input( ) are some functions that you’ve already used. And these are inbuilt functions.\n",
    "\n",
    "- print(\"hello world\")\n",
    "\n",
    "- input(\"enter your age\")\n",
    "\n",
    "- If you want, you can even create your own function to get some desired output.\n",
    "## Examples of in-built functions\n",
    "- max()\n",
    "- len()\n",
    "- round()\n",
    "- sorted()\n",
    "- sum()"
   ]
  },
  {
   "cell_type": "markdown",
   "id": "4d2f8780",
   "metadata": {},
   "source": [
    "# sum() and round() functions in Python\n",
    "## round()\n",
    "- Round function in python rounds off the decimal value of a number to its nearest integer. For example: round(65.66) = 66.\n",
    "- In addition, one can give an input of the specified number of decimals to which the number should be rounded. For example, round(65.66, 1) = 65.7.\n",
    "- Its syntax is:\n",
    "\n",
    " round(number, ndigits)\n",
    "\n",
    "- number - the number to be rounded.\n",
    "- ndigits - number of decimal places up to which the given number is rounded; defaults to 0."
   ]
  },
  {
   "cell_type": "code",
   "execution_count": 57,
   "id": "c8a05442",
   "metadata": {},
   "outputs": [
    {
     "data": {
      "text/plain": [
       "1.7"
      ]
     },
     "execution_count": 57,
     "metadata": {},
     "output_type": "execute_result"
    }
   ],
   "source": [
    "# round the number i.e 1.68 to one decimal place\n",
    "round(1.68, 1)"
   ]
  },
  {
   "cell_type": "code",
   "execution_count": 58,
   "id": "ed88aa91",
   "metadata": {},
   "outputs": [
    {
     "data": {
      "text/plain": [
       "2"
      ]
     },
     "execution_count": 58,
     "metadata": {},
     "output_type": "execute_result"
    }
   ],
   "source": [
    "# round the number i.e 1.68 to zero decimal place\n",
    "round(1.68)"
   ]
  },
  {
   "cell_type": "markdown",
   "id": "ec76c65e",
   "metadata": {},
   "source": [
    "## sum()\n",
    "- You can perform the addition of a collection of numbers using the sum() function in Python.\n",
    "\n"
   ]
  },
  {
   "cell_type": "code",
   "execution_count": 59,
   "id": "a1c46428",
   "metadata": {},
   "outputs": [
    {
     "name": "stdout",
     "output_type": "stream",
     "text": [
      "10\n"
     ]
    }
   ],
   "source": [
    "num = [4,2,1,3]\n",
    "print(sum(num))"
   ]
  },
  {
   "cell_type": "code",
   "execution_count": 60,
   "id": "76a3158b",
   "metadata": {},
   "outputs": [
    {
     "name": "stdout",
     "output_type": "stream",
     "text": [
      "60\n"
     ]
    }
   ],
   "source": [
    "tup = (10,20,30)\n",
    "print(sum(tup))"
   ]
  },
  {
   "cell_type": "markdown",
   "id": "9b172422",
   "metadata": {},
   "source": [
    "Consider the given two list of numbers. L1 = [10, 20, 30, 25, 32, 45, 50] and L2 = [80, 70, 78, 55, 62]. Write a Python program that will add all the numbers present in L1 and assign the sum to a variable S1, similarly, add all the numbers present in L2 and assign the sum to a variable S2. Select the correct value of (S1 - S2)."
   ]
  },
  {
   "cell_type": "code",
   "execution_count": 67,
   "id": "7bd46efa",
   "metadata": {},
   "outputs": [
    {
     "name": "stdout",
     "output_type": "stream",
     "text": [
      "212\n",
      "345\n"
     ]
    }
   ],
   "source": [
    "L1 = [10, 20, 30, 25, 32, 45, 50] \n",
    "L2 = [80, 70, 78, 55, 62]\n",
    "print(sum(L1))\n",
    "print(sum(L2))\n"
   ]
  },
  {
   "cell_type": "code",
   "execution_count": 68,
   "id": "1fd66e07",
   "metadata": {},
   "outputs": [
    {
     "name": "stdout",
     "output_type": "stream",
     "text": [
      "-133\n"
     ]
    }
   ],
   "source": [
    "print(212-345)"
   ]
  },
  {
   "cell_type": "markdown",
   "id": "af4e56e6",
   "metadata": {},
   "source": [
    "# Define functions in Python\n",
    "- In Python a function is defined using the def keyword.\n",
    "\n",
    "- In the next tutorial, we will be learning:\n",
    "\n",
    "- How to write a function\n",
    "- How to call a function - Of course, if we have created a function, we need to use it somewhere by calling it right? ;)\n"
   ]
  },
  {
   "cell_type": "markdown",
   "id": "46fdc63b",
   "metadata": {},
   "source": [
    "# Methods in Python\n",
    "- In Python, everything is an object (be it a list, string etc).\n",
    "\n",
    "- A method in Python is somewhat similar to function the only difference is that a method is dependent on the object while a function is independent of the object.\n",
    "\n",
    "- Can you recall we had used a function len() in the earlier modules? Well, this is a function. len() can be used on list, tuple, strings, dictionaries, etc. to get the number of elements in them. While append() is a method that is associated with list only. You cannot use append() method on any of tuple, strings or dictionaries. This append() is associated with list data type only.\n",
    "\n",
    "- Objects have various methods associated with them (depending on type of the object).\n",
    "\n",
    "index(), count(), capitalize(), replace()\n",
    "\n",
    "## Difference between Functions and Methods\n",
    "#### You might have a question bugging you: “Why on Earth do we have both functions and methods, when they practically do the same thing?”\n",
    "\n",
    "#### Firstly, let's start with the obvious. There is a clear difference in the syntax:\n",
    "\n",
    "- A function looks like this: function(something)\n",
    "- And a method looks like this: something.method()\n",
    "#### Namely: a method always belongs to an object (e.g., in the x.index(2) method, .index() needed the x object to be applicable), while a function doesn’t necessarily depend on a Python object.\n",
    "\n",
    "#### All methods are functions, but not all functions are methods!\n",
    "\n",
    "#### If this makes no sense to you (yet), don’t you worry. I promise, the idea will grow on you as you use Python more and more – especially when you start to define your own functions and methods.\n",
    "\n",
    "# Packages in Python\n",
    "- In simple terms Python packages are collections of multiple Python files.\n",
    "\n",
    "##### And these Python files are known as modules in Python.\n",
    "\n",
    "##### If we keep all of our code in the same file, it will result in:\n",
    "\n",
    "- Huge code base: Ends up messy\n",
    "- Lots of code you won't use\n",
    "- Maintenance problem\n",
    "##### If we take an example of ourselves, we don't usually store all of our files on our computer in the same location. We use a well-organized hierarchy of directories/folders for easier access.\n",
    "\n",
    "##### Similar files are kept in the same directory, for example, we may keep all the songs in the \"music\" directory. Analogous to this, Python has packages for directories and modules for files.\n",
    "\n",
    "##### As our application program grows larger in size with a lot of modules, we place similar modules in one package and different modules in different packages. This makes a project (program) easy to manage and conceptually clear.\n",
    "\n",
    "##### Similarly, as a directory can contain subdirectories and files, a Python package can have sub-packages and modules.\n",
    "\n",
    "##### Packages are Directory/Folder of Python Scripts.\n",
    "\n",
    "##### Where each script is a module that performs a specific function.\n",
    "\n",
    "##### We can specify functions, methods, types in a script.\n",
    "\n",
    "##### Thousands of packages are available in python.\n",
    "\n",
    "##### For data science, the commonly used packages are:\n",
    "\n",
    "- Numpy: Working with arrays\n",
    "- Matplotlib: Data Visualisation\n",
    "- Scikit-learn: ML\n",
    "\n",
    "## Importing packages/modules\n",
    "- A Python package can have sub-packages in it. Further these sub-packages have some modules (i.e. Python files).\n",
    "\n",
    "- Each module consists of some Python functions.\n",
    "\n",
    "- To make use of these functions we need to load the module in our working environment.\n",
    "\n",
    "- To load any package or module we use the term import followed by module name or the package name.\n"
   ]
  },
  {
   "cell_type": "code",
   "execution_count": null,
   "id": "fa814107",
   "metadata": {},
   "outputs": [],
   "source": []
  },
  {
   "cell_type": "code",
   "execution_count": null,
   "id": "8af767e6",
   "metadata": {},
   "outputs": [],
   "source": []
  }
 ],
 "metadata": {
  "kernelspec": {
   "display_name": "Python 3",
   "language": "python",
   "name": "python3"
  },
  "language_info": {
   "codemirror_mode": {
    "name": "ipython",
    "version": 3
   },
   "file_extension": ".py",
   "mimetype": "text/x-python",
   "name": "python",
   "nbconvert_exporter": "python",
   "pygments_lexer": "ipython3",
   "version": "3.8.8"
  }
 },
 "nbformat": 4,
 "nbformat_minor": 5
}
