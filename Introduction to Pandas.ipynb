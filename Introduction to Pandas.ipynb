{
 "cells": [
  {
   "cell_type": "markdown",
   "id": "e02061fe",
   "metadata": {},
   "source": [
    "# Data Analysis: An Analogy\n",
    "## Let's understand Data Analysis with an example\n",
    "Imagine you own an apple farm, and you want to know the number of apples you grow. But, you are too busy with the farm so you hire someone to count them. You sell your apples too, and you get your apple counter to keep a record of the number of apples you have in the beginning and at the end of the day, every day.\n",
    "\n",
    "Many days and months pass and you put sheet after sheet of the apple count together and you discover patterns and trends in the purchasing behaviour of your customers.\n",
    "\n",
    "The trends and patterns help you realise that during the colder season, your output of apples is the same, but people buy fewer apples compared to the summer.\n",
    "\n",
    "You then set out to dig deeper into this trend and find ways to keep the sales of apples consistent throughout the year, beating your competitors at the game and becoming an apple farm tycoon.\n",
    "\n",
    "Apples are your data, tracking them is important, analysis is key.\n",
    "\n",
    "For starters, you will know if your supply of apples matches the market’s demand, as well as the consistency of the ratio of demand to supply throughout the year. Pegging the price to each apple and drawing the cost down gives you your profit.\n",
    "\n",
    "When you have enough data, you will find trends and patterns in your production. These trends can help you understand your own organisation better, help you reduce inefficiency, and therefore reduce costs."
   ]
  },
  {
   "cell_type": "markdown",
   "id": "309c1208",
   "metadata": {},
   "source": [
    "# What is Data Analysis?\n",
    "As an apple farmer, you collected the count of apples at the beginning of the day and at the end of the day in an organized fashion in the sheets. In the end, you got some insightful information (i.e., trends and patterns in the sales of apples) from that data. This is called Data Analysis.\n",
    "\n",
    "So collecting all the words above:\n",
    "Data Analysis is a method of collecting, organizing, and, if required, manipulating the data so that one can derive some useful information from the data.\n",
    "\n",
    "## Data Analysis and Pandas\n",
    "Pandas is a tool in Python that helps you collect (or read) data from a file, organize it in a tabular format, manipulate and clean it, if required, to derive insightful information from it."
   ]
  },
  {
   "cell_type": "markdown",
   "id": "a6090e59",
   "metadata": {},
   "source": [
    "# What is Pandas?\n",
    "Officially stands for Python Data Analysis Library.\n",
    "It is an open-source Python library.\n",
    "It is a tool used by data scientists to:\n",
    "-read,\n",
    "\n",
    "-write,\n",
    "\n",
    "-manipulate, and\n",
    "\n",
    "-analyze the data.\n",
    "## Why Pandas?\n",
    "It helps you explore and manipulate data in an efficient manner.\n",
    "\n",
    "It helps you analyze large volumes of data with ease. When we say large volumes, it can be in millions of rows/records.\n",
    "\n",
    "## Why is Pandas so Popular\n",
    "-Easy to read and learn\n",
    "\n",
    "-Extremely fast and powerful\n",
    "\n",
    "-Integrates well with other visualization libraries\n",
    "### Importing Pandas\n",
    "Anytime you want to use a library in Python, your first priority should be to make it accessible.\n",
    "\n",
    "You can import/load Pandas in your notebook or any other Python IDE in two different ways:"
   ]
  },
  {
   "cell_type": "code",
   "execution_count": 1,
   "id": "6db46f64",
   "metadata": {},
   "outputs": [],
   "source": [
    "# import pandas\n",
    "import pandas as pd"
   ]
  },
  {
   "cell_type": "markdown",
   "id": "1c28ae14",
   "metadata": {},
   "source": [
    "# Series"
   ]
  },
  {
   "cell_type": "markdown",
   "id": "8ea4dfba",
   "metadata": {},
   "source": [
    "# Pandas Objects\n",
    "Before we dive into series, let’s do a quick recap of pandas ‘objects’. At the core of the pandas library, there are two fundamental data structures/objects:\n",
    "\n",
    "Series\n",
    "\n",
    "Data Frames\n",
    "## What is a Series?\n",
    "A one-dimensional labeled array\n",
    "\n",
    "Can hold data of any type\n",
    "\n",
    "Is like a column in a table"
   ]
  },
  {
   "cell_type": "markdown",
   "id": "d0b7d5fe",
   "metadata": {},
   "source": [
    "## What can a Series have?\n",
    "A Series can have all the elements as numbers in it\n",
    "\n",
    "A Series can have all the elements as strings in it:\n",
    "\n",
    "A Series can have its elements as both numbers and strings.\n",
    "\n",
    "Series is like a list in Python that can take any type of value like integers, strings, floats (or decimal values), etc.\n",
    "All the items in the series are labeled with indexes\n",
    "\n",
    "By default, indexing starts from 0 in Series.\n",
    "\n",
    "### Create a Series\n",
    "Remember to import the library before using it!\n",
    "\n",
    "You can create your own Series using a Python list:"
   ]
  },
  {
   "cell_type": "code",
   "execution_count": 2,
   "id": "b9bb166c",
   "metadata": {},
   "outputs": [
    {
     "data": {
      "text/plain": [
       "0     1\n",
       "1     1\n",
       "2     2\n",
       "3     3\n",
       "4     4\n",
       "5     5\n",
       "6     6\n",
       "7    76\n",
       "8     5\n",
       "dtype: int64"
      ]
     },
     "execution_count": 2,
     "metadata": {},
     "output_type": "execute_result"
    }
   ],
   "source": [
    "h = [1,1,2,3,4,5,6,76,5]\n",
    "pd.Series(h)"
   ]
  },
  {
   "cell_type": "code",
   "execution_count": 3,
   "id": "c421e769",
   "metadata": {},
   "outputs": [
    {
     "data": {
      "text/plain": [
       "one      1\n",
       "two      2\n",
       "three    3\n",
       "four     4\n",
       "five     5\n",
       "six      6\n",
       "seven    7\n",
       "dtype: int64"
      ]
     },
     "execution_count": 3,
     "metadata": {},
     "output_type": "execute_result"
    }
   ],
   "source": [
    "# You can also create your own Series using a dictionary:\n",
    "\n",
    "d = {\"one\":1, \"two\":2, \"three\": 3, \"four\":4, \"five\":5, \"six\":6, \"seven\": 7}\n",
    "pd.Series(d)"
   ]
  },
  {
   "cell_type": "markdown",
   "id": "580bd92a",
   "metadata": {},
   "source": [
    "# DataFrame\n",
    "### What is a DataFrame?\n",
    "-Two-dimensional table\n",
    "\n",
    "-Made up of a collection of Series\n",
    "\n",
    "Structured with labeled axes (rows and columns)\n",
    "## Create a DataFrame\n",
    "You can create a DataFrame using a Python list or a NumPy array:"
   ]
  },
  {
   "cell_type": "code",
   "execution_count": 5,
   "id": "3148004e",
   "metadata": {},
   "outputs": [
    {
     "data": {
      "text/html": [
       "<div>\n",
       "<style scoped>\n",
       "    .dataframe tbody tr th:only-of-type {\n",
       "        vertical-align: middle;\n",
       "    }\n",
       "\n",
       "    .dataframe tbody tr th {\n",
       "        vertical-align: top;\n",
       "    }\n",
       "\n",
       "    .dataframe thead th {\n",
       "        text-align: right;\n",
       "    }\n",
       "</style>\n",
       "<table border=\"1\" class=\"dataframe\">\n",
       "  <thead>\n",
       "    <tr style=\"text-align: right;\">\n",
       "      <th></th>\n",
       "      <th>0</th>\n",
       "      <th>1</th>\n",
       "      <th>2</th>\n",
       "    </tr>\n",
       "  </thead>\n",
       "  <tbody>\n",
       "    <tr>\n",
       "      <th>0</th>\n",
       "      <td>1000</td>\n",
       "      <td>Leorio</td>\n",
       "      <td>86.58</td>\n",
       "    </tr>\n",
       "    <tr>\n",
       "      <th>1</th>\n",
       "      <td>1001</td>\n",
       "      <td>Kilua</td>\n",
       "      <td>86.58</td>\n",
       "    </tr>\n",
       "    <tr>\n",
       "      <th>2</th>\n",
       "      <td>1002</td>\n",
       "      <td>Zenitsu</td>\n",
       "      <td>86.58</td>\n",
       "    </tr>\n",
       "    <tr>\n",
       "      <th>3</th>\n",
       "      <td>1003</td>\n",
       "      <td>Tomioka</td>\n",
       "      <td>86.58</td>\n",
       "    </tr>\n",
       "    <tr>\n",
       "      <th>4</th>\n",
       "      <td>1004</td>\n",
       "      <td>Inosuke</td>\n",
       "      <td>86.58</td>\n",
       "    </tr>\n",
       "  </tbody>\n",
       "</table>\n",
       "</div>"
      ],
      "text/plain": [
       "      0        1      2\n",
       "0  1000   Leorio  86.58\n",
       "1  1001    Kilua  86.58\n",
       "2  1002  Zenitsu  86.58\n",
       "3  1003  Tomioka  86.58\n",
       "4  1004  Inosuke  86.58"
      ]
     },
     "execution_count": 5,
     "metadata": {},
     "output_type": "execute_result"
    }
   ],
   "source": [
    "data = [[1000, \"Leorio\", 86.58],\n",
    "       [1001, \"Kilua\", 86.58],\n",
    "       [1002, \"Zenitsu\", 86.58],\n",
    "       [1003, \"Tomioka\", 86.58],\n",
    "       [1004, \"Inosuke\", 86.58]]\n",
    "pd.DataFrame(data)"
   ]
  },
  {
   "cell_type": "code",
   "execution_count": 6,
   "id": "638db41a",
   "metadata": {},
   "outputs": [
    {
     "data": {
      "text/html": [
       "<div>\n",
       "<style scoped>\n",
       "    .dataframe tbody tr th:only-of-type {\n",
       "        vertical-align: middle;\n",
       "    }\n",
       "\n",
       "    .dataframe tbody tr th {\n",
       "        vertical-align: top;\n",
       "    }\n",
       "\n",
       "    .dataframe thead th {\n",
       "        text-align: right;\n",
       "    }\n",
       "</style>\n",
       "<table border=\"1\" class=\"dataframe\">\n",
       "  <thead>\n",
       "    <tr style=\"text-align: right;\">\n",
       "      <th></th>\n",
       "      <th>Regd. No</th>\n",
       "      <th>Name</th>\n",
       "      <th>Marks</th>\n",
       "    </tr>\n",
       "  </thead>\n",
       "  <tbody>\n",
       "    <tr>\n",
       "      <th>1</th>\n",
       "      <td>1000</td>\n",
       "      <td>Leorio</td>\n",
       "      <td>86.58</td>\n",
       "    </tr>\n",
       "    <tr>\n",
       "      <th>2</th>\n",
       "      <td>1001</td>\n",
       "      <td>Kilua</td>\n",
       "      <td>86.58</td>\n",
       "    </tr>\n",
       "    <tr>\n",
       "      <th>3</th>\n",
       "      <td>1002</td>\n",
       "      <td>Zenitsu</td>\n",
       "      <td>86.58</td>\n",
       "    </tr>\n",
       "    <tr>\n",
       "      <th>4</th>\n",
       "      <td>1003</td>\n",
       "      <td>Tomioka</td>\n",
       "      <td>86.58</td>\n",
       "    </tr>\n",
       "    <tr>\n",
       "      <th>5</th>\n",
       "      <td>1004</td>\n",
       "      <td>Inosuke</td>\n",
       "      <td>86.58</td>\n",
       "    </tr>\n",
       "  </tbody>\n",
       "</table>\n",
       "</div>"
      ],
      "text/plain": [
       "   Regd. No     Name  Marks\n",
       "1      1000   Leorio  86.58\n",
       "2      1001    Kilua  86.58\n",
       "3      1002  Zenitsu  86.58\n",
       "4      1003  Tomioka  86.58\n",
       "5      1004  Inosuke  86.58"
      ]
     },
     "execution_count": 6,
     "metadata": {},
     "output_type": "execute_result"
    }
   ],
   "source": [
    "# Don’t like python default index starting from ‘0’? Well, you can give your own column and row indexes:\n",
    "\n",
    "data = [[1000, \"Leorio\", 86.58],\n",
    "       [1001, \"Kilua\", 86.58],\n",
    "       [1002, \"Zenitsu\", 86.58],\n",
    "       [1003, \"Tomioka\", 86.58],\n",
    "       [1004, \"Inosuke\", 86.58]]\n",
    "pd.DataFrame(data, columns = [\"Regd. No\", \"Name\", \"Marks\"], index = [1,2,3,4,5])\n"
   ]
  },
  {
   "cell_type": "markdown",
   "id": "f7d29601",
   "metadata": {},
   "source": [
    " # You can create a DataFrame using dictionary:"
   ]
  },
  {
   "cell_type": "code",
   "execution_count": 7,
   "id": "d446bd01",
   "metadata": {},
   "outputs": [
    {
     "data": {
      "text/html": [
       "<div>\n",
       "<style scoped>\n",
       "    .dataframe tbody tr th:only-of-type {\n",
       "        vertical-align: middle;\n",
       "    }\n",
       "\n",
       "    .dataframe tbody tr th {\n",
       "        vertical-align: top;\n",
       "    }\n",
       "\n",
       "    .dataframe thead th {\n",
       "        text-align: right;\n",
       "    }\n",
       "</style>\n",
       "<table border=\"1\" class=\"dataframe\">\n",
       "  <thead>\n",
       "    <tr style=\"text-align: right;\">\n",
       "      <th></th>\n",
       "      <th>Regd.No</th>\n",
       "      <th>Names</th>\n",
       "      <th>Marks%</th>\n",
       "    </tr>\n",
       "  </thead>\n",
       "  <tbody>\n",
       "    <tr>\n",
       "      <th>0</th>\n",
       "      <td>1000</td>\n",
       "      <td>Leorio</td>\n",
       "      <td>86.29</td>\n",
       "    </tr>\n",
       "    <tr>\n",
       "      <th>1</th>\n",
       "      <td>1001</td>\n",
       "      <td>Killua</td>\n",
       "      <td>91.63</td>\n",
       "    </tr>\n",
       "    <tr>\n",
       "      <th>2</th>\n",
       "      <td>1002</td>\n",
       "      <td>Zenitsu</td>\n",
       "      <td>72.90</td>\n",
       "    </tr>\n",
       "    <tr>\n",
       "      <th>3</th>\n",
       "      <td>1003</td>\n",
       "      <td>Tomioka</td>\n",
       "      <td>69.23</td>\n",
       "    </tr>\n",
       "    <tr>\n",
       "      <th>4</th>\n",
       "      <td>1004</td>\n",
       "      <td>Inosuke</td>\n",
       "      <td>88.30</td>\n",
       "    </tr>\n",
       "  </tbody>\n",
       "</table>\n",
       "</div>"
      ],
      "text/plain": [
       "   Regd.No    Names  Marks%\n",
       "0     1000   Leorio   86.29\n",
       "1     1001   Killua   91.63\n",
       "2     1002  Zenitsu   72.90\n",
       "3     1003  Tomioka   69.23\n",
       "4     1004  Inosuke   88.30"
      ]
     },
     "execution_count": 7,
     "metadata": {},
     "output_type": "execute_result"
    }
   ],
   "source": [
    "data = {\"Regd.No\": [1000,1001,1002,1003,1004],\n",
    "       \"Names\": [\"Leorio\",\"Killua\",\"Zenitsu\",\"Tomioka\", \"Inosuke\"],\n",
    "       \"Marks%\": [86.29,91.63, 72.90,69.23,88.30]}\n",
    "pd.DataFrame(data)"
   ]
  },
  {
   "cell_type": "markdown",
   "id": "e5b600c2",
   "metadata": {},
   "source": [
    "## A Column is a Series\n",
    "A DataFrame is a collection of series.\n",
    "\n",
    "A series is a column in a table or a DataFrame.\n",
    "\n",
    "There are 3 series in the given DataFrame - ‘Regd. No’, ‘Names’ and ‘Marks%’."
   ]
  },
  {
   "cell_type": "markdown",
   "id": "b40eb9db",
   "metadata": {},
   "source": [
    "# Read and Write Files\n",
    "## Reading Data Files\n",
    "It is always good to be able to create a DataFrame by hand. But, generally, we don’t create our own data by hand. We work on the data that already exists.\n",
    "\n",
    "Data exists in a number of formats. The most basic of these is the CSV file. CSV stands for comma-separated-values.\n",
    "## What is a CSV file?\n",
    "-CSV files are normally created by programs that handle large amounts of data. They are a convenient way to export data from spreadsheets and databases and import or use it in other programs.\n",
    "\n",
    "-CSV is a simple file format used to store tabular data, such as a spreadsheet or database.\n",
    "\n",
    "-A CSV file stores tabular data (numbers and text) in plain text.\n",
    "\n",
    "-Each line of the file is a data record/row.\n",
    "Each record consists of one or more fields, separated by commas.\n",
    "\n",
    "The use of the comma as a field separator is the source of the name for this file format."
   ]
  },
  {
   "cell_type": "markdown",
   "id": "a073f2f2",
   "metadata": {},
   "source": [
    "# Working with CSV files in Python\n",
    "- For working with CSV files in python, there is an inbuilt module named csv.\n",
    "- However, a common method for working with CSV files is using Pandas. It makes importing and analyzing data much easier.\n",
    "- One crucial feature of Pandas is its ability to write and read Excel, CSV, and many other common types of files.\n",
    "## Pandas read_csv\n",
    "- Functions like the Pandas read_csv() method enable you to work with files effectively.\n",
    "- The read_csv() function reads the CSV file into a DataFrame object.\n",
    "- A CSV file is similar to a two-dimensional table and the DataFrame object represents two dimensional tabular view.\n",
    "- The most basic way to read a csv file in Pandas:"
   ]
  },
  {
   "cell_type": "code",
   "execution_count": 8,
   "id": "bd6fe279",
   "metadata": {},
   "outputs": [],
   "source": [
    "# reading CSV file\n",
    "#pd.read_csv(\"filename.csv\")"
   ]
  },
  {
   "cell_type": "markdown",
   "id": "4b6fbf81",
   "metadata": {},
   "source": [
    "- One can do many other things through this one function itself, to change the returned object completely.\n",
    "- For instance, one can read a CSV file not only locally, but from a URL through read_csv, or one can choose what columns need to be imported so that we don’t have to edit the array later.\n",
    "- These modifications can be done by the various arguments it takes."
   ]
  },
  {
   "cell_type": "markdown",
   "id": "83a29682",
   "metadata": {},
   "source": [
    "# Pandas to_csv with example\n",
    "The easiest way to write DataFrames to CSV files is using the Pandas to_csv function.\n",
    "- Syntax:"
   ]
  },
  {
   "cell_type": "code",
   "execution_count": 9,
   "id": "f3c07949",
   "metadata": {},
   "outputs": [],
   "source": [
    "# DataFrame to CSV file\n",
    "# df is the name of the DataFrame here\n",
    "# df.to_csv(\"file_name.csv\")"
   ]
  },
  {
   "cell_type": "markdown",
   "id": "dbbf22a9",
   "metadata": {},
   "source": [
    "- If you want to export without the index, simply add index=False:\n"
   ]
  },
  {
   "cell_type": "code",
   "execution_count": 10,
   "id": "1ce177fe",
   "metadata": {},
   "outputs": [],
   "source": [
    "# Specify index as False to import without index\n",
    "# df.to_csv(\"file_name.csv\", index = False)"
   ]
  },
  {
   "cell_type": "code",
   "execution_count": null,
   "id": "7ed8ea53",
   "metadata": {},
   "outputs": [],
   "source": []
  }
 ],
 "metadata": {
  "kernelspec": {
   "display_name": "Python 3",
   "language": "python",
   "name": "python3"
  },
  "language_info": {
   "codemirror_mode": {
    "name": "ipython",
    "version": 3
   },
   "file_extension": ".py",
   "mimetype": "text/x-python",
   "name": "python",
   "nbconvert_exporter": "python",
   "pygments_lexer": "ipython3",
   "version": "3.8.8"
  }
 },
 "nbformat": 4,
 "nbformat_minor": 5
}
