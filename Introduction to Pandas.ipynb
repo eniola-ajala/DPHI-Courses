{
 "cells": [
  {
   "cell_type": "markdown",
   "id": "e02061fe",
   "metadata": {},
   "source": [
    "# Data Analysis: An Analogy\n",
    "## Let's understand Data Analysis with an example\n",
    "Imagine you own an apple farm, and you want to know the number of apples you grow. But, you are too busy with the farm so you hire someone to count them. You sell your apples too, and you get your apple counter to keep a record of the number of apples you have in the beginning and at the end of the day, every day.\n",
    "\n",
    "Many days and months pass and you put sheet after sheet of the apple count together and you discover patterns and trends in the purchasing behaviour of your customers.\n",
    "\n",
    "The trends and patterns help you realise that during the colder season, your output of apples is the same, but people buy fewer apples compared to the summer.\n",
    "\n",
    "You then set out to dig deeper into this trend and find ways to keep the sales of apples consistent throughout the year, beating your competitors at the game and becoming an apple farm tycoon.\n",
    "\n",
    "Apples are your data, tracking them is important, analysis is key.\n",
    "\n",
    "For starters, you will know if your supply of apples matches the market’s demand, as well as the consistency of the ratio of demand to supply throughout the year. Pegging the price to each apple and drawing the cost down gives you your profit.\n",
    "\n",
    "When you have enough data, you will find trends and patterns in your production. These trends can help you understand your own organisation better, help you reduce inefficiency, and therefore reduce costs."
   ]
  },
  {
   "cell_type": "markdown",
   "id": "309c1208",
   "metadata": {},
   "source": [
    "# What is Data Analysis?\n",
    "As an apple farmer, you collected the count of apples at the beginning of the day and at the end of the day in an organized fashion in the sheets. In the end, you got some insightful information (i.e., trends and patterns in the sales of apples) from that data. This is called Data Analysis.\n",
    "\n",
    "So collecting all the words above:\n",
    "Data Analysis is a method of collecting, organizing, and, if required, manipulating the data so that one can derive some useful information from the data.\n",
    "\n",
    "## Data Analysis and Pandas\n",
    "Pandas is a tool in Python that helps you collect (or read) data from a file, organize it in a tabular format, manipulate and clean it, if required, to derive insightful information from it."
   ]
  },
  {
   "cell_type": "markdown",
   "id": "a6090e59",
   "metadata": {},
   "source": [
    "# What is Pandas?\n",
    "Officially stands for Python Data Analysis Library.\n",
    "It is an open-source Python library.\n",
    "It is a tool used by data scientists to:\n",
    "-read,\n",
    "\n",
    "-write,\n",
    "\n",
    "-manipulate, and\n",
    "\n",
    "-analyze the data.\n",
    "## Why Pandas?\n",
    "It helps you explore and manipulate data in an efficient manner.\n",
    "\n",
    "It helps you analyze large volumes of data with ease. When we say large volumes, it can be in millions of rows/records.\n",
    "\n",
    "## Why is Pandas so Popular\n",
    "-Easy to read and learn\n",
    "\n",
    "-Extremely fast and powerful\n",
    "\n",
    "-Integrates well with other visualization libraries\n",
    "### Importing Pandas\n",
    "Anytime you want to use a library in Python, your first priority should be to make it accessible.\n",
    "\n",
    "You can import/load Pandas in your notebook or any other Python IDE in two different ways:"
   ]
  },
  {
   "cell_type": "code",
   "execution_count": 1,
   "id": "6db46f64",
   "metadata": {},
   "outputs": [],
   "source": [
    "# import pandas\n",
    "import pandas as pd"
   ]
  },
  {
   "cell_type": "markdown",
   "id": "1c28ae14",
   "metadata": {},
   "source": [
    "# Series"
   ]
  },
  {
   "cell_type": "markdown",
   "id": "8ea4dfba",
   "metadata": {},
   "source": [
    "# Pandas Objects\n",
    "Before we dive into series, let’s do a quick recap of pandas ‘objects’. At the core of the pandas library, there are two fundamental data structures/objects:\n",
    "\n",
    "Series\n",
    "\n",
    "Data Frames\n",
    "## What is a Series?\n",
    "A one-dimensional labeled array\n",
    "\n",
    "Can hold data of any type\n",
    "\n",
    "Is like a column in a table"
   ]
  },
  {
   "cell_type": "markdown",
   "id": "d0b7d5fe",
   "metadata": {},
   "source": [
    "## What can a Series have?\n",
    "A Series can have all the elements as numbers in it\n",
    "\n",
    "A Series can have all the elements as strings in it:\n",
    "\n",
    "A Series can have its elements as both numbers and strings.\n",
    "\n",
    "Series is like a list in Python that can take any type of value like integers, strings, floats (or decimal values), etc.\n",
    "All the items in the series are labeled with indexes\n",
    "\n",
    "By default, indexing starts from 0 in Series.\n",
    "\n",
    "### Create a Series\n",
    "Remember to import the library before using it!\n",
    "\n",
    "You can create your own Series using a Python list:"
   ]
  },
  {
   "cell_type": "code",
   "execution_count": 2,
   "id": "b9bb166c",
   "metadata": {},
   "outputs": [
    {
     "data": {
      "text/plain": [
       "0     1\n",
       "1     1\n",
       "2     2\n",
       "3     3\n",
       "4     4\n",
       "5     5\n",
       "6     6\n",
       "7    76\n",
       "8     5\n",
       "dtype: int64"
      ]
     },
     "execution_count": 2,
     "metadata": {},
     "output_type": "execute_result"
    }
   ],
   "source": [
    "h = [1,1,2,3,4,5,6,76,5]\n",
    "pd.Series(h)"
   ]
  },
  {
   "cell_type": "code",
   "execution_count": 3,
   "id": "c421e769",
   "metadata": {},
   "outputs": [
    {
     "data": {
      "text/plain": [
       "one      1\n",
       "two      2\n",
       "three    3\n",
       "four     4\n",
       "five     5\n",
       "six      6\n",
       "seven    7\n",
       "dtype: int64"
      ]
     },
     "execution_count": 3,
     "metadata": {},
     "output_type": "execute_result"
    }
   ],
   "source": [
    "# You can also create your own Series using a dictionary:\n",
    "\n",
    "d = {\"one\":1, \"two\":2, \"three\": 3, \"four\":4, \"five\":5, \"six\":6, \"seven\": 7}\n",
    "pd.Series(d)"
   ]
  },
  {
   "cell_type": "markdown",
   "id": "580bd92a",
   "metadata": {},
   "source": [
    "# DataFrame\n",
    "### What is a DataFrame?\n",
    "-Two-dimensional table\n",
    "\n",
    "-Made up of a collection of Series\n",
    "\n",
    "Structured with labeled axes (rows and columns)\n",
    "## Create a DataFrame\n",
    "You can create a DataFrame using a Python list or a NumPy array:"
   ]
  },
  {
   "cell_type": "code",
   "execution_count": 4,
   "id": "3148004e",
   "metadata": {},
   "outputs": [
    {
     "data": {
      "text/html": [
       "<div>\n",
       "<style scoped>\n",
       "    .dataframe tbody tr th:only-of-type {\n",
       "        vertical-align: middle;\n",
       "    }\n",
       "\n",
       "    .dataframe tbody tr th {\n",
       "        vertical-align: top;\n",
       "    }\n",
       "\n",
       "    .dataframe thead th {\n",
       "        text-align: right;\n",
       "    }\n",
       "</style>\n",
       "<table border=\"1\" class=\"dataframe\">\n",
       "  <thead>\n",
       "    <tr style=\"text-align: right;\">\n",
       "      <th></th>\n",
       "      <th>0</th>\n",
       "      <th>1</th>\n",
       "      <th>2</th>\n",
       "    </tr>\n",
       "  </thead>\n",
       "  <tbody>\n",
       "    <tr>\n",
       "      <th>0</th>\n",
       "      <td>1000</td>\n",
       "      <td>Leorio</td>\n",
       "      <td>86.58</td>\n",
       "    </tr>\n",
       "    <tr>\n",
       "      <th>1</th>\n",
       "      <td>1001</td>\n",
       "      <td>Kilua</td>\n",
       "      <td>86.58</td>\n",
       "    </tr>\n",
       "    <tr>\n",
       "      <th>2</th>\n",
       "      <td>1002</td>\n",
       "      <td>Zenitsu</td>\n",
       "      <td>86.58</td>\n",
       "    </tr>\n",
       "    <tr>\n",
       "      <th>3</th>\n",
       "      <td>1003</td>\n",
       "      <td>Tomioka</td>\n",
       "      <td>86.58</td>\n",
       "    </tr>\n",
       "    <tr>\n",
       "      <th>4</th>\n",
       "      <td>1004</td>\n",
       "      <td>Inosuke</td>\n",
       "      <td>86.58</td>\n",
       "    </tr>\n",
       "  </tbody>\n",
       "</table>\n",
       "</div>"
      ],
      "text/plain": [
       "      0        1      2\n",
       "0  1000   Leorio  86.58\n",
       "1  1001    Kilua  86.58\n",
       "2  1002  Zenitsu  86.58\n",
       "3  1003  Tomioka  86.58\n",
       "4  1004  Inosuke  86.58"
      ]
     },
     "execution_count": 4,
     "metadata": {},
     "output_type": "execute_result"
    }
   ],
   "source": [
    "data = [[1000, \"Leorio\", 86.58],\n",
    "       [1001, \"Kilua\", 86.58],\n",
    "       [1002, \"Zenitsu\", 86.58],\n",
    "       [1003, \"Tomioka\", 86.58],\n",
    "       [1004, \"Inosuke\", 86.58]]\n",
    "pd.DataFrame(data)"
   ]
  },
  {
   "cell_type": "code",
   "execution_count": 5,
   "id": "638db41a",
   "metadata": {},
   "outputs": [
    {
     "data": {
      "text/html": [
       "<div>\n",
       "<style scoped>\n",
       "    .dataframe tbody tr th:only-of-type {\n",
       "        vertical-align: middle;\n",
       "    }\n",
       "\n",
       "    .dataframe tbody tr th {\n",
       "        vertical-align: top;\n",
       "    }\n",
       "\n",
       "    .dataframe thead th {\n",
       "        text-align: right;\n",
       "    }\n",
       "</style>\n",
       "<table border=\"1\" class=\"dataframe\">\n",
       "  <thead>\n",
       "    <tr style=\"text-align: right;\">\n",
       "      <th></th>\n",
       "      <th>Regd. No</th>\n",
       "      <th>Name</th>\n",
       "      <th>Marks</th>\n",
       "    </tr>\n",
       "  </thead>\n",
       "  <tbody>\n",
       "    <tr>\n",
       "      <th>1</th>\n",
       "      <td>1000</td>\n",
       "      <td>Leorio</td>\n",
       "      <td>86.58</td>\n",
       "    </tr>\n",
       "    <tr>\n",
       "      <th>2</th>\n",
       "      <td>1001</td>\n",
       "      <td>Kilua</td>\n",
       "      <td>86.58</td>\n",
       "    </tr>\n",
       "    <tr>\n",
       "      <th>3</th>\n",
       "      <td>1002</td>\n",
       "      <td>Zenitsu</td>\n",
       "      <td>86.58</td>\n",
       "    </tr>\n",
       "    <tr>\n",
       "      <th>4</th>\n",
       "      <td>1003</td>\n",
       "      <td>Tomioka</td>\n",
       "      <td>86.58</td>\n",
       "    </tr>\n",
       "    <tr>\n",
       "      <th>5</th>\n",
       "      <td>1004</td>\n",
       "      <td>Inosuke</td>\n",
       "      <td>86.58</td>\n",
       "    </tr>\n",
       "  </tbody>\n",
       "</table>\n",
       "</div>"
      ],
      "text/plain": [
       "   Regd. No     Name  Marks\n",
       "1      1000   Leorio  86.58\n",
       "2      1001    Kilua  86.58\n",
       "3      1002  Zenitsu  86.58\n",
       "4      1003  Tomioka  86.58\n",
       "5      1004  Inosuke  86.58"
      ]
     },
     "execution_count": 5,
     "metadata": {},
     "output_type": "execute_result"
    }
   ],
   "source": [
    "# Don’t like python default index starting from ‘0’? Well, you can give your own column and row indexes:\n",
    "\n",
    "data = [[1000, \"Leorio\", 86.58],\n",
    "       [1001, \"Kilua\", 86.58],\n",
    "       [1002, \"Zenitsu\", 86.58],\n",
    "       [1003, \"Tomioka\", 86.58],\n",
    "       [1004, \"Inosuke\", 86.58]]\n",
    "pd.DataFrame(data, columns = [\"Regd. No\", \"Name\", \"Marks\"], index = [1,2,3,4,5])\n"
   ]
  },
  {
   "cell_type": "markdown",
   "id": "f7d29601",
   "metadata": {},
   "source": [
    " # You can create a DataFrame using dictionary:"
   ]
  },
  {
   "cell_type": "code",
   "execution_count": 6,
   "id": "d446bd01",
   "metadata": {},
   "outputs": [
    {
     "data": {
      "text/html": [
       "<div>\n",
       "<style scoped>\n",
       "    .dataframe tbody tr th:only-of-type {\n",
       "        vertical-align: middle;\n",
       "    }\n",
       "\n",
       "    .dataframe tbody tr th {\n",
       "        vertical-align: top;\n",
       "    }\n",
       "\n",
       "    .dataframe thead th {\n",
       "        text-align: right;\n",
       "    }\n",
       "</style>\n",
       "<table border=\"1\" class=\"dataframe\">\n",
       "  <thead>\n",
       "    <tr style=\"text-align: right;\">\n",
       "      <th></th>\n",
       "      <th>Regd.No</th>\n",
       "      <th>Names</th>\n",
       "      <th>Marks%</th>\n",
       "    </tr>\n",
       "  </thead>\n",
       "  <tbody>\n",
       "    <tr>\n",
       "      <th>0</th>\n",
       "      <td>1000</td>\n",
       "      <td>Leorio</td>\n",
       "      <td>86.29</td>\n",
       "    </tr>\n",
       "    <tr>\n",
       "      <th>1</th>\n",
       "      <td>1001</td>\n",
       "      <td>Killua</td>\n",
       "      <td>91.63</td>\n",
       "    </tr>\n",
       "    <tr>\n",
       "      <th>2</th>\n",
       "      <td>1002</td>\n",
       "      <td>Zenitsu</td>\n",
       "      <td>72.90</td>\n",
       "    </tr>\n",
       "    <tr>\n",
       "      <th>3</th>\n",
       "      <td>1003</td>\n",
       "      <td>Tomioka</td>\n",
       "      <td>69.23</td>\n",
       "    </tr>\n",
       "    <tr>\n",
       "      <th>4</th>\n",
       "      <td>1004</td>\n",
       "      <td>Inosuke</td>\n",
       "      <td>88.30</td>\n",
       "    </tr>\n",
       "  </tbody>\n",
       "</table>\n",
       "</div>"
      ],
      "text/plain": [
       "   Regd.No    Names  Marks%\n",
       "0     1000   Leorio   86.29\n",
       "1     1001   Killua   91.63\n",
       "2     1002  Zenitsu   72.90\n",
       "3     1003  Tomioka   69.23\n",
       "4     1004  Inosuke   88.30"
      ]
     },
     "execution_count": 6,
     "metadata": {},
     "output_type": "execute_result"
    }
   ],
   "source": [
    "data = {\"Regd.No\": [1000,1001,1002,1003,1004],\n",
    "       \"Names\": [\"Leorio\",\"Killua\",\"Zenitsu\",\"Tomioka\", \"Inosuke\"],\n",
    "       \"Marks%\": [86.29,91.63, 72.90,69.23,88.30]}\n",
    "pd.DataFrame(data)"
   ]
  },
  {
   "cell_type": "markdown",
   "id": "e5b600c2",
   "metadata": {},
   "source": [
    "## A Column is a Series\n",
    "A DataFrame is a collection of series.\n",
    "\n",
    "A series is a column in a table or a DataFrame.\n",
    "\n",
    "There are 3 series in the given DataFrame - ‘Regd. No’, ‘Names’ and ‘Marks%’."
   ]
  },
  {
   "cell_type": "markdown",
   "id": "b40eb9db",
   "metadata": {},
   "source": [
    "# Read and Write Files\n",
    "## Reading Data Files\n",
    "It is always good to be able to create a DataFrame by hand. But, generally, we don’t create our own data by hand. We work on the data that already exists.\n",
    "\n",
    "Data exists in a number of formats. The most basic of these is the CSV file. CSV stands for comma-separated-values.\n",
    "## What is a CSV file?\n",
    "-CSV files are normally created by programs that handle large amounts of data. They are a convenient way to export data from spreadsheets and databases and import or use it in other programs.\n",
    "\n",
    "-CSV is a simple file format used to store tabular data, such as a spreadsheet or database.\n",
    "\n",
    "-A CSV file stores tabular data (numbers and text) in plain text.\n",
    "\n",
    "-Each line of the file is a data record/row.\n",
    "Each record consists of one or more fields, separated by commas.\n",
    "\n",
    "The use of the comma as a field separator is the source of the name for this file format."
   ]
  },
  {
   "cell_type": "markdown",
   "id": "a073f2f2",
   "metadata": {},
   "source": [
    "# Working with CSV files in Python\n",
    "- For working with CSV files in python, there is an inbuilt module named csv.\n",
    "- However, a common method for working with CSV files is using Pandas. It makes importing and analyzing data much easier.\n",
    "- One crucial feature of Pandas is its ability to write and read Excel, CSV, and many other common types of files.\n",
    "## Pandas read_csv\n",
    "- Functions like the Pandas read_csv() method enable you to work with files effectively.\n",
    "- The read_csv() function reads the CSV file into a DataFrame object.\n",
    "- A CSV file is similar to a two-dimensional table and the DataFrame object represents two dimensional tabular view.\n",
    "- The most basic way to read a csv file in Pandas:"
   ]
  },
  {
   "cell_type": "code",
   "execution_count": 7,
   "id": "bd6fe279",
   "metadata": {},
   "outputs": [],
   "source": [
    "# reading CSV file\n",
    "#pd.read_csv(\"filename.csv\")"
   ]
  },
  {
   "cell_type": "markdown",
   "id": "4b6fbf81",
   "metadata": {},
   "source": [
    "- One can do many other things through this one function itself, to change the returned object completely.\n",
    "- For instance, one can read a CSV file not only locally, but from a URL through read_csv, or one can choose what columns need to be imported so that we don’t have to edit the array later.\n",
    "- These modifications can be done by the various arguments it takes."
   ]
  },
  {
   "cell_type": "markdown",
   "id": "83a29682",
   "metadata": {},
   "source": [
    "# Pandas to_csv with example\n",
    "The easiest way to write DataFrames to CSV files is using the Pandas to_csv function.\n",
    "- Syntax:"
   ]
  },
  {
   "cell_type": "code",
   "execution_count": 8,
   "id": "f3c07949",
   "metadata": {},
   "outputs": [],
   "source": [
    "# DataFrame to CSV file\n",
    "# df is the name of the DataFrame here\n",
    "# df.to_csv(\"file_name.csv\")"
   ]
  },
  {
   "cell_type": "markdown",
   "id": "dbbf22a9",
   "metadata": {},
   "source": [
    "- If you want to export without the index, simply add index=False:\n"
   ]
  },
  {
   "cell_type": "code",
   "execution_count": 9,
   "id": "1ce177fe",
   "metadata": {},
   "outputs": [],
   "source": [
    "# Specify index as False to import without index\n",
    "# df.to_csv(\"file_name.csv\", index = False)"
   ]
  },
  {
   "cell_type": "markdown",
   "id": "ed67f7ca",
   "metadata": {},
   "source": [
    "# Basic Methods and Attributes - On Real World Dataset\n",
    "## Dataset: Exam Scores\n",
    "This dataset contains marks secured by different students in an examination and their background information.\n",
    "\n",
    "## Read The dataset\n",
    "So far you have learned how to read a csv file using read_csv() function. Let’s see the practical implementation.\n",
    "read_csv() function is of pandas library. So the first task is always to import/load the library we will use.\n"
   ]
  },
  {
   "cell_type": "code",
   "execution_count": 10,
   "id": "2bd4aca4",
   "metadata": {},
   "outputs": [],
   "source": [
    "import pandas as pd"
   ]
  },
  {
   "cell_type": "code",
   "execution_count": 11,
   "id": "6d82cbf8",
   "metadata": {},
   "outputs": [],
   "source": [
    "# to read a csv file, use read_csv() function of pandas library.\n",
    "exam_scores = pd.read_csv(\"https://raw.githubusercontent.com/dphi-official/Datasets/master/exam_scores.csv\")"
   ]
  },
  {
   "cell_type": "markdown",
   "id": "a6e73eca",
   "metadata": {},
   "source": [
    "## Methods and Attributes of DataFrame\n",
    "- shape attribute\n",
    "shape: It will help you to know what is the shape of your DataFrame, i.e., (number of rows, number of columns).\n",
    "- After we have loaded the data we can check the shape of the DataFrame this attribute:"
   ]
  },
  {
   "cell_type": "code",
   "execution_count": 12,
   "id": "b4e01389",
   "metadata": {},
   "outputs": [
    {
     "data": {
      "text/plain": [
       "(1000, 8)"
      ]
     },
     "execution_count": 12,
     "metadata": {},
     "output_type": "execute_result"
    }
   ],
   "source": [
    "exam_scores.shape"
   ]
  },
  {
   "cell_type": "markdown",
   "id": "c10d4b4c",
   "metadata": {},
   "source": [
    "- So our DataFrame has 1000 rows and 8 columns. From here, we can also say that our DataFrame has 8000 entries."
   ]
  },
  {
   "cell_type": "markdown",
   "id": "5589a0f7",
   "metadata": {},
   "source": [
    "## head( ) method\n",
    "- head( ): It will help you see the first five observations of your DataFrame. You can get some idea about the content of your DataFrame.\n",
    "- head() gives us a quick look at the contents of the DataFrame, like column headers, data types of columns, what data each column has, etc."
   ]
  },
  {
   "cell_type": "code",
   "execution_count": 13,
   "id": "7c74208a",
   "metadata": {},
   "outputs": [
    {
     "data": {
      "text/html": [
       "<div>\n",
       "<style scoped>\n",
       "    .dataframe tbody tr th:only-of-type {\n",
       "        vertical-align: middle;\n",
       "    }\n",
       "\n",
       "    .dataframe tbody tr th {\n",
       "        vertical-align: top;\n",
       "    }\n",
       "\n",
       "    .dataframe thead th {\n",
       "        text-align: right;\n",
       "    }\n",
       "</style>\n",
       "<table border=\"1\" class=\"dataframe\">\n",
       "  <thead>\n",
       "    <tr style=\"text-align: right;\">\n",
       "      <th></th>\n",
       "      <th>gender</th>\n",
       "      <th>race/ethnicity</th>\n",
       "      <th>parental level of education</th>\n",
       "      <th>lunch</th>\n",
       "      <th>test preparation course</th>\n",
       "      <th>math score</th>\n",
       "      <th>reading score</th>\n",
       "      <th>writing score</th>\n",
       "    </tr>\n",
       "  </thead>\n",
       "  <tbody>\n",
       "    <tr>\n",
       "      <th>0</th>\n",
       "      <td>male</td>\n",
       "      <td>group B</td>\n",
       "      <td>bachelor's degree</td>\n",
       "      <td>standard</td>\n",
       "      <td>none</td>\n",
       "      <td>74</td>\n",
       "      <td>68</td>\n",
       "      <td>67</td>\n",
       "    </tr>\n",
       "    <tr>\n",
       "      <th>1</th>\n",
       "      <td>female</td>\n",
       "      <td>group C</td>\n",
       "      <td>some college</td>\n",
       "      <td>standard</td>\n",
       "      <td>completed</td>\n",
       "      <td>58</td>\n",
       "      <td>68</td>\n",
       "      <td>66</td>\n",
       "    </tr>\n",
       "    <tr>\n",
       "      <th>2</th>\n",
       "      <td>male</td>\n",
       "      <td>group C</td>\n",
       "      <td>some college</td>\n",
       "      <td>free/reduced</td>\n",
       "      <td>none</td>\n",
       "      <td>66</td>\n",
       "      <td>65</td>\n",
       "      <td>65</td>\n",
       "    </tr>\n",
       "    <tr>\n",
       "      <th>3</th>\n",
       "      <td>female</td>\n",
       "      <td>group D</td>\n",
       "      <td>bachelor's degree</td>\n",
       "      <td>free/reduced</td>\n",
       "      <td>none</td>\n",
       "      <td>74</td>\n",
       "      <td>75</td>\n",
       "      <td>73</td>\n",
       "    </tr>\n",
       "    <tr>\n",
       "      <th>4</th>\n",
       "      <td>male</td>\n",
       "      <td>group D</td>\n",
       "      <td>some college</td>\n",
       "      <td>standard</td>\n",
       "      <td>none</td>\n",
       "      <td>78</td>\n",
       "      <td>77</td>\n",
       "      <td>71</td>\n",
       "    </tr>\n",
       "  </tbody>\n",
       "</table>\n",
       "</div>"
      ],
      "text/plain": [
       "   gender race/ethnicity parental level of education         lunch  \\\n",
       "0    male        group B           bachelor's degree      standard   \n",
       "1  female        group C                some college      standard   \n",
       "2    male        group C                some college  free/reduced   \n",
       "3  female        group D           bachelor's degree  free/reduced   \n",
       "4    male        group D                some college      standard   \n",
       "\n",
       "  test preparation course  math score  reading score  writing score  \n",
       "0                    none          74             68             67  \n",
       "1               completed          58             68             66  \n",
       "2                    none          66             65             65  \n",
       "3                    none          74             75             73  \n",
       "4                    none          78             77             71  "
      ]
     },
     "execution_count": 13,
     "metadata": {},
     "output_type": "execute_result"
    }
   ],
   "source": [
    "exam_scores.head()"
   ]
  },
  {
   "cell_type": "markdown",
   "id": "b4e2362f",
   "metadata": {},
   "source": [
    "- We can see the first five observations of the dataset in the above table.\n",
    "## tail( ) method\n",
    "- tail( ): This method is similar to head() method but instead of first five it will give you the last five observations from your dataset."
   ]
  },
  {
   "cell_type": "code",
   "execution_count": 14,
   "id": "43f975f7",
   "metadata": {},
   "outputs": [
    {
     "data": {
      "text/html": [
       "<div>\n",
       "<style scoped>\n",
       "    .dataframe tbody tr th:only-of-type {\n",
       "        vertical-align: middle;\n",
       "    }\n",
       "\n",
       "    .dataframe tbody tr th {\n",
       "        vertical-align: top;\n",
       "    }\n",
       "\n",
       "    .dataframe thead th {\n",
       "        text-align: right;\n",
       "    }\n",
       "</style>\n",
       "<table border=\"1\" class=\"dataframe\">\n",
       "  <thead>\n",
       "    <tr style=\"text-align: right;\">\n",
       "      <th></th>\n",
       "      <th>gender</th>\n",
       "      <th>race/ethnicity</th>\n",
       "      <th>parental level of education</th>\n",
       "      <th>lunch</th>\n",
       "      <th>test preparation course</th>\n",
       "      <th>math score</th>\n",
       "      <th>reading score</th>\n",
       "      <th>writing score</th>\n",
       "    </tr>\n",
       "  </thead>\n",
       "  <tbody>\n",
       "    <tr>\n",
       "      <th>995</th>\n",
       "      <td>female</td>\n",
       "      <td>group C</td>\n",
       "      <td>some high school</td>\n",
       "      <td>standard</td>\n",
       "      <td>none</td>\n",
       "      <td>68</td>\n",
       "      <td>77</td>\n",
       "      <td>72</td>\n",
       "    </tr>\n",
       "    <tr>\n",
       "      <th>996</th>\n",
       "      <td>female</td>\n",
       "      <td>group E</td>\n",
       "      <td>some college</td>\n",
       "      <td>standard</td>\n",
       "      <td>none</td>\n",
       "      <td>98</td>\n",
       "      <td>81</td>\n",
       "      <td>94</td>\n",
       "    </tr>\n",
       "    <tr>\n",
       "      <th>997</th>\n",
       "      <td>female</td>\n",
       "      <td>group E</td>\n",
       "      <td>associate's degree</td>\n",
       "      <td>free/reduced</td>\n",
       "      <td>none</td>\n",
       "      <td>67</td>\n",
       "      <td>67</td>\n",
       "      <td>67</td>\n",
       "    </tr>\n",
       "    <tr>\n",
       "      <th>998</th>\n",
       "      <td>female</td>\n",
       "      <td>group C</td>\n",
       "      <td>high school</td>\n",
       "      <td>standard</td>\n",
       "      <td>none</td>\n",
       "      <td>63</td>\n",
       "      <td>68</td>\n",
       "      <td>70</td>\n",
       "    </tr>\n",
       "    <tr>\n",
       "      <th>999</th>\n",
       "      <td>male</td>\n",
       "      <td>group C</td>\n",
       "      <td>some college</td>\n",
       "      <td>free/reduced</td>\n",
       "      <td>none</td>\n",
       "      <td>49</td>\n",
       "      <td>57</td>\n",
       "      <td>50</td>\n",
       "    </tr>\n",
       "  </tbody>\n",
       "</table>\n",
       "</div>"
      ],
      "text/plain": [
       "     gender race/ethnicity parental level of education         lunch  \\\n",
       "995  female        group C            some high school      standard   \n",
       "996  female        group E                some college      standard   \n",
       "997  female        group E          associate's degree  free/reduced   \n",
       "998  female        group C                 high school      standard   \n",
       "999    male        group C                some college  free/reduced   \n",
       "\n",
       "    test preparation course  math score  reading score  writing score  \n",
       "995                    none          68             77             72  \n",
       "996                    none          98             81             94  \n",
       "997                    none          67             67             67  \n",
       "998                    none          63             68             70  \n",
       "999                    none          49             57             50  "
      ]
     },
     "execution_count": 14,
     "metadata": {},
     "output_type": "execute_result"
    }
   ],
   "source": [
    "exam_scores.tail()"
   ]
  },
  {
   "cell_type": "markdown",
   "id": "ba2a8fa0",
   "metadata": {},
   "source": [
    "- We can see the last five observations of the dataset in the above table.\n"
   ]
  },
  {
   "cell_type": "markdown",
   "id": "14f05b89",
   "metadata": {},
   "source": [
    "## head( ) and tail( )\n",
    "We can also add the number of rows to be displayed in both head( ) and tail( ). See the examples below:"
   ]
  },
  {
   "cell_type": "code",
   "execution_count": 15,
   "id": "711d0085",
   "metadata": {},
   "outputs": [
    {
     "data": {
      "text/html": [
       "<div>\n",
       "<style scoped>\n",
       "    .dataframe tbody tr th:only-of-type {\n",
       "        vertical-align: middle;\n",
       "    }\n",
       "\n",
       "    .dataframe tbody tr th {\n",
       "        vertical-align: top;\n",
       "    }\n",
       "\n",
       "    .dataframe thead th {\n",
       "        text-align: right;\n",
       "    }\n",
       "</style>\n",
       "<table border=\"1\" class=\"dataframe\">\n",
       "  <thead>\n",
       "    <tr style=\"text-align: right;\">\n",
       "      <th></th>\n",
       "      <th>gender</th>\n",
       "      <th>race/ethnicity</th>\n",
       "      <th>parental level of education</th>\n",
       "      <th>lunch</th>\n",
       "      <th>test preparation course</th>\n",
       "      <th>math score</th>\n",
       "      <th>reading score</th>\n",
       "      <th>writing score</th>\n",
       "    </tr>\n",
       "  </thead>\n",
       "  <tbody>\n",
       "    <tr>\n",
       "      <th>0</th>\n",
       "      <td>male</td>\n",
       "      <td>group B</td>\n",
       "      <td>bachelor's degree</td>\n",
       "      <td>standard</td>\n",
       "      <td>none</td>\n",
       "      <td>74</td>\n",
       "      <td>68</td>\n",
       "      <td>67</td>\n",
       "    </tr>\n",
       "    <tr>\n",
       "      <th>1</th>\n",
       "      <td>female</td>\n",
       "      <td>group C</td>\n",
       "      <td>some college</td>\n",
       "      <td>standard</td>\n",
       "      <td>completed</td>\n",
       "      <td>58</td>\n",
       "      <td>68</td>\n",
       "      <td>66</td>\n",
       "    </tr>\n",
       "  </tbody>\n",
       "</table>\n",
       "</div>"
      ],
      "text/plain": [
       "   gender race/ethnicity parental level of education     lunch  \\\n",
       "0    male        group B           bachelor's degree  standard   \n",
       "1  female        group C                some college  standard   \n",
       "\n",
       "  test preparation course  math score  reading score  writing score  \n",
       "0                    none          74             68             67  \n",
       "1               completed          58             68             66  "
      ]
     },
     "execution_count": 15,
     "metadata": {},
     "output_type": "execute_result"
    }
   ],
   "source": [
    "exam_scores.head(2)"
   ]
  },
  {
   "cell_type": "code",
   "execution_count": 16,
   "id": "c1045993",
   "metadata": {},
   "outputs": [
    {
     "data": {
      "text/html": [
       "<div>\n",
       "<style scoped>\n",
       "    .dataframe tbody tr th:only-of-type {\n",
       "        vertical-align: middle;\n",
       "    }\n",
       "\n",
       "    .dataframe tbody tr th {\n",
       "        vertical-align: top;\n",
       "    }\n",
       "\n",
       "    .dataframe thead th {\n",
       "        text-align: right;\n",
       "    }\n",
       "</style>\n",
       "<table border=\"1\" class=\"dataframe\">\n",
       "  <thead>\n",
       "    <tr style=\"text-align: right;\">\n",
       "      <th></th>\n",
       "      <th>gender</th>\n",
       "      <th>race/ethnicity</th>\n",
       "      <th>parental level of education</th>\n",
       "      <th>lunch</th>\n",
       "      <th>test preparation course</th>\n",
       "      <th>math score</th>\n",
       "      <th>reading score</th>\n",
       "      <th>writing score</th>\n",
       "    </tr>\n",
       "  </thead>\n",
       "  <tbody>\n",
       "    <tr>\n",
       "      <th>998</th>\n",
       "      <td>female</td>\n",
       "      <td>group C</td>\n",
       "      <td>high school</td>\n",
       "      <td>standard</td>\n",
       "      <td>none</td>\n",
       "      <td>63</td>\n",
       "      <td>68</td>\n",
       "      <td>70</td>\n",
       "    </tr>\n",
       "    <tr>\n",
       "      <th>999</th>\n",
       "      <td>male</td>\n",
       "      <td>group C</td>\n",
       "      <td>some college</td>\n",
       "      <td>free/reduced</td>\n",
       "      <td>none</td>\n",
       "      <td>49</td>\n",
       "      <td>57</td>\n",
       "      <td>50</td>\n",
       "    </tr>\n",
       "  </tbody>\n",
       "</table>\n",
       "</div>"
      ],
      "text/plain": [
       "     gender race/ethnicity parental level of education         lunch  \\\n",
       "998  female        group C                 high school      standard   \n",
       "999    male        group C                some college  free/reduced   \n",
       "\n",
       "    test preparation course  math score  reading score  writing score  \n",
       "998                    none          63             68             70  \n",
       "999                    none          49             57             50  "
      ]
     },
     "execution_count": 16,
     "metadata": {},
     "output_type": "execute_result"
    }
   ],
   "source": [
    "exam_scores.tail(2)"
   ]
  },
  {
   "cell_type": "markdown",
   "id": "6dc69554",
   "metadata": {},
   "source": [
    "## dtypes\n",
    "- dtypes: It will help you know about the data types of each column.\n",
    "- To know the data types associated with each column, we can use dtypes attribute.\n"
   ]
  },
  {
   "cell_type": "code",
   "execution_count": 17,
   "id": "ec81fa8e",
   "metadata": {},
   "outputs": [
    {
     "data": {
      "text/plain": [
       "gender                         object\n",
       "race/ethnicity                 object\n",
       "parental level of education    object\n",
       "lunch                          object\n",
       "test preparation course        object\n",
       "math score                      int64\n",
       "reading score                   int64\n",
       "writing score                   int64\n",
       "dtype: object"
      ]
     },
     "execution_count": 17,
     "metadata": {},
     "output_type": "execute_result"
    }
   ],
   "source": [
    "exam_scores.dtypes"
   ]
  },
  {
   "cell_type": "markdown",
   "id": "57019193",
   "metadata": {},
   "source": [
    "We can observe from this output:\n",
    "\n",
    "- 'gender', 'race/ethnicity', 'parental level of education', 'lunch' and 'test preparation course' are of data type - object.\n",
    "- 'math score', 'reading score' and 'writing score' are of data type - int64 (i.e. integer)."
   ]
  },
  {
   "cell_type": "markdown",
   "id": "f9263f4b",
   "metadata": {},
   "source": [
    "## info( )\n",
    "info( ): This method will return a concise summary about the DataFrame."
   ]
  },
  {
   "cell_type": "code",
   "execution_count": 18,
   "id": "cec6d5ea",
   "metadata": {},
   "outputs": [
    {
     "name": "stdout",
     "output_type": "stream",
     "text": [
      "<class 'pandas.core.frame.DataFrame'>\n",
      "RangeIndex: 1000 entries, 0 to 999\n",
      "Data columns (total 8 columns):\n",
      " #   Column                       Non-Null Count  Dtype \n",
      "---  ------                       --------------  ----- \n",
      " 0   gender                       1000 non-null   object\n",
      " 1   race/ethnicity               1000 non-null   object\n",
      " 2   parental level of education  1000 non-null   object\n",
      " 3   lunch                        1000 non-null   object\n",
      " 4   test preparation course      1000 non-null   object\n",
      " 5   math score                   1000 non-null   int64 \n",
      " 6   reading score                1000 non-null   int64 \n",
      " 7   writing score                1000 non-null   int64 \n",
      "dtypes: int64(3), object(5)\n",
      "memory usage: 62.6+ KB\n"
     ]
    }
   ],
   "source": [
    "exam_scores.info()"
   ]
  },
  {
   "cell_type": "markdown",
   "id": "6f091820",
   "metadata": {},
   "source": [
    "# Use Case\n",
    "## Real-World Use Case\n",
    "One of the very first things you should learn is to select the relevant data quickly and effectively from a DataFrame. This is a very basic step that is needed in almost any data operation that you will run.\n",
    "\n",
    "- For example:\n",
    "\n",
    "Say, you are a data scientist at Amazon. During the time of New Year, your supervisor asked you to give a discount of 50% for all the electronic items available at Amazon.\n",
    "\n",
    "You will never want to go to each electronic item and assign a discount of 50% to each of them. This would be a very time-consuming task. Instead, you would want to select all the items that fall under the category ‘Electronics’ and then give all of them a discount of 50% in one go. So easy, right? This is where you will need to index, select and assign data in a DataFrame."
   ]
  },
  {
   "cell_type": "markdown",
   "id": "4e8c197f",
   "metadata": {},
   "source": [
    "# Indexing\n",
    "## What is Indexing in Pandas?\n",
    "- Indexing in Pandas means selecting particular rows and columns from a DataFrame.\n",
    "- Indexing in Pandas is the same as we did for a Python List and a NumPy array.\n",
    "- There are two different methods of indexing in Pandas:\n",
    "  - loc - label based selection\n",
    "  - iloc - index-based selection"
   ]
  },
  {
   "cell_type": "markdown",
   "id": "077bfec6",
   "metadata": {},
   "source": [
    "# Index-Based Selection\n",
    "- Index-based selection is to select data based on its numerical position in DataFrame.\n",
    "- iloc is used for selecting data based on numerical position.\n",
    "The syntax for using the iloc operator is\n"
   ]
  },
  {
   "cell_type": "code",
   "execution_count": 19,
   "id": "e967feae",
   "metadata": {},
   "outputs": [],
   "source": [
    "# df.iloc[ ]"
   ]
  },
  {
   "cell_type": "markdown",
   "id": "5f582246",
   "metadata": {},
   "source": [
    "where df is a DataFrame name. You can pass the numerical positions of rows and columns to select in the square bracket.\n",
    "- Do you remember the indexing in a NumPy array? If not, don’t worry; you will soon see its implementation on a dataset.\n",
    "- Import Pandas Library and load the ‘exam_scores.csv’ file"
   ]
  },
  {
   "cell_type": "code",
   "execution_count": 20,
   "id": "5253bf38",
   "metadata": {},
   "outputs": [
    {
     "data": {
      "text/plain": [
       "'male'"
      ]
     },
     "execution_count": 20,
     "metadata": {},
     "output_type": "execute_result"
    }
   ],
   "source": [
    "# select first row and column\n",
    "exam_scores.iloc[0,0]"
   ]
  },
  {
   "cell_type": "code",
   "execution_count": 21,
   "id": "d64fb419",
   "metadata": {},
   "outputs": [],
   "source": [
    "# select first five rows and 5th column - remeber python supports 0 based on indexing\n",
    "# if you want to select 5th column that means column 4th index"
   ]
  },
  {
   "cell_type": "code",
   "execution_count": 22,
   "id": "c80fdb25",
   "metadata": {},
   "outputs": [
    {
     "data": {
      "text/plain": [
       "0         none\n",
       "1    completed\n",
       "2         none\n",
       "3         none\n",
       "4         none\n",
       "Name: test preparation course, dtype: object"
      ]
     },
     "execution_count": 22,
     "metadata": {},
     "output_type": "execute_result"
    }
   ],
   "source": [
    "exam_scores.iloc[0:5,4]"
   ]
  },
  {
   "cell_type": "code",
   "execution_count": 24,
   "id": "c3a87249",
   "metadata": {},
   "outputs": [
    {
     "data": {
      "text/html": [
       "<div>\n",
       "<style scoped>\n",
       "    .dataframe tbody tr th:only-of-type {\n",
       "        vertical-align: middle;\n",
       "    }\n",
       "\n",
       "    .dataframe tbody tr th {\n",
       "        vertical-align: top;\n",
       "    }\n",
       "\n",
       "    .dataframe thead th {\n",
       "        text-align: right;\n",
       "    }\n",
       "</style>\n",
       "<table border=\"1\" class=\"dataframe\">\n",
       "  <thead>\n",
       "    <tr style=\"text-align: right;\">\n",
       "      <th></th>\n",
       "      <th>gender</th>\n",
       "      <th>race/ethnicity</th>\n",
       "      <th>parental level of education</th>\n",
       "      <th>lunch</th>\n",
       "      <th>test preparation course</th>\n",
       "      <th>math score</th>\n",
       "      <th>reading score</th>\n",
       "      <th>writing score</th>\n",
       "    </tr>\n",
       "  </thead>\n",
       "  <tbody>\n",
       "    <tr>\n",
       "      <th>0</th>\n",
       "      <td>male</td>\n",
       "      <td>group B</td>\n",
       "      <td>bachelor's degree</td>\n",
       "      <td>standard</td>\n",
       "      <td>none</td>\n",
       "      <td>74</td>\n",
       "      <td>68</td>\n",
       "      <td>67</td>\n",
       "    </tr>\n",
       "    <tr>\n",
       "      <th>1</th>\n",
       "      <td>female</td>\n",
       "      <td>group C</td>\n",
       "      <td>some college</td>\n",
       "      <td>standard</td>\n",
       "      <td>completed</td>\n",
       "      <td>58</td>\n",
       "      <td>68</td>\n",
       "      <td>66</td>\n",
       "    </tr>\n",
       "    <tr>\n",
       "      <th>2</th>\n",
       "      <td>male</td>\n",
       "      <td>group C</td>\n",
       "      <td>some college</td>\n",
       "      <td>free/reduced</td>\n",
       "      <td>none</td>\n",
       "      <td>66</td>\n",
       "      <td>65</td>\n",
       "      <td>65</td>\n",
       "    </tr>\n",
       "    <tr>\n",
       "      <th>3</th>\n",
       "      <td>female</td>\n",
       "      <td>group D</td>\n",
       "      <td>bachelor's degree</td>\n",
       "      <td>free/reduced</td>\n",
       "      <td>none</td>\n",
       "      <td>74</td>\n",
       "      <td>75</td>\n",
       "      <td>73</td>\n",
       "    </tr>\n",
       "    <tr>\n",
       "      <th>4</th>\n",
       "      <td>male</td>\n",
       "      <td>group D</td>\n",
       "      <td>some college</td>\n",
       "      <td>standard</td>\n",
       "      <td>none</td>\n",
       "      <td>78</td>\n",
       "      <td>77</td>\n",
       "      <td>71</td>\n",
       "    </tr>\n",
       "    <tr>\n",
       "      <th>...</th>\n",
       "      <td>...</td>\n",
       "      <td>...</td>\n",
       "      <td>...</td>\n",
       "      <td>...</td>\n",
       "      <td>...</td>\n",
       "      <td>...</td>\n",
       "      <td>...</td>\n",
       "      <td>...</td>\n",
       "    </tr>\n",
       "    <tr>\n",
       "      <th>995</th>\n",
       "      <td>female</td>\n",
       "      <td>group C</td>\n",
       "      <td>some high school</td>\n",
       "      <td>standard</td>\n",
       "      <td>none</td>\n",
       "      <td>68</td>\n",
       "      <td>77</td>\n",
       "      <td>72</td>\n",
       "    </tr>\n",
       "    <tr>\n",
       "      <th>996</th>\n",
       "      <td>female</td>\n",
       "      <td>group E</td>\n",
       "      <td>some college</td>\n",
       "      <td>standard</td>\n",
       "      <td>none</td>\n",
       "      <td>98</td>\n",
       "      <td>81</td>\n",
       "      <td>94</td>\n",
       "    </tr>\n",
       "    <tr>\n",
       "      <th>997</th>\n",
       "      <td>female</td>\n",
       "      <td>group E</td>\n",
       "      <td>associate's degree</td>\n",
       "      <td>free/reduced</td>\n",
       "      <td>none</td>\n",
       "      <td>67</td>\n",
       "      <td>67</td>\n",
       "      <td>67</td>\n",
       "    </tr>\n",
       "    <tr>\n",
       "      <th>998</th>\n",
       "      <td>female</td>\n",
       "      <td>group C</td>\n",
       "      <td>high school</td>\n",
       "      <td>standard</td>\n",
       "      <td>none</td>\n",
       "      <td>63</td>\n",
       "      <td>68</td>\n",
       "      <td>70</td>\n",
       "    </tr>\n",
       "    <tr>\n",
       "      <th>999</th>\n",
       "      <td>male</td>\n",
       "      <td>group C</td>\n",
       "      <td>some college</td>\n",
       "      <td>free/reduced</td>\n",
       "      <td>none</td>\n",
       "      <td>49</td>\n",
       "      <td>57</td>\n",
       "      <td>50</td>\n",
       "    </tr>\n",
       "  </tbody>\n",
       "</table>\n",
       "<p>1000 rows × 8 columns</p>\n",
       "</div>"
      ],
      "text/plain": [
       "     gender race/ethnicity parental level of education         lunch  \\\n",
       "0      male        group B           bachelor's degree      standard   \n",
       "1    female        group C                some college      standard   \n",
       "2      male        group C                some college  free/reduced   \n",
       "3    female        group D           bachelor's degree  free/reduced   \n",
       "4      male        group D                some college      standard   \n",
       "..      ...            ...                         ...           ...   \n",
       "995  female        group C            some high school      standard   \n",
       "996  female        group E                some college      standard   \n",
       "997  female        group E          associate's degree  free/reduced   \n",
       "998  female        group C                 high school      standard   \n",
       "999    male        group C                some college  free/reduced   \n",
       "\n",
       "    test preparation course  math score  reading score  writing score  \n",
       "0                      none          74             68             67  \n",
       "1                 completed          58             68             66  \n",
       "2                      none          66             65             65  \n",
       "3                      none          74             75             73  \n",
       "4                      none          78             77             71  \n",
       "..                      ...         ...            ...            ...  \n",
       "995                    none          68             77             72  \n",
       "996                    none          98             81             94  \n",
       "997                    none          67             67             67  \n",
       "998                    none          63             68             70  \n",
       "999                    none          49             57             50  \n",
       "\n",
       "[1000 rows x 8 columns]"
      ]
     },
     "execution_count": 24,
     "metadata": {},
     "output_type": "execute_result"
    }
   ],
   "source": [
    "# if you don't provide any index before and after : in indexing it means it will select all the items\n",
    "exam_scores.iloc[:,:]"
   ]
  },
  {
   "cell_type": "code",
   "execution_count": 25,
   "id": "954091d1",
   "metadata": {},
   "outputs": [
    {
     "data": {
      "text/plain": [
       "0    bachelor's degree\n",
       "1         some college\n",
       "2         some college\n",
       "3    bachelor's degree\n",
       "Name: parental level of education, dtype: object"
      ]
     },
     "execution_count": 25,
     "metadata": {},
     "output_type": "execute_result"
    }
   ],
   "source": [
    "# You can also pass list of indexes\n",
    "exam_scores.iloc[[0,1,2,3],2]"
   ]
  },
  {
   "cell_type": "code",
   "execution_count": 26,
   "id": "646d9d37",
   "metadata": {},
   "outputs": [
    {
     "data": {
      "text/html": [
       "<div>\n",
       "<style scoped>\n",
       "    .dataframe tbody tr th:only-of-type {\n",
       "        vertical-align: middle;\n",
       "    }\n",
       "\n",
       "    .dataframe tbody tr th {\n",
       "        vertical-align: top;\n",
       "    }\n",
       "\n",
       "    .dataframe thead th {\n",
       "        text-align: right;\n",
       "    }\n",
       "</style>\n",
       "<table border=\"1\" class=\"dataframe\">\n",
       "  <thead>\n",
       "    <tr style=\"text-align: right;\">\n",
       "      <th></th>\n",
       "      <th>gender</th>\n",
       "      <th>race/ethnicity</th>\n",
       "    </tr>\n",
       "  </thead>\n",
       "  <tbody>\n",
       "    <tr>\n",
       "      <th>995</th>\n",
       "      <td>female</td>\n",
       "      <td>group C</td>\n",
       "    </tr>\n",
       "    <tr>\n",
       "      <th>996</th>\n",
       "      <td>female</td>\n",
       "      <td>group E</td>\n",
       "    </tr>\n",
       "    <tr>\n",
       "      <th>997</th>\n",
       "      <td>female</td>\n",
       "      <td>group E</td>\n",
       "    </tr>\n",
       "    <tr>\n",
       "      <th>998</th>\n",
       "      <td>female</td>\n",
       "      <td>group C</td>\n",
       "    </tr>\n",
       "    <tr>\n",
       "      <th>999</th>\n",
       "      <td>male</td>\n",
       "      <td>group C</td>\n",
       "    </tr>\n",
       "  </tbody>\n",
       "</table>\n",
       "</div>"
      ],
      "text/plain": [
       "     gender race/ethnicity\n",
       "995  female        group C\n",
       "996  female        group E\n",
       "997  female        group E\n",
       "998  female        group C\n",
       "999    male        group C"
      ]
     },
     "execution_count": 26,
     "metadata": {},
     "output_type": "execute_result"
    }
   ],
   "source": [
    "# You can also pass negative indexes\n",
    "exam_scores.iloc[-5:, 0:2]"
   ]
  },
  {
   "cell_type": "markdown",
   "id": "24f5b0ca",
   "metadata": {},
   "source": [
    "# Label-Based Selection\n",
    "- Label-based selection selects data based on the column or row names/index. This becomes important while selecting data from a DataFrame.\n",
    "- Label-based selection is made with loc.\n",
    "- Do you remember the python default indexing of the DataFrame and the indexes/names that you changed in the previous topics?\n",
    "- loc and iloc are conceptually similar. The difference is that iloc considers the default indexing while loc ignores the default indexing.\n",
    "- loc is used for selecting data based on the data index value/name, not the numerical positions.\n",
    "The syntax for loc is similar to iloc:\n"
   ]
  },
  {
   "cell_type": "code",
   "execution_count": 27,
   "id": "ea643abf",
   "metadata": {},
   "outputs": [],
   "source": [
    "# df.loc[]  , where df is the DataFrame name."
   ]
  },
  {
   "cell_type": "markdown",
   "id": "bb83d1c6",
   "metadata": {},
   "source": [
    "## Selecting data using loc:"
   ]
  },
  {
   "cell_type": "code",
   "execution_count": 28,
   "id": "fbecf31b",
   "metadata": {},
   "outputs": [
    {
     "data": {
      "text/plain": [
       "'group B'"
      ]
     },
     "execution_count": 28,
     "metadata": {},
     "output_type": "execute_result"
    }
   ],
   "source": [
    "# to get first entry in race/ethnicity\n",
    "exam_scores.loc[0, \"race/ethnicity\"]"
   ]
  },
  {
   "cell_type": "code",
   "execution_count": 29,
   "id": "c9367cf3",
   "metadata": {},
   "outputs": [
    {
     "data": {
      "text/html": [
       "<div>\n",
       "<style scoped>\n",
       "    .dataframe tbody tr th:only-of-type {\n",
       "        vertical-align: middle;\n",
       "    }\n",
       "\n",
       "    .dataframe tbody tr th {\n",
       "        vertical-align: top;\n",
       "    }\n",
       "\n",
       "    .dataframe thead th {\n",
       "        text-align: right;\n",
       "    }\n",
       "</style>\n",
       "<table border=\"1\" class=\"dataframe\">\n",
       "  <thead>\n",
       "    <tr style=\"text-align: right;\">\n",
       "      <th></th>\n",
       "      <th>gender</th>\n",
       "      <th>lunch</th>\n",
       "      <th>math score</th>\n",
       "    </tr>\n",
       "  </thead>\n",
       "  <tbody>\n",
       "    <tr>\n",
       "      <th>0</th>\n",
       "      <td>male</td>\n",
       "      <td>standard</td>\n",
       "      <td>74</td>\n",
       "    </tr>\n",
       "    <tr>\n",
       "      <th>1</th>\n",
       "      <td>female</td>\n",
       "      <td>standard</td>\n",
       "      <td>58</td>\n",
       "    </tr>\n",
       "    <tr>\n",
       "      <th>2</th>\n",
       "      <td>male</td>\n",
       "      <td>free/reduced</td>\n",
       "      <td>66</td>\n",
       "    </tr>\n",
       "    <tr>\n",
       "      <th>3</th>\n",
       "      <td>female</td>\n",
       "      <td>free/reduced</td>\n",
       "      <td>74</td>\n",
       "    </tr>\n",
       "    <tr>\n",
       "      <th>4</th>\n",
       "      <td>male</td>\n",
       "      <td>standard</td>\n",
       "      <td>78</td>\n",
       "    </tr>\n",
       "    <tr>\n",
       "      <th>5</th>\n",
       "      <td>female</td>\n",
       "      <td>standard</td>\n",
       "      <td>75</td>\n",
       "    </tr>\n",
       "  </tbody>\n",
       "</table>\n",
       "</div>"
      ],
      "text/plain": [
       "   gender         lunch  math score\n",
       "0    male      standard          74\n",
       "1  female      standard          58\n",
       "2    male  free/reduced          66\n",
       "3  female  free/reduced          74\n",
       "4    male      standard          78\n",
       "5  female      standard          75"
      ]
     },
     "execution_count": 29,
     "metadata": {},
     "output_type": "execute_result"
    }
   ],
   "source": [
    "# select first five rows for columns - gender,lunch and math score\n",
    "exam_scores.loc[0:5, [\"gender\", \"lunch\", \"math score\"]]"
   ]
  },
  {
   "cell_type": "markdown",
   "id": "92eb9388",
   "metadata": {},
   "source": [
    "# Selecting\n",
    "Attribute (Dot) Based Selection"
   ]
  },
  {
   "cell_type": "code",
   "execution_count": 33,
   "id": "be066442",
   "metadata": {},
   "outputs": [
    {
     "data": {
      "text/plain": [
       "0        male\n",
       "1      female\n",
       "2        male\n",
       "3      female\n",
       "4        male\n",
       "        ...  \n",
       "995    female\n",
       "996    female\n",
       "997    female\n",
       "998    female\n",
       "999      male\n",
       "Name: gender, Length: 1000, dtype: object"
      ]
     },
     "execution_count": 33,
     "metadata": {},
     "output_type": "execute_result"
    }
   ],
   "source": [
    "# selecting a column\n",
    "exam_scores.gender\n"
   ]
  },
  {
   "cell_type": "markdown",
   "id": "1db6671f",
   "metadata": {},
   "source": [
    "# Dictionary (Bracket) Based Selection"
   ]
  },
  {
   "cell_type": "code",
   "execution_count": 34,
   "id": "31a3ed88",
   "metadata": {},
   "outputs": [
    {
     "data": {
      "text/plain": [
       "0        male\n",
       "1      female\n",
       "2        male\n",
       "3      female\n",
       "4        male\n",
       "        ...  \n",
       "995    female\n",
       "996    female\n",
       "997    female\n",
       "998    female\n",
       "999      male\n",
       "Name: gender, Length: 1000, dtype: object"
      ]
     },
     "execution_count": 34,
     "metadata": {},
     "output_type": "execute_result"
    }
   ],
   "source": [
    "exam_scores[\"gender\"]"
   ]
  },
  {
   "cell_type": "markdown",
   "id": "3469c0e4",
   "metadata": {},
   "source": [
    "## Selecting Multiple Columns\n",
    "- While selecting multiple columns, we use double square brackets [[]]."
   ]
  },
  {
   "cell_type": "code",
   "execution_count": 35,
   "id": "f3e728cb",
   "metadata": {},
   "outputs": [
    {
     "data": {
      "text/html": [
       "<div>\n",
       "<style scoped>\n",
       "    .dataframe tbody tr th:only-of-type {\n",
       "        vertical-align: middle;\n",
       "    }\n",
       "\n",
       "    .dataframe tbody tr th {\n",
       "        vertical-align: top;\n",
       "    }\n",
       "\n",
       "    .dataframe thead th {\n",
       "        text-align: right;\n",
       "    }\n",
       "</style>\n",
       "<table border=\"1\" class=\"dataframe\">\n",
       "  <thead>\n",
       "    <tr style=\"text-align: right;\">\n",
       "      <th></th>\n",
       "      <th>lunch</th>\n",
       "      <th>gender</th>\n",
       "    </tr>\n",
       "  </thead>\n",
       "  <tbody>\n",
       "    <tr>\n",
       "      <th>0</th>\n",
       "      <td>standard</td>\n",
       "      <td>male</td>\n",
       "    </tr>\n",
       "    <tr>\n",
       "      <th>1</th>\n",
       "      <td>standard</td>\n",
       "      <td>female</td>\n",
       "    </tr>\n",
       "    <tr>\n",
       "      <th>2</th>\n",
       "      <td>free/reduced</td>\n",
       "      <td>male</td>\n",
       "    </tr>\n",
       "    <tr>\n",
       "      <th>3</th>\n",
       "      <td>free/reduced</td>\n",
       "      <td>female</td>\n",
       "    </tr>\n",
       "    <tr>\n",
       "      <th>4</th>\n",
       "      <td>standard</td>\n",
       "      <td>male</td>\n",
       "    </tr>\n",
       "    <tr>\n",
       "      <th>...</th>\n",
       "      <td>...</td>\n",
       "      <td>...</td>\n",
       "    </tr>\n",
       "    <tr>\n",
       "      <th>995</th>\n",
       "      <td>standard</td>\n",
       "      <td>female</td>\n",
       "    </tr>\n",
       "    <tr>\n",
       "      <th>996</th>\n",
       "      <td>standard</td>\n",
       "      <td>female</td>\n",
       "    </tr>\n",
       "    <tr>\n",
       "      <th>997</th>\n",
       "      <td>free/reduced</td>\n",
       "      <td>female</td>\n",
       "    </tr>\n",
       "    <tr>\n",
       "      <th>998</th>\n",
       "      <td>standard</td>\n",
       "      <td>female</td>\n",
       "    </tr>\n",
       "    <tr>\n",
       "      <th>999</th>\n",
       "      <td>free/reduced</td>\n",
       "      <td>male</td>\n",
       "    </tr>\n",
       "  </tbody>\n",
       "</table>\n",
       "<p>1000 rows × 2 columns</p>\n",
       "</div>"
      ],
      "text/plain": [
       "            lunch  gender\n",
       "0        standard    male\n",
       "1        standard  female\n",
       "2    free/reduced    male\n",
       "3    free/reduced  female\n",
       "4        standard    male\n",
       "..            ...     ...\n",
       "995      standard  female\n",
       "996      standard  female\n",
       "997  free/reduced  female\n",
       "998      standard  female\n",
       "999  free/reduced    male\n",
       "\n",
       "[1000 rows x 2 columns]"
      ]
     },
     "execution_count": 35,
     "metadata": {},
     "output_type": "execute_result"
    }
   ],
   "source": [
    "exam_scores[[\"lunch\",\"gender\"]]"
   ]
  },
  {
   "cell_type": "markdown",
   "id": "efa922b6",
   "metadata": {},
   "source": [
    "## Assigning\n",
    "- Assigning data to a DataFrame is very easy. You can do this using one line of code."
   ]
  },
  {
   "cell_type": "code",
   "execution_count": 36,
   "id": "bcd19a24",
   "metadata": {},
   "outputs": [],
   "source": [
    "# exam_scores.lunch = \"Standard\"\n"
   ]
  },
  {
   "cell_type": "markdown",
   "id": "fc2bb042",
   "metadata": {},
   "source": [
    "# Summary Functions\n",
    "## Learned Till Now\n",
    "So far, you have learned to read a data file, some methods to check the overview of data, and select data from a DataFrame.\n",
    "\n",
    "The information that we got about the data is not enough. A data scientist always wants to understand the behavior of data. For numerical columns we may want to know the mean value or median values of the data, the minimum value in the column and the maximum value in the column, etc. For categorical columns, we are interested to know things like the number of different categories in a column, the count of each category in a column, the maximum occurring category in a column, etc. Here we will look at some of the techniques that will help you know the above information about your data.\n",
    "\n",
    "## What is Summary?\n",
    "- Summary is a term used for the short version of a longer work.\n",
    "- Summary is a brief statement of the main points of something.\n",
    "- Confusing? Let’s understand through an example.\n",
    "## Summary Functions\n",
    "- Pandas has many simple \"summary functions\" (well, this is not an official name) that help you to restructure your data in a very useful way and displays useful information about the data.\n",
    "- Do you recall the info() method that we had used in the earlier module? This method has given us 6 to 7 main points about the data like the number of observations and their range indices, names of columns with their data types and number of non-null entries in the particular column, etc.\n",
    "- So info() is also a summary function/method.\n",
    "- Here we will see another summary function - describe().\n",
    "- Import Pandas Library and load the dataset ‘exam_scores.csv’:\n",
    "## describe( )\n",
    "By default, the describe() method returns a summary of numerical columns only."
   ]
  },
  {
   "cell_type": "code",
   "execution_count": 37,
   "id": "76d53303",
   "metadata": {},
   "outputs": [
    {
     "data": {
      "text/html": [
       "<div>\n",
       "<style scoped>\n",
       "    .dataframe tbody tr th:only-of-type {\n",
       "        vertical-align: middle;\n",
       "    }\n",
       "\n",
       "    .dataframe tbody tr th {\n",
       "        vertical-align: top;\n",
       "    }\n",
       "\n",
       "    .dataframe thead th {\n",
       "        text-align: right;\n",
       "    }\n",
       "</style>\n",
       "<table border=\"1\" class=\"dataframe\">\n",
       "  <thead>\n",
       "    <tr style=\"text-align: right;\">\n",
       "      <th></th>\n",
       "      <th>math score</th>\n",
       "      <th>reading score</th>\n",
       "      <th>writing score</th>\n",
       "    </tr>\n",
       "  </thead>\n",
       "  <tbody>\n",
       "    <tr>\n",
       "      <th>count</th>\n",
       "      <td>1000.000000</td>\n",
       "      <td>1000.00000</td>\n",
       "      <td>1000.000000</td>\n",
       "    </tr>\n",
       "    <tr>\n",
       "      <th>mean</th>\n",
       "      <td>67.128000</td>\n",
       "      <td>70.17400</td>\n",
       "      <td>68.973000</td>\n",
       "    </tr>\n",
       "    <tr>\n",
       "      <th>std</th>\n",
       "      <td>14.815367</td>\n",
       "      <td>14.85599</td>\n",
       "      <td>15.109155</td>\n",
       "    </tr>\n",
       "    <tr>\n",
       "      <th>min</th>\n",
       "      <td>15.000000</td>\n",
       "      <td>18.00000</td>\n",
       "      <td>10.000000</td>\n",
       "    </tr>\n",
       "    <tr>\n",
       "      <th>25%</th>\n",
       "      <td>58.000000</td>\n",
       "      <td>60.00000</td>\n",
       "      <td>59.000000</td>\n",
       "    </tr>\n",
       "    <tr>\n",
       "      <th>50%</th>\n",
       "      <td>67.000000</td>\n",
       "      <td>70.00000</td>\n",
       "      <td>69.000000</td>\n",
       "    </tr>\n",
       "    <tr>\n",
       "      <th>75%</th>\n",
       "      <td>78.000000</td>\n",
       "      <td>81.00000</td>\n",
       "      <td>80.000000</td>\n",
       "    </tr>\n",
       "    <tr>\n",
       "      <th>max</th>\n",
       "      <td>100.000000</td>\n",
       "      <td>100.00000</td>\n",
       "      <td>100.000000</td>\n",
       "    </tr>\n",
       "  </tbody>\n",
       "</table>\n",
       "</div>"
      ],
      "text/plain": [
       "        math score  reading score  writing score\n",
       "count  1000.000000     1000.00000    1000.000000\n",
       "mean     67.128000       70.17400      68.973000\n",
       "std      14.815367       14.85599      15.109155\n",
       "min      15.000000       18.00000      10.000000\n",
       "25%      58.000000       60.00000      59.000000\n",
       "50%      67.000000       70.00000      69.000000\n",
       "75%      78.000000       81.00000      80.000000\n",
       "max     100.000000      100.00000     100.000000"
      ]
     },
     "execution_count": 37,
     "metadata": {},
     "output_type": "execute_result"
    }
   ],
   "source": [
    "exam_scores.describe()"
   ]
  },
  {
   "cell_type": "markdown",
   "id": "b1946c71",
   "metadata": {},
   "source": [
    "If we want to get a summary of categorical columns separately, then we can use the parameter 'include'."
   ]
  },
  {
   "cell_type": "code",
   "execution_count": 38,
   "id": "e6004939",
   "metadata": {},
   "outputs": [
    {
     "data": {
      "text/html": [
       "<div>\n",
       "<style scoped>\n",
       "    .dataframe tbody tr th:only-of-type {\n",
       "        vertical-align: middle;\n",
       "    }\n",
       "\n",
       "    .dataframe tbody tr th {\n",
       "        vertical-align: top;\n",
       "    }\n",
       "\n",
       "    .dataframe thead th {\n",
       "        text-align: right;\n",
       "    }\n",
       "</style>\n",
       "<table border=\"1\" class=\"dataframe\">\n",
       "  <thead>\n",
       "    <tr style=\"text-align: right;\">\n",
       "      <th></th>\n",
       "      <th>gender</th>\n",
       "      <th>race/ethnicity</th>\n",
       "      <th>parental level of education</th>\n",
       "      <th>lunch</th>\n",
       "      <th>test preparation course</th>\n",
       "    </tr>\n",
       "  </thead>\n",
       "  <tbody>\n",
       "    <tr>\n",
       "      <th>count</th>\n",
       "      <td>1000</td>\n",
       "      <td>1000</td>\n",
       "      <td>1000</td>\n",
       "      <td>1000</td>\n",
       "      <td>1000</td>\n",
       "    </tr>\n",
       "    <tr>\n",
       "      <th>unique</th>\n",
       "      <td>2</td>\n",
       "      <td>5</td>\n",
       "      <td>6</td>\n",
       "      <td>2</td>\n",
       "      <td>2</td>\n",
       "    </tr>\n",
       "    <tr>\n",
       "      <th>top</th>\n",
       "      <td>female</td>\n",
       "      <td>group C</td>\n",
       "      <td>some college</td>\n",
       "      <td>standard</td>\n",
       "      <td>none</td>\n",
       "    </tr>\n",
       "    <tr>\n",
       "      <th>freq</th>\n",
       "      <td>502</td>\n",
       "      <td>294</td>\n",
       "      <td>226</td>\n",
       "      <td>649</td>\n",
       "      <td>654</td>\n",
       "    </tr>\n",
       "  </tbody>\n",
       "</table>\n",
       "</div>"
      ],
      "text/plain": [
       "        gender race/ethnicity parental level of education     lunch  \\\n",
       "count     1000           1000                        1000      1000   \n",
       "unique       2              5                           6         2   \n",
       "top     female        group C                some college  standard   \n",
       "freq       502            294                         226       649   \n",
       "\n",
       "       test preparation course  \n",
       "count                     1000  \n",
       "unique                       2  \n",
       "top                       none  \n",
       "freq                       654  "
      ]
     },
     "execution_count": 38,
     "metadata": {},
     "output_type": "execute_result"
    }
   ],
   "source": [
    "exam_scores.describe(include = \"object\")"
   ]
  },
  {
   "cell_type": "markdown",
   "id": "5cc100de",
   "metadata": {},
   "source": [
    "The returned summary is all about the categorical columns.\n",
    "Also, we can get a summary of numerical and categorical columns together using the same parameter 'include'.\n"
   ]
  },
  {
   "cell_type": "code",
   "execution_count": 39,
   "id": "59fa627a",
   "metadata": {},
   "outputs": [
    {
     "data": {
      "text/html": [
       "<div>\n",
       "<style scoped>\n",
       "    .dataframe tbody tr th:only-of-type {\n",
       "        vertical-align: middle;\n",
       "    }\n",
       "\n",
       "    .dataframe tbody tr th {\n",
       "        vertical-align: top;\n",
       "    }\n",
       "\n",
       "    .dataframe thead th {\n",
       "        text-align: right;\n",
       "    }\n",
       "</style>\n",
       "<table border=\"1\" class=\"dataframe\">\n",
       "  <thead>\n",
       "    <tr style=\"text-align: right;\">\n",
       "      <th></th>\n",
       "      <th>gender</th>\n",
       "      <th>race/ethnicity</th>\n",
       "      <th>parental level of education</th>\n",
       "      <th>lunch</th>\n",
       "      <th>test preparation course</th>\n",
       "      <th>math score</th>\n",
       "      <th>reading score</th>\n",
       "      <th>writing score</th>\n",
       "    </tr>\n",
       "  </thead>\n",
       "  <tbody>\n",
       "    <tr>\n",
       "      <th>count</th>\n",
       "      <td>1000</td>\n",
       "      <td>1000</td>\n",
       "      <td>1000</td>\n",
       "      <td>1000</td>\n",
       "      <td>1000</td>\n",
       "      <td>1000.000000</td>\n",
       "      <td>1000.00000</td>\n",
       "      <td>1000.000000</td>\n",
       "    </tr>\n",
       "    <tr>\n",
       "      <th>unique</th>\n",
       "      <td>2</td>\n",
       "      <td>5</td>\n",
       "      <td>6</td>\n",
       "      <td>2</td>\n",
       "      <td>2</td>\n",
       "      <td>NaN</td>\n",
       "      <td>NaN</td>\n",
       "      <td>NaN</td>\n",
       "    </tr>\n",
       "    <tr>\n",
       "      <th>top</th>\n",
       "      <td>female</td>\n",
       "      <td>group C</td>\n",
       "      <td>some college</td>\n",
       "      <td>standard</td>\n",
       "      <td>none</td>\n",
       "      <td>NaN</td>\n",
       "      <td>NaN</td>\n",
       "      <td>NaN</td>\n",
       "    </tr>\n",
       "    <tr>\n",
       "      <th>freq</th>\n",
       "      <td>502</td>\n",
       "      <td>294</td>\n",
       "      <td>226</td>\n",
       "      <td>649</td>\n",
       "      <td>654</td>\n",
       "      <td>NaN</td>\n",
       "      <td>NaN</td>\n",
       "      <td>NaN</td>\n",
       "    </tr>\n",
       "    <tr>\n",
       "      <th>mean</th>\n",
       "      <td>NaN</td>\n",
       "      <td>NaN</td>\n",
       "      <td>NaN</td>\n",
       "      <td>NaN</td>\n",
       "      <td>NaN</td>\n",
       "      <td>67.128000</td>\n",
       "      <td>70.17400</td>\n",
       "      <td>68.973000</td>\n",
       "    </tr>\n",
       "    <tr>\n",
       "      <th>std</th>\n",
       "      <td>NaN</td>\n",
       "      <td>NaN</td>\n",
       "      <td>NaN</td>\n",
       "      <td>NaN</td>\n",
       "      <td>NaN</td>\n",
       "      <td>14.815367</td>\n",
       "      <td>14.85599</td>\n",
       "      <td>15.109155</td>\n",
       "    </tr>\n",
       "    <tr>\n",
       "      <th>min</th>\n",
       "      <td>NaN</td>\n",
       "      <td>NaN</td>\n",
       "      <td>NaN</td>\n",
       "      <td>NaN</td>\n",
       "      <td>NaN</td>\n",
       "      <td>15.000000</td>\n",
       "      <td>18.00000</td>\n",
       "      <td>10.000000</td>\n",
       "    </tr>\n",
       "    <tr>\n",
       "      <th>25%</th>\n",
       "      <td>NaN</td>\n",
       "      <td>NaN</td>\n",
       "      <td>NaN</td>\n",
       "      <td>NaN</td>\n",
       "      <td>NaN</td>\n",
       "      <td>58.000000</td>\n",
       "      <td>60.00000</td>\n",
       "      <td>59.000000</td>\n",
       "    </tr>\n",
       "    <tr>\n",
       "      <th>50%</th>\n",
       "      <td>NaN</td>\n",
       "      <td>NaN</td>\n",
       "      <td>NaN</td>\n",
       "      <td>NaN</td>\n",
       "      <td>NaN</td>\n",
       "      <td>67.000000</td>\n",
       "      <td>70.00000</td>\n",
       "      <td>69.000000</td>\n",
       "    </tr>\n",
       "    <tr>\n",
       "      <th>75%</th>\n",
       "      <td>NaN</td>\n",
       "      <td>NaN</td>\n",
       "      <td>NaN</td>\n",
       "      <td>NaN</td>\n",
       "      <td>NaN</td>\n",
       "      <td>78.000000</td>\n",
       "      <td>81.00000</td>\n",
       "      <td>80.000000</td>\n",
       "    </tr>\n",
       "    <tr>\n",
       "      <th>max</th>\n",
       "      <td>NaN</td>\n",
       "      <td>NaN</td>\n",
       "      <td>NaN</td>\n",
       "      <td>NaN</td>\n",
       "      <td>NaN</td>\n",
       "      <td>100.000000</td>\n",
       "      <td>100.00000</td>\n",
       "      <td>100.000000</td>\n",
       "    </tr>\n",
       "  </tbody>\n",
       "</table>\n",
       "</div>"
      ],
      "text/plain": [
       "        gender race/ethnicity parental level of education     lunch  \\\n",
       "count     1000           1000                        1000      1000   \n",
       "unique       2              5                           6         2   \n",
       "top     female        group C                some college  standard   \n",
       "freq       502            294                         226       649   \n",
       "mean       NaN            NaN                         NaN       NaN   \n",
       "std        NaN            NaN                         NaN       NaN   \n",
       "min        NaN            NaN                         NaN       NaN   \n",
       "25%        NaN            NaN                         NaN       NaN   \n",
       "50%        NaN            NaN                         NaN       NaN   \n",
       "75%        NaN            NaN                         NaN       NaN   \n",
       "max        NaN            NaN                         NaN       NaN   \n",
       "\n",
       "       test preparation course   math score  reading score  writing score  \n",
       "count                     1000  1000.000000     1000.00000    1000.000000  \n",
       "unique                       2          NaN            NaN            NaN  \n",
       "top                       none          NaN            NaN            NaN  \n",
       "freq                       654          NaN            NaN            NaN  \n",
       "mean                       NaN    67.128000       70.17400      68.973000  \n",
       "std                        NaN    14.815367       14.85599      15.109155  \n",
       "min                        NaN    15.000000       18.00000      10.000000  \n",
       "25%                        NaN    58.000000       60.00000      59.000000  \n",
       "50%                        NaN    67.000000       70.00000      69.000000  \n",
       "75%                        NaN    78.000000       81.00000      80.000000  \n",
       "max                        NaN   100.000000      100.00000     100.000000  "
      ]
     },
     "execution_count": 39,
     "metadata": {},
     "output_type": "execute_result"
    }
   ],
   "source": [
    "exam_scores.describe(include = \"all\")"
   ]
  },
  {
   "cell_type": "markdown",
   "id": "f390726a",
   "metadata": {},
   "source": [
    "- We can see the above table includes a summary of both numerical and categorical columns. A categorical column cannot have minimum or maximum values or mean and median. So the entries in these fields for categorical columns are NaN.\n",
    "- We have seen in a previous module that this dataset has 5 categorical variables (gender, race/ethnicity, parental level of education, lunch and test preparation course) and 3 numerical (i.e., integer) columns (math score, reading score, and writing score)."
   ]
  },
  {
   "cell_type": "markdown",
   "id": "ff2243f0",
   "metadata": {},
   "source": [
    "## Let's see what information about the data is returned in the above table:\n",
    "\n",
    "- count - the count of non-null entries in the particular column. For example, gender column has 1000 non-null entries.\n",
    "- unique - the count of unique values in a column. Only for categorical columns. For example, gender column has 2 unique values - male and female.\n",
    "- top - this is also for only categorical columns. This tells us which category is occurring maximum number of times. For example in gender column 'female' is occurring maximum number of times.\n",
    "- freq - this is again for categorical columns only. This tells you the number of occurrences of the top category in that column. For example, 'female' in gender column is occurring 502 times.\n",
    "- mean - the mean value of the numerical column. For example, the mean math score is 67.128.\n",
    "- std - this is the standard deviation of the numerical column. This tells you about the variation in the data. Don't worry if you don't know about it.\n",
    "- min - the minimum value in the numerical column. For example, the minimum math score is 15.0\n",
    "- 25% - the 25th percentile (or 1st quartile) value in the numerical column. For example, the 25th percentile value for math score is 58.0.\n",
    "- 50% - the 50th percentile (or 2nd quartile or the median) value in the numerical column. For example, the median math score is 67.0.\n",
    "- 75% - the 75th percentile (or 3rd quartile) value in the numerical column. For example, the 75th percentile value for math score is 78.0.\n",
    "- max - the maximum value in the numerical column. For example, the maximum math score is 100.0.\n",
    "- NaN values means that for a particular column, a particular summary value is not available. For example, gender (a categorical column), does not have mean value or median value as these are the properties of a numerical column only.\n",
    "### We can also use describe() method on a particular column/series:"
   ]
  },
  {
   "cell_type": "code",
   "execution_count": 41,
   "id": "e18edf84",
   "metadata": {},
   "outputs": [
    {
     "data": {
      "text/plain": [
       "count    1000.000000\n",
       "mean       67.128000\n",
       "std        14.815367\n",
       "min        15.000000\n",
       "25%        58.000000\n",
       "50%        67.000000\n",
       "75%        78.000000\n",
       "max       100.000000\n",
       "Name: math score, dtype: float64"
      ]
     },
     "execution_count": 41,
     "metadata": {},
     "output_type": "execute_result"
    }
   ],
   "source": [
    "# getting summary of a particular column (math score)\n",
    "exam_scores[\"math score\"].describe()"
   ]
  },
  {
   "cell_type": "code",
   "execution_count": 42,
   "id": "38b53471",
   "metadata": {},
   "outputs": [
    {
     "data": {
      "text/plain": [
       "count       1000\n",
       "unique         2\n",
       "top       female\n",
       "freq         502\n",
       "Name: gender, dtype: object"
      ]
     },
     "execution_count": 42,
     "metadata": {},
     "output_type": "execute_result"
    }
   ],
   "source": [
    "# # getting summary of a particular column (gender)\n",
    "exam_scores[\"gender\"].describe()"
   ]
  },
  {
   "cell_type": "markdown",
   "id": "919a6db3",
   "metadata": {},
   "source": [
    "- If the column name does not contain any space in it, you can use attribute style of selecting a column. For example we used attribute style for selecting 'gender' but not for 'math score' as it contains a space.\n",
    "- If you use attribute style of selection for ‘math score’, Python will throw an error.\n"
   ]
  },
  {
   "cell_type": "code",
   "execution_count": 43,
   "id": "d94a09d2",
   "metadata": {},
   "outputs": [
    {
     "ename": "SyntaxError",
     "evalue": "invalid syntax (<ipython-input-43-061379d3392c>, line 2)",
     "output_type": "error",
     "traceback": [
      "\u001b[1;36m  File \u001b[1;32m\"<ipython-input-43-061379d3392c>\"\u001b[1;36m, line \u001b[1;32m2\u001b[0m\n\u001b[1;33m    exam_scores.math score\u001b[0m\n\u001b[1;37m                     ^\u001b[0m\n\u001b[1;31mSyntaxError\u001b[0m\u001b[1;31m:\u001b[0m invalid syntax\n"
     ]
    }
   ],
   "source": [
    "# for example\n",
    "exam_scores.math score"
   ]
  },
  {
   "cell_type": "markdown",
   "id": "20f9f690",
   "metadata": {},
   "source": [
    "# Aggregation Functions\n",
    "- We saw the use of describe() method on a DataFrame or a series which returned some information (i.e. the summary) about the data.\n",
    "- We can also use the individual methods like mean(), median(), unique() to get this information on a DataFrame or a series.\n",
    "- Examples are shown below:"
   ]
  },
  {
   "cell_type": "code",
   "execution_count": 45,
   "id": "9d069b54",
   "metadata": {},
   "outputs": [
    {
     "data": {
      "text/plain": [
       "math score       67.128\n",
       "reading score    70.174\n",
       "writing score    68.973\n",
       "dtype: float64"
      ]
     },
     "execution_count": 45,
     "metadata": {},
     "output_type": "execute_result"
    }
   ],
   "source": [
    "# Mean of all these three numerical columns\n",
    "exam_scores.mean()   #only numerical columns"
   ]
  },
  {
   "cell_type": "code",
   "execution_count": 46,
   "id": "8aa7bb6c",
   "metadata": {},
   "outputs": [
    {
     "data": {
      "text/plain": [
       "array(['male', 'female'], dtype=object)"
      ]
     },
     "execution_count": 46,
     "metadata": {},
     "output_type": "execute_result"
    }
   ],
   "source": [
    "exam_scores.gender.unique()   # returns all unique values in the column \"gender\""
   ]
  },
  {
   "cell_type": "markdown",
   "id": "6e5772fd",
   "metadata": {},
   "source": [
    "- To see all the unique values and the number of times they are occurring in the dataset, we have a method called value_counts():"
   ]
  },
  {
   "cell_type": "code",
   "execution_count": 47,
   "id": "a72ad81c",
   "metadata": {},
   "outputs": [
    {
     "data": {
      "text/plain": [
       "female    502\n",
       "male      498\n",
       "Name: gender, dtype: int64"
      ]
     },
     "execution_count": 47,
     "metadata": {},
     "output_type": "execute_result"
    }
   ],
   "source": [
    "exam_scores.gender.value_counts()"
   ]
  },
  {
   "cell_type": "markdown",
   "id": "08c9e596",
   "metadata": {},
   "source": [
    "- 'female' is occurring 502 times in gender column which we saw in the table returned using describe() method as well."
   ]
  },
  {
   "cell_type": "markdown",
   "id": "1b4d0377",
   "metadata": {},
   "source": [
    "# Sorting\n",
    "- Assume you are a teacher and you have scores of your students in the dataset ‘exam_scores’ (say). You want to get the information about all the students whose performance is very bad in ‘math’.\n",
    "\n",
    "- What about going through all the records in the dataset and finding out manually the students whose score in math is very bad?\n",
    "\n",
    "- You can think of doing this manual task if you have 10 or 20 records. But here you have 1000 records. You need to figure out some easy way to do this. This is where the importance of sorting comes in.\n",
    "\n",
    "- The data present in the DataFrame ‘exam_scores’ is in the default index order not in a value order.\n",
    "\n",
    "- Pandas provides a method called sort_values() which returns the sorted result in value order.\n",
    "\n",
    "- Let's say we want to get the student's information which are in increasing order of math scores."
   ]
  },
  {
   "cell_type": "code",
   "execution_count": 48,
   "id": "36ed5cff",
   "metadata": {},
   "outputs": [
    {
     "data": {
      "text/html": [
       "<div>\n",
       "<style scoped>\n",
       "    .dataframe tbody tr th:only-of-type {\n",
       "        vertical-align: middle;\n",
       "    }\n",
       "\n",
       "    .dataframe tbody tr th {\n",
       "        vertical-align: top;\n",
       "    }\n",
       "\n",
       "    .dataframe thead th {\n",
       "        text-align: right;\n",
       "    }\n",
       "</style>\n",
       "<table border=\"1\" class=\"dataframe\">\n",
       "  <thead>\n",
       "    <tr style=\"text-align: right;\">\n",
       "      <th></th>\n",
       "      <th>gender</th>\n",
       "      <th>race/ethnicity</th>\n",
       "      <th>parental level of education</th>\n",
       "      <th>lunch</th>\n",
       "      <th>test preparation course</th>\n",
       "      <th>math score</th>\n",
       "      <th>reading score</th>\n",
       "      <th>writing score</th>\n",
       "    </tr>\n",
       "  </thead>\n",
       "  <tbody>\n",
       "    <tr>\n",
       "      <th>949</th>\n",
       "      <td>male</td>\n",
       "      <td>group C</td>\n",
       "      <td>high school</td>\n",
       "      <td>free/reduced</td>\n",
       "      <td>none</td>\n",
       "      <td>15</td>\n",
       "      <td>18</td>\n",
       "      <td>10</td>\n",
       "    </tr>\n",
       "    <tr>\n",
       "      <th>854</th>\n",
       "      <td>male</td>\n",
       "      <td>group C</td>\n",
       "      <td>high school</td>\n",
       "      <td>free/reduced</td>\n",
       "      <td>none</td>\n",
       "      <td>18</td>\n",
       "      <td>30</td>\n",
       "      <td>18</td>\n",
       "    </tr>\n",
       "    <tr>\n",
       "      <th>891</th>\n",
       "      <td>female</td>\n",
       "      <td>group C</td>\n",
       "      <td>high school</td>\n",
       "      <td>free/reduced</td>\n",
       "      <td>none</td>\n",
       "      <td>23</td>\n",
       "      <td>31</td>\n",
       "      <td>27</td>\n",
       "    </tr>\n",
       "    <tr>\n",
       "      <th>349</th>\n",
       "      <td>male</td>\n",
       "      <td>group B</td>\n",
       "      <td>some high school</td>\n",
       "      <td>free/reduced</td>\n",
       "      <td>none</td>\n",
       "      <td>25</td>\n",
       "      <td>31</td>\n",
       "      <td>30</td>\n",
       "    </tr>\n",
       "    <tr>\n",
       "      <th>739</th>\n",
       "      <td>female</td>\n",
       "      <td>group E</td>\n",
       "      <td>some high school</td>\n",
       "      <td>free/reduced</td>\n",
       "      <td>none</td>\n",
       "      <td>25</td>\n",
       "      <td>35</td>\n",
       "      <td>38</td>\n",
       "    </tr>\n",
       "  </tbody>\n",
       "</table>\n",
       "</div>"
      ],
      "text/plain": [
       "     gender race/ethnicity parental level of education         lunch  \\\n",
       "949    male        group C                 high school  free/reduced   \n",
       "854    male        group C                 high school  free/reduced   \n",
       "891  female        group C                 high school  free/reduced   \n",
       "349    male        group B            some high school  free/reduced   \n",
       "739  female        group E            some high school  free/reduced   \n",
       "\n",
       "    test preparation course  math score  reading score  writing score  \n",
       "949                    none          15             18             10  \n",
       "854                    none          18             30             18  \n",
       "891                    none          23             31             27  \n",
       "349                    none          25             31             30  \n",
       "739                    none          25             35             38  "
      ]
     },
     "execution_count": 48,
     "metadata": {},
     "output_type": "execute_result"
    }
   ],
   "source": [
    "exam_scores.sort_values(by = \"math score\").head()"
   ]
  },
  {
   "cell_type": "markdown",
   "id": "f61aa2eb",
   "metadata": {},
   "source": [
    "- By default the sorting happens in an ascending order:"
   ]
  },
  {
   "cell_type": "markdown",
   "id": "96914b3d",
   "metadata": {},
   "source": [
    "We can get the sorted result in descending (decreasing) order by passing the parameter ‘ascending’ as False in the sort_values() method:"
   ]
  },
  {
   "cell_type": "code",
   "execution_count": 49,
   "id": "6ee3b942",
   "metadata": {},
   "outputs": [
    {
     "data": {
      "text/html": [
       "<div>\n",
       "<style scoped>\n",
       "    .dataframe tbody tr th:only-of-type {\n",
       "        vertical-align: middle;\n",
       "    }\n",
       "\n",
       "    .dataframe tbody tr th {\n",
       "        vertical-align: top;\n",
       "    }\n",
       "\n",
       "    .dataframe thead th {\n",
       "        text-align: right;\n",
       "    }\n",
       "</style>\n",
       "<table border=\"1\" class=\"dataframe\">\n",
       "  <thead>\n",
       "    <tr style=\"text-align: right;\">\n",
       "      <th></th>\n",
       "      <th>gender</th>\n",
       "      <th>race/ethnicity</th>\n",
       "      <th>parental level of education</th>\n",
       "      <th>lunch</th>\n",
       "      <th>test preparation course</th>\n",
       "      <th>math score</th>\n",
       "      <th>reading score</th>\n",
       "      <th>writing score</th>\n",
       "    </tr>\n",
       "  </thead>\n",
       "  <tbody>\n",
       "    <tr>\n",
       "      <th>91</th>\n",
       "      <td>male</td>\n",
       "      <td>group D</td>\n",
       "      <td>associate's degree</td>\n",
       "      <td>standard</td>\n",
       "      <td>none</td>\n",
       "      <td>100</td>\n",
       "      <td>94</td>\n",
       "      <td>96</td>\n",
       "    </tr>\n",
       "    <tr>\n",
       "      <th>776</th>\n",
       "      <td>male</td>\n",
       "      <td>group E</td>\n",
       "      <td>associate's degree</td>\n",
       "      <td>standard</td>\n",
       "      <td>completed</td>\n",
       "      <td>100</td>\n",
       "      <td>100</td>\n",
       "      <td>100</td>\n",
       "    </tr>\n",
       "    <tr>\n",
       "      <th>588</th>\n",
       "      <td>male</td>\n",
       "      <td>group D</td>\n",
       "      <td>some college</td>\n",
       "      <td>standard</td>\n",
       "      <td>completed</td>\n",
       "      <td>100</td>\n",
       "      <td>85</td>\n",
       "      <td>91</td>\n",
       "    </tr>\n",
       "    <tr>\n",
       "      <th>128</th>\n",
       "      <td>male</td>\n",
       "      <td>group A</td>\n",
       "      <td>associate's degree</td>\n",
       "      <td>standard</td>\n",
       "      <td>completed</td>\n",
       "      <td>100</td>\n",
       "      <td>97</td>\n",
       "      <td>94</td>\n",
       "    </tr>\n",
       "    <tr>\n",
       "      <th>565</th>\n",
       "      <td>male</td>\n",
       "      <td>group E</td>\n",
       "      <td>bachelor's degree</td>\n",
       "      <td>standard</td>\n",
       "      <td>completed</td>\n",
       "      <td>100</td>\n",
       "      <td>100</td>\n",
       "      <td>100</td>\n",
       "    </tr>\n",
       "  </tbody>\n",
       "</table>\n",
       "</div>"
      ],
      "text/plain": [
       "    gender race/ethnicity parental level of education     lunch  \\\n",
       "91    male        group D          associate's degree  standard   \n",
       "776   male        group E          associate's degree  standard   \n",
       "588   male        group D                some college  standard   \n",
       "128   male        group A          associate's degree  standard   \n",
       "565   male        group E           bachelor's degree  standard   \n",
       "\n",
       "    test preparation course  math score  reading score  writing score  \n",
       "91                     none         100             94             96  \n",
       "776               completed         100            100            100  \n",
       "588               completed         100             85             91  \n",
       "128               completed         100             97             94  \n",
       "565               completed         100            100            100  "
      ]
     },
     "execution_count": 49,
     "metadata": {},
     "output_type": "execute_result"
    }
   ],
   "source": [
    "exam_scores.sort_values(by = \"math score\", ascending= False).head()"
   ]
  },
  {
   "cell_type": "markdown",
   "id": "6d7e08d6",
   "metadata": {},
   "source": [
    "- We can also sort a series using the sort_values() method:\n"
   ]
  },
  {
   "cell_type": "code",
   "execution_count": 50,
   "id": "4a0c6f0f",
   "metadata": {},
   "outputs": [
    {
     "data": {
      "text/plain": [
       "91     100\n",
       "776    100\n",
       "588    100\n",
       "128    100\n",
       "565    100\n",
       "Name: math score, dtype: int64"
      ]
     },
     "execution_count": 50,
     "metadata": {},
     "output_type": "execute_result"
    }
   ],
   "source": [
    "exam_scores[\"math score\"].sort_values(ascending = False)[:5]"
   ]
  },
  {
   "cell_type": "markdown",
   "id": "f293a885",
   "metadata": {},
   "source": [
    "# Renaming\n",
    "Renaming means changing the name.\n",
    "\n",
    "- Most of the time we get dataset where column names are not satisfactory.\n",
    "\n",
    "- For example in this dataset, 'math score', 'reading score' and 'writing score' contain spaces in their names due to which we are not able to use attribute (dot) selection style method to select a particular column.\n",
    "\n",
    "- And not only this if the column names were 'ms' for math score, 'rs' for reading score and 'ws' for writing score, these are not informative column names. This is the need for renaming columns.\n",
    "\n",
    "- Pandas provides a function ‘rename()’ to rename column/indexes in a DataFrame.\n",
    "\n",
    "- Let's rename all the column names in our DataFrame which contain spaces in them. Also we will rename the column 'race/ethnicity' to 'race'.\n",
    "\n"
   ]
  },
  {
   "cell_type": "code",
   "execution_count": 52,
   "id": "58824080",
   "metadata": {},
   "outputs": [],
   "source": [
    "exam_scores.rename(columns={\n",
    "    \"race/ethnicity\":\"race\",\n",
    "    \"parental level of education\":\"parent_education_level\",\n",
    "    \"test preparationcourse\":\"test_prep_course\",\n",
    "    \"math score\": \"math_score\",\n",
    "    \"reading score\": \"reading_score\",\n",
    "    \"writing score\":\"writing_score\"}, inplace=True\n",
    "                  )\n",
    "\n",
    "# inplace = True will make these changes in the dataframe \"exam_scores\" only"
   ]
  },
  {
   "cell_type": "markdown",
   "id": "b7de366d",
   "metadata": {},
   "source": [
    "- We can get the list of all the columns using the attribute columns."
   ]
  },
  {
   "cell_type": "code",
   "execution_count": 53,
   "id": "9da48a8b",
   "metadata": {},
   "outputs": [
    {
     "data": {
      "text/plain": [
       "Index(['gender', 'race', 'parent_education_level', 'lunch',\n",
       "       'test preparation course', 'math_score', 'reading_score',\n",
       "       'writing_score'],\n",
       "      dtype='object')"
      ]
     },
     "execution_count": 53,
     "metadata": {},
     "output_type": "execute_result"
    }
   ],
   "source": [
    "exam_scores.columns\n"
   ]
  },
  {
   "cell_type": "markdown",
   "id": "94e2e81f",
   "metadata": {},
   "source": [
    "- We can also rename the indexes of the DataFrame using the rename()"
   ]
  },
  {
   "cell_type": "code",
   "execution_count": 54,
   "id": "6fc68624",
   "metadata": {},
   "outputs": [
    {
     "data": {
      "text/html": [
       "<div>\n",
       "<style scoped>\n",
       "    .dataframe tbody tr th:only-of-type {\n",
       "        vertical-align: middle;\n",
       "    }\n",
       "\n",
       "    .dataframe tbody tr th {\n",
       "        vertical-align: top;\n",
       "    }\n",
       "\n",
       "    .dataframe thead th {\n",
       "        text-align: right;\n",
       "    }\n",
       "</style>\n",
       "<table border=\"1\" class=\"dataframe\">\n",
       "  <thead>\n",
       "    <tr style=\"text-align: right;\">\n",
       "      <th></th>\n",
       "      <th>gender</th>\n",
       "      <th>race</th>\n",
       "      <th>parent_education_level</th>\n",
       "      <th>lunch</th>\n",
       "      <th>test preparation course</th>\n",
       "      <th>math_score</th>\n",
       "      <th>reading_score</th>\n",
       "      <th>writing_score</th>\n",
       "    </tr>\n",
       "  </thead>\n",
       "  <tbody>\n",
       "    <tr>\n",
       "      <th>zero</th>\n",
       "      <td>male</td>\n",
       "      <td>group B</td>\n",
       "      <td>bachelor's degree</td>\n",
       "      <td>standard</td>\n",
       "      <td>none</td>\n",
       "      <td>74</td>\n",
       "      <td>68</td>\n",
       "      <td>67</td>\n",
       "    </tr>\n",
       "    <tr>\n",
       "      <th>one</th>\n",
       "      <td>female</td>\n",
       "      <td>group C</td>\n",
       "      <td>some college</td>\n",
       "      <td>standard</td>\n",
       "      <td>completed</td>\n",
       "      <td>58</td>\n",
       "      <td>68</td>\n",
       "      <td>66</td>\n",
       "    </tr>\n",
       "    <tr>\n",
       "      <th>2</th>\n",
       "      <td>male</td>\n",
       "      <td>group C</td>\n",
       "      <td>some college</td>\n",
       "      <td>free/reduced</td>\n",
       "      <td>none</td>\n",
       "      <td>66</td>\n",
       "      <td>65</td>\n",
       "      <td>65</td>\n",
       "    </tr>\n",
       "    <tr>\n",
       "      <th>3</th>\n",
       "      <td>female</td>\n",
       "      <td>group D</td>\n",
       "      <td>bachelor's degree</td>\n",
       "      <td>free/reduced</td>\n",
       "      <td>none</td>\n",
       "      <td>74</td>\n",
       "      <td>75</td>\n",
       "      <td>73</td>\n",
       "    </tr>\n",
       "    <tr>\n",
       "      <th>4</th>\n",
       "      <td>male</td>\n",
       "      <td>group D</td>\n",
       "      <td>some college</td>\n",
       "      <td>standard</td>\n",
       "      <td>none</td>\n",
       "      <td>78</td>\n",
       "      <td>77</td>\n",
       "      <td>71</td>\n",
       "    </tr>\n",
       "    <tr>\n",
       "      <th>...</th>\n",
       "      <td>...</td>\n",
       "      <td>...</td>\n",
       "      <td>...</td>\n",
       "      <td>...</td>\n",
       "      <td>...</td>\n",
       "      <td>...</td>\n",
       "      <td>...</td>\n",
       "      <td>...</td>\n",
       "    </tr>\n",
       "    <tr>\n",
       "      <th>995</th>\n",
       "      <td>female</td>\n",
       "      <td>group C</td>\n",
       "      <td>some high school</td>\n",
       "      <td>standard</td>\n",
       "      <td>none</td>\n",
       "      <td>68</td>\n",
       "      <td>77</td>\n",
       "      <td>72</td>\n",
       "    </tr>\n",
       "    <tr>\n",
       "      <th>996</th>\n",
       "      <td>female</td>\n",
       "      <td>group E</td>\n",
       "      <td>some college</td>\n",
       "      <td>standard</td>\n",
       "      <td>none</td>\n",
       "      <td>98</td>\n",
       "      <td>81</td>\n",
       "      <td>94</td>\n",
       "    </tr>\n",
       "    <tr>\n",
       "      <th>997</th>\n",
       "      <td>female</td>\n",
       "      <td>group E</td>\n",
       "      <td>associate's degree</td>\n",
       "      <td>free/reduced</td>\n",
       "      <td>none</td>\n",
       "      <td>67</td>\n",
       "      <td>67</td>\n",
       "      <td>67</td>\n",
       "    </tr>\n",
       "    <tr>\n",
       "      <th>998</th>\n",
       "      <td>female</td>\n",
       "      <td>group C</td>\n",
       "      <td>high school</td>\n",
       "      <td>standard</td>\n",
       "      <td>none</td>\n",
       "      <td>63</td>\n",
       "      <td>68</td>\n",
       "      <td>70</td>\n",
       "    </tr>\n",
       "    <tr>\n",
       "      <th>999</th>\n",
       "      <td>male</td>\n",
       "      <td>group C</td>\n",
       "      <td>some college</td>\n",
       "      <td>free/reduced</td>\n",
       "      <td>none</td>\n",
       "      <td>49</td>\n",
       "      <td>57</td>\n",
       "      <td>50</td>\n",
       "    </tr>\n",
       "  </tbody>\n",
       "</table>\n",
       "<p>1000 rows × 8 columns</p>\n",
       "</div>"
      ],
      "text/plain": [
       "      gender     race parent_education_level         lunch  \\\n",
       "zero    male  group B      bachelor's degree      standard   \n",
       "one   female  group C           some college      standard   \n",
       "2       male  group C           some college  free/reduced   \n",
       "3     female  group D      bachelor's degree  free/reduced   \n",
       "4       male  group D           some college      standard   \n",
       "...      ...      ...                    ...           ...   \n",
       "995   female  group C       some high school      standard   \n",
       "996   female  group E           some college      standard   \n",
       "997   female  group E     associate's degree  free/reduced   \n",
       "998   female  group C            high school      standard   \n",
       "999     male  group C           some college  free/reduced   \n",
       "\n",
       "     test preparation course  math_score  reading_score  writing_score  \n",
       "zero                    none          74             68             67  \n",
       "one                completed          58             68             66  \n",
       "2                       none          66             65             65  \n",
       "3                       none          74             75             73  \n",
       "4                       none          78             77             71  \n",
       "...                      ...         ...            ...            ...  \n",
       "995                     none          68             77             72  \n",
       "996                     none          98             81             94  \n",
       "997                     none          67             67             67  \n",
       "998                     none          63             68             70  \n",
       "999                     none          49             57             50  \n",
       "\n",
       "[1000 rows x 8 columns]"
      ]
     },
     "execution_count": 54,
     "metadata": {},
     "output_type": "execute_result"
    }
   ],
   "source": [
    "exam_scores.rename(index = {0:\"zero\", 1:\"one\"})"
   ]
  },
  {
   "cell_type": "markdown",
   "id": "2367f023",
   "metadata": {},
   "source": [
    "# Checking and Filling Missing Data\n",
    "## What is a Missing Value?\n",
    "- If in any row or column in a DataFrame, a value is not available, it is said to be a missing value.\n",
    "- So, defining missing data: Missing data (or missing values) is defined as the data values that are not stored in a column or row.\n",
    "- Pandas provides isnull(), isna() functions to detect missing values. Both of them do the same thing.\n",
    "\n",
    "- df.isna() or df.isnull() returns the DataFrame with Boolean values indicating whether a value is missing (True) or not (False).\n",
    "- We can get column wise count of all the missing values using the aggregation function sum():\n"
   ]
  },
  {
   "cell_type": "code",
   "execution_count": 55,
   "id": "6c5c8107",
   "metadata": {},
   "outputs": [],
   "source": [
    "# df.isnull().sum()"
   ]
  },
  {
   "cell_type": "markdown",
   "id": "589a4587",
   "metadata": {},
   "source": [
    "- Pandas also provides fillna() method to fill the missing values. fillna() provides many different strategies to fill missing values.\n",
    "\n",
    "- Let's say we want to fill the missing values in 'Names' column with 'unknown'."
   ]
  },
  {
   "cell_type": "code",
   "execution_count": 56,
   "id": "1f3a1bbe",
   "metadata": {},
   "outputs": [],
   "source": [
    "# df.Names.fillna(\"unknown\")"
   ]
  },
  {
   "cell_type": "markdown",
   "id": "4b7673df",
   "metadata": {},
   "source": [
    "We can pass 'inplace' parameter as True in fillna() method. It will make the changes in the original DataFrame."
   ]
  },
  {
   "cell_type": "code",
   "execution_count": 57,
   "id": "bc541cfe",
   "metadata": {},
   "outputs": [],
   "source": [
    "# df.Names.fillna(\"unknown\", inplace = True)\n",
    "# df"
   ]
  },
  {
   "cell_type": "code",
   "execution_count": null,
   "id": "e7173e3a",
   "metadata": {},
   "outputs": [],
   "source": []
  },
  {
   "cell_type": "code",
   "execution_count": null,
   "id": "1e1472d4",
   "metadata": {},
   "outputs": [],
   "source": []
  }
 ],
 "metadata": {
  "kernelspec": {
   "display_name": "Python 3",
   "language": "python",
   "name": "python3"
  },
  "language_info": {
   "codemirror_mode": {
    "name": "ipython",
    "version": 3
   },
   "file_extension": ".py",
   "mimetype": "text/x-python",
   "name": "python",
   "nbconvert_exporter": "python",
   "pygments_lexer": "ipython3",
   "version": "3.8.8"
  }
 },
 "nbformat": 4,
 "nbformat_minor": 5
}
