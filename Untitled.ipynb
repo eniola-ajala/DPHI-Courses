{
 "cells": [
  {
   "cell_type": "code",
   "execution_count": 2,
   "id": "8773c497",
   "metadata": {},
   "outputs": [],
   "source": [
    "import pandas as pd\n",
    "\n",
    "x = pd.read_csv(\"https://raw.githubusercontent.com/dphi-official/Datasets/master/Standard_Metropolitan_Areas_Data-data.csv\")"
   ]
  },
  {
   "cell_type": "code",
   "execution_count": 3,
   "id": "0a8563aa",
   "metadata": {},
   "outputs": [
    {
     "name": "stdout",
     "output_type": "stream",
     "text": [
      "<class 'pandas.core.frame.DataFrame'>\n",
      "RangeIndex: 99 entries, 0 to 98\n",
      "Data columns (total 10 columns):\n",
      " #   Column          Non-Null Count  Dtype  \n",
      "---  ------          --------------  -----  \n",
      " 0   land_area       99 non-null     int64  \n",
      " 1   percent_city    99 non-null     float64\n",
      " 2   percent_senior  99 non-null     float64\n",
      " 3   physicians      99 non-null     int64  \n",
      " 4   hospital_beds   99 non-null     int64  \n",
      " 5   graduates       99 non-null     float64\n",
      " 6   work_force      99 non-null     float64\n",
      " 7   income          99 non-null     int64  \n",
      " 8   region          99 non-null     int64  \n",
      " 9   crime_rate      99 non-null     float64\n",
      "dtypes: float64(5), int64(5)\n",
      "memory usage: 7.9 KB\n"
     ]
    }
   ],
   "source": [
    "x.info()"
   ]
  },
  {
   "cell_type": "code",
   "execution_count": 4,
   "id": "68b258dc",
   "metadata": {},
   "outputs": [
    {
     "data": {
      "text/html": [
       "<div>\n",
       "<style scoped>\n",
       "    .dataframe tbody tr th:only-of-type {\n",
       "        vertical-align: middle;\n",
       "    }\n",
       "\n",
       "    .dataframe tbody tr th {\n",
       "        vertical-align: top;\n",
       "    }\n",
       "\n",
       "    .dataframe thead th {\n",
       "        text-align: right;\n",
       "    }\n",
       "</style>\n",
       "<table border=\"1\" class=\"dataframe\">\n",
       "  <thead>\n",
       "    <tr style=\"text-align: right;\">\n",
       "      <th></th>\n",
       "      <th>land_area</th>\n",
       "      <th>percent_city</th>\n",
       "      <th>percent_senior</th>\n",
       "      <th>physicians</th>\n",
       "      <th>hospital_beds</th>\n",
       "      <th>graduates</th>\n",
       "      <th>work_force</th>\n",
       "      <th>income</th>\n",
       "      <th>region</th>\n",
       "      <th>crime_rate</th>\n",
       "    </tr>\n",
       "  </thead>\n",
       "  <tbody>\n",
       "    <tr>\n",
       "      <th>count</th>\n",
       "      <td>99.000000</td>\n",
       "      <td>99.000000</td>\n",
       "      <td>99.000000</td>\n",
       "      <td>99.000000</td>\n",
       "      <td>99.000000</td>\n",
       "      <td>99.000000</td>\n",
       "      <td>99.000000</td>\n",
       "      <td>99.000000</td>\n",
       "      <td>99.000000</td>\n",
       "      <td>99.000000</td>\n",
       "    </tr>\n",
       "    <tr>\n",
       "      <th>mean</th>\n",
       "      <td>2615.727273</td>\n",
       "      <td>42.518182</td>\n",
       "      <td>9.781818</td>\n",
       "      <td>1828.333333</td>\n",
       "      <td>6345.868687</td>\n",
       "      <td>54.463636</td>\n",
       "      <td>449.366667</td>\n",
       "      <td>6762.505051</td>\n",
       "      <td>2.494949</td>\n",
       "      <td>55.643030</td>\n",
       "    </tr>\n",
       "    <tr>\n",
       "      <th>std</th>\n",
       "      <td>3045.826210</td>\n",
       "      <td>17.348277</td>\n",
       "      <td>2.524547</td>\n",
       "      <td>3192.199763</td>\n",
       "      <td>9136.202716</td>\n",
       "      <td>7.773286</td>\n",
       "      <td>610.990885</td>\n",
       "      <td>10393.349660</td>\n",
       "      <td>1.013921</td>\n",
       "      <td>13.470943</td>\n",
       "    </tr>\n",
       "    <tr>\n",
       "      <th>min</th>\n",
       "      <td>47.000000</td>\n",
       "      <td>13.400000</td>\n",
       "      <td>3.900000</td>\n",
       "      <td>140.000000</td>\n",
       "      <td>481.000000</td>\n",
       "      <td>30.300000</td>\n",
       "      <td>66.900000</td>\n",
       "      <td>769.000000</td>\n",
       "      <td>1.000000</td>\n",
       "      <td>23.320000</td>\n",
       "    </tr>\n",
       "    <tr>\n",
       "      <th>25%</th>\n",
       "      <td>1408.000000</td>\n",
       "      <td>30.100000</td>\n",
       "      <td>8.350000</td>\n",
       "      <td>459.000000</td>\n",
       "      <td>2390.000000</td>\n",
       "      <td>50.250000</td>\n",
       "      <td>150.300000</td>\n",
       "      <td>2003.000000</td>\n",
       "      <td>2.000000</td>\n",
       "      <td>46.115000</td>\n",
       "    </tr>\n",
       "    <tr>\n",
       "      <th>50%</th>\n",
       "      <td>1951.000000</td>\n",
       "      <td>39.500000</td>\n",
       "      <td>9.700000</td>\n",
       "      <td>774.000000</td>\n",
       "      <td>3472.000000</td>\n",
       "      <td>54.000000</td>\n",
       "      <td>257.200000</td>\n",
       "      <td>3510.000000</td>\n",
       "      <td>3.000000</td>\n",
       "      <td>56.060000</td>\n",
       "    </tr>\n",
       "    <tr>\n",
       "      <th>75%</th>\n",
       "      <td>2890.500000</td>\n",
       "      <td>52.600000</td>\n",
       "      <td>10.750000</td>\n",
       "      <td>1911.500000</td>\n",
       "      <td>6386.500000</td>\n",
       "      <td>58.300000</td>\n",
       "      <td>436.500000</td>\n",
       "      <td>6283.500000</td>\n",
       "      <td>3.000000</td>\n",
       "      <td>63.860000</td>\n",
       "    </tr>\n",
       "    <tr>\n",
       "      <th>max</th>\n",
       "      <td>27293.000000</td>\n",
       "      <td>100.000000</td>\n",
       "      <td>21.800000</td>\n",
       "      <td>25627.000000</td>\n",
       "      <td>69678.000000</td>\n",
       "      <td>72.800000</td>\n",
       "      <td>4083.900000</td>\n",
       "      <td>72100.000000</td>\n",
       "      <td>4.000000</td>\n",
       "      <td>85.620000</td>\n",
       "    </tr>\n",
       "  </tbody>\n",
       "</table>\n",
       "</div>"
      ],
      "text/plain": [
       "          land_area  percent_city  percent_senior    physicians  \\\n",
       "count     99.000000     99.000000       99.000000     99.000000   \n",
       "mean    2615.727273     42.518182        9.781818   1828.333333   \n",
       "std     3045.826210     17.348277        2.524547   3192.199763   \n",
       "min       47.000000     13.400000        3.900000    140.000000   \n",
       "25%     1408.000000     30.100000        8.350000    459.000000   \n",
       "50%     1951.000000     39.500000        9.700000    774.000000   \n",
       "75%     2890.500000     52.600000       10.750000   1911.500000   \n",
       "max    27293.000000    100.000000       21.800000  25627.000000   \n",
       "\n",
       "       hospital_beds  graduates   work_force        income     region  \\\n",
       "count      99.000000  99.000000    99.000000     99.000000  99.000000   \n",
       "mean     6345.868687  54.463636   449.366667   6762.505051   2.494949   \n",
       "std      9136.202716   7.773286   610.990885  10393.349660   1.013921   \n",
       "min       481.000000  30.300000    66.900000    769.000000   1.000000   \n",
       "25%      2390.000000  50.250000   150.300000   2003.000000   2.000000   \n",
       "50%      3472.000000  54.000000   257.200000   3510.000000   3.000000   \n",
       "75%      6386.500000  58.300000   436.500000   6283.500000   3.000000   \n",
       "max     69678.000000  72.800000  4083.900000  72100.000000   4.000000   \n",
       "\n",
       "       crime_rate  \n",
       "count   99.000000  \n",
       "mean    55.643030  \n",
       "std     13.470943  \n",
       "min     23.320000  \n",
       "25%     46.115000  \n",
       "50%     56.060000  \n",
       "75%     63.860000  \n",
       "max     85.620000  "
      ]
     },
     "execution_count": 4,
     "metadata": {},
     "output_type": "execute_result"
    }
   ],
   "source": [
    "x.describe()"
   ]
  },
  {
   "cell_type": "code",
   "execution_count": 5,
   "id": "1cfcc598",
   "metadata": {},
   "outputs": [
    {
     "data": {
      "text/plain": [
       "land_area         0\n",
       "percent_city      0\n",
       "percent_senior    0\n",
       "physicians        0\n",
       "hospital_beds     0\n",
       "graduates         0\n",
       "work_force        0\n",
       "income            0\n",
       "region            0\n",
       "crime_rate        0\n",
       "dtype: int64"
      ]
     },
     "execution_count": 5,
     "metadata": {},
     "output_type": "execute_result"
    }
   ],
   "source": [
    "x.isnull().sum()"
   ]
  },
  {
   "cell_type": "code",
   "execution_count": 6,
   "id": "39ac5a13",
   "metadata": {},
   "outputs": [
    {
     "data": {
      "text/plain": [
       "<bound method NDFrame.head of     land_area  percent_city  percent_senior  physicians  hospital_beds  \\\n",
       "0        1384          78.1            12.3       25627          69678   \n",
       "1        3719          43.9             9.4       13326          43292   \n",
       "2        3553          37.4            10.7        9724          33731   \n",
       "3        3916          29.9             8.8        6402          24167   \n",
       "4        2480          31.5            10.5        8502          16751   \n",
       "..        ...           ...             ...         ...            ...   \n",
       "94       1511          38.7            10.7         348           1093   \n",
       "95       1543          39.6             8.1         159            481   \n",
       "96       1011          37.8            10.5         264            964   \n",
       "97        813          13.4            10.9         371           4355   \n",
       "98        654          28.8             3.9         140           1296   \n",
       "\n",
       "    graduates  work_force  income  region  crime_rate  \n",
       "0        50.1      4083.9   72100       1       75.55  \n",
       "1        53.9      3305.9   54542       2       56.03  \n",
       "2        50.6      2066.3   33216       1       41.32  \n",
       "3        52.2      1966.7   32906       2       67.38  \n",
       "4        66.1      1514.5   26573       4       80.19  \n",
       "..        ...         ...     ...     ...         ...  \n",
       "94       50.4       127.2    1452       4       70.66  \n",
       "95       30.3        80.6     769       3       36.36  \n",
       "96       70.7        93.2    1337       3       60.16  \n",
       "97       58.0        97.0    1589       1       36.33  \n",
       "98       55.1        66.9    1148       3       68.76  \n",
       "\n",
       "[99 rows x 10 columns]>"
      ]
     },
     "execution_count": 6,
     "metadata": {},
     "output_type": "execute_result"
    }
   ],
   "source": [
    "x.head"
   ]
  },
  {
   "cell_type": "code",
   "execution_count": 8,
   "id": "9009d491",
   "metadata": {},
   "outputs": [
    {
     "data": {
      "image/png": "[encoded data removed]",
      "text/plain": [
       "<Figure size 432x288 with 1 Axes>"
      ]
     },
     "metadata": {
      "needs_background": "light"
     },
     "output_type": "display_data"
    }
   ],
   "source": [
    "import matplotlib.pyplot as plt\n",
    "plt.plot(x.land_area, x.crime_rate)\n",
    "plt.show()"
   ]
  },
  {
   "cell_type": "code",
   "execution_count": 9,
   "id": "89b9e375",
   "metadata": {},
   "outputs": [
    {
     "data": {
      "image/png": "[encoded data removed]",
      "text/plain": [
       "<Figure size 432x288 with 1 Axes>"
      ]
     },
     "metadata": {
      "needs_background": "light"
     },
     "output_type": "display_data"
    }
   ],
   "source": [
    "plt.plot(x.crime_rate, x.land_area)\n",
    "plt.show()"
   ]
  },
  {
   "cell_type": "code",
   "execution_count": 10,
   "id": "d7c40313",
   "metadata": {},
   "outputs": [
    {
     "data": {
      "text/plain": [
       "<matplotlib.collections.PathCollection at 0x1e8272a6b80>"
      ]
     },
     "execution_count": 10,
     "metadata": {},
     "output_type": "execute_result"
    },
    {
     "data": {
      "image/png": "[encoded data removed]",
      "text/plain": [
       "<Figure size 432x288 with 1 Axes>"
      ]
     },
     "metadata": {
      "needs_background": "light"
     },
     "output_type": "display_data"
    }
   ],
   "source": [
    "plt.scatter(x.hospital_beds, x.physicians)"
   ]
  },
  {
   "cell_type": "code",
   "execution_count": 12,
   "id": "7c312150",
   "metadata": {},
   "outputs": [
    {
     "data": {
      "text/plain": [
       "<BarContainer object of 99 artists>"
      ]
     },
     "execution_count": 12,
     "metadata": {},
     "output_type": "execute_result"
    },
    {
     "data": {
      "image/png": "[encoded data removed]",
      "text/plain": [
       "<Figure size 432x288 with 1 Axes>"
      ]
     },
     "metadata": {
      "needs_background": "light"
     },
     "output_type": "display_data"
    }
   ],
   "source": [
    "plt.bar(x.region, x.land_area)"
   ]
  },
  {
   "cell_type": "code",
   "execution_count": null,
   "id": "ab3aafcc",
   "metadata": {},
   "outputs": [],
   "source": []
  }
 ],
 "metadata": {
  "kernelspec": {
   "display_name": "Python 3",
   "language": "python",
   "name": "python3"
  },
  "language_info": {
   "codemirror_mode": {
    "name": "ipython",
    "version": 3
   },
   "file_extension": ".py",
   "mimetype": "text/x-python",
   "name": "python",
   "nbconvert_exporter": "python",
   "pygments_lexer": "ipython3",
   "version": "3.8.8"
  }
 },
 "nbformat": 4,
 "nbformat_minor": 5
}
